{
  "cells": [
    {
      "cell_type": "markdown",
      "metadata": {
        "id": "4ABlUXmpEelf"
      },
      "source": [
        "# Домашнее задание №3\n",
        "\n",
        "Это задание состоит из двух сюжетов:\n",
        "\n",
        "1) Workflow ML-модели. Несложный код, который вы пишете всегда - чтобы обучить модель от начала (загрузка данных) и до конца (оценка качества и улучшение модели).\n",
        "\n",
        "2) Самостоятельная реализация различных способов кодирования категориальных признаков - полезное упражнение для понимания кодировок (в дальнейшем будем использовать готовые функции)."
      ]
    },
    {
      "cell_type": "markdown",
      "metadata": {
        "id": "bDSj0gZrEelk"
      },
      "source": [
        "## <font color='green'>Часть 1. ML workflow (**всего 5 баллов**)</font>"
      ]
    },
    {
      "cell_type": "code",
      "execution_count": null,
      "metadata": {
        "id": "WTDbOAdgEell"
      },
      "outputs": [],
      "source": [
        "import numpy as np\n",
        "import pandas as pd\n",
        "from sklearn.model_selection import train_test_split, cross_val_score, GridSearchCV\n",
        "\n",
        "from sklearn.linear_model import LinearRegression\n",
        "from sklearn.tree import DecisionTreeRegressor\n",
        "\n",
        "from sklearn.metrics import mean_squared_error, r2_score\n",
        "\n",
        "from sklearn.preprocessing import PolynomialFeatures\n",
        "from sklearn.pipeline import Pipeline\n",
        "\n",
        "from itertools import product"
      ]
    },
    {
      "cell_type": "markdown",
      "metadata": {
        "id": "mz7j_bOWEelm"
      },
      "source": [
        "### Загрузим данные для работы. "
      ]
    },
    {
      "cell_type": "code",
      "execution_count": null,
      "metadata": {
        "id": "ea4JbEZwEelm",
        "outputId": "3d20553a-0af1-4b82-d1a1-ab0d441e7567"
      },
      "outputs": [
        {
          "name": "stdout",
          "output_type": "stream",
          "text": [
            ".. _diabetes_dataset:\n",
            "\n",
            "Diabetes dataset\n",
            "----------------\n",
            "\n",
            "Ten baseline variables, age, sex, body mass index, average blood\n",
            "pressure, and six blood serum measurements were obtained for each of n =\n",
            "442 diabetes patients, as well as the response of interest, a\n",
            "quantitative measure of disease progression one year after baseline.\n",
            "\n",
            "**Data Set Characteristics:**\n",
            "\n",
            "  :Number of Instances: 442\n",
            "\n",
            "  :Number of Attributes: First 10 columns are numeric predictive values\n",
            "\n",
            "  :Target: Column 11 is a quantitative measure of disease progression one year after baseline\n",
            "\n",
            "  :Attribute Information:\n",
            "      - age     age in years\n",
            "      - sex\n",
            "      - bmi     body mass index\n",
            "      - bp      average blood pressure\n",
            "      - s1      tc, total serum cholesterol\n",
            "      - s2      ldl, low-density lipoproteins\n",
            "      - s3      hdl, high-density lipoproteins\n",
            "      - s4      tch, total cholesterol / HDL\n",
            "      - s5      ltg, possibly log of serum triglycerides level\n",
            "      - s6      glu, blood sugar level\n",
            "\n",
            "Note: Each of these 10 feature variables have been mean centered and scaled by the standard deviation times the square root of `n_samples` (i.e. the sum of squares of each column totals 1).\n",
            "\n",
            "Source URL:\n",
            "https://www4.stat.ncsu.edu/~boos/var.select/diabetes.html\n",
            "\n",
            "For more information see:\n",
            "Bradley Efron, Trevor Hastie, Iain Johnstone and Robert Tibshirani (2004) \"Least Angle Regression,\" Annals of Statistics (with discussion), 407-499.\n",
            "(https://web.stanford.edu/~hastie/Papers/LARS/LeastAngle_2002.pdf)\n",
            "\n"
          ]
        },
        {
          "data": {
            "text/html": [
              "<div>\n",
              "<style scoped>\n",
              "    .dataframe tbody tr th:only-of-type {\n",
              "        vertical-align: middle;\n",
              "    }\n",
              "\n",
              "    .dataframe tbody tr th {\n",
              "        vertical-align: top;\n",
              "    }\n",
              "\n",
              "    .dataframe thead th {\n",
              "        text-align: right;\n",
              "    }\n",
              "</style>\n",
              "<table border=\"1\" class=\"dataframe\">\n",
              "  <thead>\n",
              "    <tr style=\"text-align: right;\">\n",
              "      <th></th>\n",
              "      <th>age</th>\n",
              "      <th>sex</th>\n",
              "      <th>bmi</th>\n",
              "      <th>bp</th>\n",
              "      <th>s1</th>\n",
              "      <th>s2</th>\n",
              "      <th>s3</th>\n",
              "      <th>s4</th>\n",
              "      <th>s5</th>\n",
              "      <th>s6</th>\n",
              "      <th>target</th>\n",
              "    </tr>\n",
              "  </thead>\n",
              "  <tbody>\n",
              "    <tr>\n",
              "      <th>0</th>\n",
              "      <td>0.038076</td>\n",
              "      <td>0.050680</td>\n",
              "      <td>0.061696</td>\n",
              "      <td>0.021872</td>\n",
              "      <td>-0.044223</td>\n",
              "      <td>-0.034821</td>\n",
              "      <td>-0.043401</td>\n",
              "      <td>-0.002592</td>\n",
              "      <td>0.019907</td>\n",
              "      <td>-0.017646</td>\n",
              "      <td>151.0</td>\n",
              "    </tr>\n",
              "    <tr>\n",
              "      <th>1</th>\n",
              "      <td>-0.001882</td>\n",
              "      <td>-0.044642</td>\n",
              "      <td>-0.051474</td>\n",
              "      <td>-0.026328</td>\n",
              "      <td>-0.008449</td>\n",
              "      <td>-0.019163</td>\n",
              "      <td>0.074412</td>\n",
              "      <td>-0.039493</td>\n",
              "      <td>-0.068332</td>\n",
              "      <td>-0.092204</td>\n",
              "      <td>75.0</td>\n",
              "    </tr>\n",
              "    <tr>\n",
              "      <th>2</th>\n",
              "      <td>0.085299</td>\n",
              "      <td>0.050680</td>\n",
              "      <td>0.044451</td>\n",
              "      <td>-0.005670</td>\n",
              "      <td>-0.045599</td>\n",
              "      <td>-0.034194</td>\n",
              "      <td>-0.032356</td>\n",
              "      <td>-0.002592</td>\n",
              "      <td>0.002861</td>\n",
              "      <td>-0.025930</td>\n",
              "      <td>141.0</td>\n",
              "    </tr>\n",
              "    <tr>\n",
              "      <th>3</th>\n",
              "      <td>-0.089063</td>\n",
              "      <td>-0.044642</td>\n",
              "      <td>-0.011595</td>\n",
              "      <td>-0.036656</td>\n",
              "      <td>0.012191</td>\n",
              "      <td>0.024991</td>\n",
              "      <td>-0.036038</td>\n",
              "      <td>0.034309</td>\n",
              "      <td>0.022688</td>\n",
              "      <td>-0.009362</td>\n",
              "      <td>206.0</td>\n",
              "    </tr>\n",
              "    <tr>\n",
              "      <th>4</th>\n",
              "      <td>0.005383</td>\n",
              "      <td>-0.044642</td>\n",
              "      <td>-0.036385</td>\n",
              "      <td>0.021872</td>\n",
              "      <td>0.003935</td>\n",
              "      <td>0.015596</td>\n",
              "      <td>0.008142</td>\n",
              "      <td>-0.002592</td>\n",
              "      <td>-0.031988</td>\n",
              "      <td>-0.046641</td>\n",
              "      <td>135.0</td>\n",
              "    </tr>\n",
              "  </tbody>\n",
              "</table>\n",
              "</div>"
            ],
            "text/plain": [
              "        age       sex       bmi        bp        s1        s2        s3  \\\n",
              "0  0.038076  0.050680  0.061696  0.021872 -0.044223 -0.034821 -0.043401   \n",
              "1 -0.001882 -0.044642 -0.051474 -0.026328 -0.008449 -0.019163  0.074412   \n",
              "2  0.085299  0.050680  0.044451 -0.005670 -0.045599 -0.034194 -0.032356   \n",
              "3 -0.089063 -0.044642 -0.011595 -0.036656  0.012191  0.024991 -0.036038   \n",
              "4  0.005383 -0.044642 -0.036385  0.021872  0.003935  0.015596  0.008142   \n",
              "\n",
              "         s4        s5        s6  target  \n",
              "0 -0.002592  0.019907 -0.017646   151.0  \n",
              "1 -0.039493 -0.068332 -0.092204    75.0  \n",
              "2 -0.002592  0.002861 -0.025930   141.0  \n",
              "3  0.034309  0.022688 -0.009362   206.0  \n",
              "4 -0.002592 -0.031988 -0.046641   135.0  "
            ]
          },
          "execution_count": 10,
          "metadata": {},
          "output_type": "execute_result"
        }
      ],
      "source": [
        "from sklearn.datasets import load_diabetes\n",
        "\n",
        "data = load_diabetes(as_frame=True)\n",
        "print(data.DESCR)\n",
        "df = data.frame\n",
        "df.head()"
      ]
    },
    {
      "cell_type": "markdown",
      "metadata": {
        "id": "D5Xyb4eZEeln"
      },
      "source": [
        "Будем решать задачу регрессии: необходимо предсказать уровень сахара в крови по характеристикам пациентов\n",
        "\n",
        "### Шаг 1.  (**0.2 балла**)\n",
        "Создайте матрицу X объект-признак и целевой вектор y (\"target\")"
      ]
    },
    {
      "cell_type": "code",
      "execution_count": null,
      "metadata": {
        "id": "aVc-gvWvEeln"
      },
      "outputs": [],
      "source": [
        "#your code here"
      ]
    },
    {
      "cell_type": "markdown",
      "metadata": {
        "id": "dfR9iB3kEelo"
      },
      "source": [
        "### Шаг 2. (**0.2 балла**)\n",
        "Разбейте данные на train и test (доля тестовых данных - 30%)."
      ]
    },
    {
      "cell_type": "code",
      "execution_count": null,
      "metadata": {
        "id": "0292PnKMEelo"
      },
      "outputs": [],
      "source": [
        "#your code here"
      ]
    },
    {
      "cell_type": "markdown",
      "metadata": {
        "id": "dC8TjuESEelp"
      },
      "source": [
        "### Шаг 3. (**0.2 балла**)\n",
        "Обучите линейную регрессию на тренировочных данных и сделайте предсказания на train и на test."
      ]
    },
    {
      "cell_type": "code",
      "execution_count": null,
      "metadata": {
        "id": "uXL-FvdCEelp"
      },
      "outputs": [],
      "source": [
        "#your code here"
      ]
    },
    {
      "cell_type": "markdown",
      "metadata": {
        "id": "uEJ5pU42Eelp"
      },
      "source": [
        "### Шаг 4. (**0.4 балла**)\n",
        "Выведите на экран ошибку MSE на train и на test, затем выведите на экран ошибку r2 на train и test.  "
      ]
    },
    {
      "cell_type": "code",
      "execution_count": null,
      "metadata": {
        "id": "PPEJaGGeEelq"
      },
      "outputs": [],
      "source": [
        "#your code here"
      ]
    },
    {
      "cell_type": "markdown",
      "metadata": {
        "id": "h0HvfpLSEelq"
      },
      "source": [
        "### Шаг 5. (**0.5 балла**)\n",
        "Вычислите среднее качество (r2) модели на кросс-валидации с k=5 фолдами."
      ]
    },
    {
      "cell_type": "code",
      "execution_count": null,
      "metadata": {
        "id": "__3pSpZPEelr"
      },
      "outputs": [],
      "source": [
        "#your code here"
      ]
    },
    {
      "cell_type": "markdown",
      "metadata": {
        "id": "CgHRah1OEelr"
      },
      "source": [
        "### Шаг 6.  (**0.5 балла**)\n",
        "Теперь примените линейную регрессию с L1-регуляризацией (Lasso) для данной задачи. Объявите модель и подберите параметр регуляризации alpha по сетке. Ищите alpha в диапазоне (0.1, 1.1) с шагом 0.1. \n",
        "\n",
        "Осуществите подбор параметра alpha по тренировочным данным (Xtrain, ytrain)."
      ]
    },
    {
      "cell_type": "code",
      "execution_count": null,
      "metadata": {
        "id": "V7LnIq_wEels"
      },
      "outputs": [],
      "source": [
        "from sklearn.linear_model import Lasso\n",
        "\n",
        "#your code here"
      ]
    },
    {
      "cell_type": "markdown",
      "metadata": {
        "id": "HJUFHkJqEels"
      },
      "source": [
        "### Шаг 7.  (**0.5 балла**)\n",
        "Выведите наилучший алгоритм и наилучшее качество по результатам подбора alpha (best_estimator_ и best_score_)."
      ]
    },
    {
      "cell_type": "code",
      "execution_count": null,
      "metadata": {
        "id": "4xeMXMnVEels"
      },
      "outputs": [],
      "source": [
        "#your code here"
      ]
    },
    {
      "cell_type": "markdown",
      "metadata": {
        "id": "A_B1SmLaEelt"
      },
      "source": [
        "### Шаг 8.  (**0.5 балла**)\n",
        "\n",
        "С помощью найденного best_estimator_ сделайте предсказание на тестовых данных и выведите на экран r2-score на тесте."
      ]
    },
    {
      "cell_type": "code",
      "execution_count": null,
      "metadata": {
        "id": "QXAP7OGWEelt"
      },
      "outputs": [],
      "source": [
        "#your code here"
      ]
    },
    {
      "cell_type": "markdown",
      "metadata": {
        "id": "mxRa9O7XEelt"
      },
      "source": [
        "### Шаг 9.  (**0.5 балла**)\n",
        "\n",
        "Попробуем улучшить качество модели за счет добавления полиномиальных признаков. Создайте pipeline, состоящий из добавления полиномиальных признаков степени 2, а затем применения линейной регрессии.\n",
        "\n",
        "Затем вычислите r2-score этой модели на кросс валидации с пятью фолдами."
      ]
    },
    {
      "cell_type": "code",
      "execution_count": null,
      "metadata": {
        "id": "ItTHG-RwEelu"
      },
      "outputs": [],
      "source": [
        "from sklearn.preprocessing import StandardScaler\n",
        "\n",
        "#your code here"
      ]
    },
    {
      "cell_type": "markdown",
      "metadata": {
        "id": "9VRot7LgEelu"
      },
      "source": [
        "### Шаг 10.  (**0.5 балла**)\n",
        "Обучите модель (pipeline) на тренировочных данных и сделайте предсказания для train и test, затем выведите на экран r2-score и MSE на тренировочных и на тестовых данных."
      ]
    },
    {
      "cell_type": "code",
      "execution_count": null,
      "metadata": {
        "id": "wCIc36nPEelu"
      },
      "outputs": [],
      "source": [
        "#your code here"
      ]
    },
    {
      "cell_type": "markdown",
      "metadata": {
        "id": "5JLq3jpMEelv"
      },
      "source": [
        "### Сделайте выводы. Для этого ответьте на вопросы: (**1 балл**)\n",
        "\n",
        "1) Хорошее ли качество показала исходная модель (линейная регрессия без регуляризации)? Является ли эта модель переобученной?\n",
        "\n",
        "2) Помогла ли L1-регуляризация улучшить качество модели?\n",
        "\n",
        "3) Помогло ли добавление полиномов второй степени улучшить качество модели? Как добавление новых признаков повлияло на переобучение?"
      ]
    },
    {
      "cell_type": "code",
      "execution_count": null,
      "metadata": {
        "id": "vo4Lc-UgEelv"
      },
      "outputs": [],
      "source": [
        "#your answer here"
      ]
    },
    {
      "cell_type": "markdown",
      "metadata": {
        "id": "0keNWoGAEelv"
      },
      "source": [
        "### *Попытайтесь улучшить модель (добейтесь наилучшего качества) - можно использовать любые методы \n",
        "(**дополнительно 1 балл**)"
      ]
    },
    {
      "cell_type": "code",
      "execution_count": null,
      "metadata": {
        "id": "mRidqC_ZEelw"
      },
      "outputs": [],
      "source": [
        "#your code here"
      ]
    },
    {
      "cell_type": "markdown",
      "metadata": {
        "id": "LOO6hnZDEelw"
      },
      "source": [
        "## <font color='green'>Часть 2. Target encoding (**всего 5 баллов**)</font>"
      ]
    },
    {
      "cell_type": "markdown",
      "metadata": {
        "id": "d7461c8WEelw"
      },
      "source": [
        "В этом части домашнего задания вы будете работать с выборкой `1C`. Вам нужно посчитать счетчики для `item_id` четырьмя способами:\n",
        "\n",
        "    1) При помощи KFold схемы;  \n",
        "    2) При помощи Leave-one-out схемы;\n",
        "    3) При помощи smoothing схемы;\n",
        "    4) При помощи expanding mean схемы."
      ]
    },
    {
      "cell_type": "markdown",
      "metadata": {
        "id": "x2adkqr4Eelw"
      },
      "source": [
        "### Подготовка данных"
      ]
    },
    {
      "cell_type": "code",
      "execution_count": null,
      "metadata": {
        "id": "7aIp8KVmEelw",
        "outputId": "750942a5-8ca4-4dfe-dae8-57692dc3491d"
      },
      "outputs": [
        {
          "data": {
            "text/html": [
              "<div>\n",
              "<style scoped>\n",
              "    .dataframe tbody tr th:only-of-type {\n",
              "        vertical-align: middle;\n",
              "    }\n",
              "\n",
              "    .dataframe tbody tr th {\n",
              "        vertical-align: top;\n",
              "    }\n",
              "\n",
              "    .dataframe thead th {\n",
              "        text-align: right;\n",
              "    }\n",
              "</style>\n",
              "<table border=\"1\" class=\"dataframe\">\n",
              "  <thead>\n",
              "    <tr style=\"text-align: right;\">\n",
              "      <th></th>\n",
              "      <th>date</th>\n",
              "      <th>date_block_num</th>\n",
              "      <th>shop_id</th>\n",
              "      <th>item_id</th>\n",
              "      <th>item_price</th>\n",
              "      <th>target</th>\n",
              "    </tr>\n",
              "  </thead>\n",
              "  <tbody>\n",
              "    <tr>\n",
              "      <th>0</th>\n",
              "      <td>02.01.2013</td>\n",
              "      <td>0</td>\n",
              "      <td>59</td>\n",
              "      <td>22154</td>\n",
              "      <td>999.00</td>\n",
              "      <td>1.0</td>\n",
              "    </tr>\n",
              "    <tr>\n",
              "      <th>1</th>\n",
              "      <td>03.01.2013</td>\n",
              "      <td>0</td>\n",
              "      <td>25</td>\n",
              "      <td>2552</td>\n",
              "      <td>899.00</td>\n",
              "      <td>1.0</td>\n",
              "    </tr>\n",
              "    <tr>\n",
              "      <th>2</th>\n",
              "      <td>05.01.2013</td>\n",
              "      <td>0</td>\n",
              "      <td>25</td>\n",
              "      <td>2552</td>\n",
              "      <td>899.00</td>\n",
              "      <td>-1.0</td>\n",
              "    </tr>\n",
              "    <tr>\n",
              "      <th>3</th>\n",
              "      <td>06.01.2013</td>\n",
              "      <td>0</td>\n",
              "      <td>25</td>\n",
              "      <td>2554</td>\n",
              "      <td>1709.05</td>\n",
              "      <td>1.0</td>\n",
              "    </tr>\n",
              "    <tr>\n",
              "      <th>4</th>\n",
              "      <td>15.01.2013</td>\n",
              "      <td>0</td>\n",
              "      <td>25</td>\n",
              "      <td>2555</td>\n",
              "      <td>1099.00</td>\n",
              "      <td>1.0</td>\n",
              "    </tr>\n",
              "    <tr>\n",
              "      <th>...</th>\n",
              "      <td>...</td>\n",
              "      <td>...</td>\n",
              "      <td>...</td>\n",
              "      <td>...</td>\n",
              "      <td>...</td>\n",
              "      <td>...</td>\n",
              "    </tr>\n",
              "    <tr>\n",
              "      <th>2935844</th>\n",
              "      <td>10.10.2015</td>\n",
              "      <td>33</td>\n",
              "      <td>25</td>\n",
              "      <td>7409</td>\n",
              "      <td>299.00</td>\n",
              "      <td>1.0</td>\n",
              "    </tr>\n",
              "    <tr>\n",
              "      <th>2935845</th>\n",
              "      <td>09.10.2015</td>\n",
              "      <td>33</td>\n",
              "      <td>25</td>\n",
              "      <td>7460</td>\n",
              "      <td>299.00</td>\n",
              "      <td>1.0</td>\n",
              "    </tr>\n",
              "    <tr>\n",
              "      <th>2935846</th>\n",
              "      <td>14.10.2015</td>\n",
              "      <td>33</td>\n",
              "      <td>25</td>\n",
              "      <td>7459</td>\n",
              "      <td>349.00</td>\n",
              "      <td>1.0</td>\n",
              "    </tr>\n",
              "    <tr>\n",
              "      <th>2935847</th>\n",
              "      <td>22.10.2015</td>\n",
              "      <td>33</td>\n",
              "      <td>25</td>\n",
              "      <td>7440</td>\n",
              "      <td>299.00</td>\n",
              "      <td>1.0</td>\n",
              "    </tr>\n",
              "    <tr>\n",
              "      <th>2935848</th>\n",
              "      <td>03.10.2015</td>\n",
              "      <td>33</td>\n",
              "      <td>25</td>\n",
              "      <td>7460</td>\n",
              "      <td>299.00</td>\n",
              "      <td>1.0</td>\n",
              "    </tr>\n",
              "  </tbody>\n",
              "</table>\n",
              "<p>2935849 rows × 6 columns</p>\n",
              "</div>"
            ],
            "text/plain": [
              "               date  date_block_num  shop_id  item_id  item_price  target\n",
              "0        02.01.2013               0       59    22154      999.00     1.0\n",
              "1        03.01.2013               0       25     2552      899.00     1.0\n",
              "2        05.01.2013               0       25     2552      899.00    -1.0\n",
              "3        06.01.2013               0       25     2554     1709.05     1.0\n",
              "4        15.01.2013               0       25     2555     1099.00     1.0\n",
              "...             ...             ...      ...      ...         ...     ...\n",
              "2935844  10.10.2015              33       25     7409      299.00     1.0\n",
              "2935845  09.10.2015              33       25     7460      299.00     1.0\n",
              "2935846  14.10.2015              33       25     7459      349.00     1.0\n",
              "2935847  22.10.2015              33       25     7440      299.00     1.0\n",
              "2935848  03.10.2015              33       25     7460      299.00     1.0\n",
              "\n",
              "[2935849 rows x 6 columns]"
            ]
          },
          "execution_count": 5,
          "metadata": {},
          "output_type": "execute_result"
        }
      ],
      "source": [
        "sales = pd.read_csv('sales_train.csv.gz')\n",
        "sales.columns = ['date', 'date_block_num', 'shop_id', 'item_id', 'item_price', 'target']\n",
        "sales"
      ]
    },
    {
      "cell_type": "code",
      "execution_count": null,
      "metadata": {
        "id": "pzulvx1mEelw"
      },
      "outputs": [],
      "source": [
        "index_cols = ['shop_id', 'item_id', 'date_block_num']\n",
        "\n",
        "# For every month we create a grid from all shops/items combinations from that month\n",
        "grid = [] \n",
        "for block_num in sales['date_block_num'].unique():\n",
        "    cur_shops = sales[sales['date_block_num']==block_num]['shop_id'].unique()\n",
        "    cur_items = sales[sales['date_block_num']==block_num]['item_id'].unique()\n",
        "    grid.append(np.array(list(product(*[cur_shops, cur_items, [block_num]])),dtype='int32'))\n",
        "\n",
        "#turn the grid into pandas dataframe\n",
        "grid = pd.DataFrame(np.vstack(grid), columns = index_cols,dtype=np.int32)\n",
        "\n",
        "#get aggregated values for (shop_id, item_id, month)\n",
        "gb = sales.groupby(index_cols,as_index=False).agg({'target':'sum'})\n",
        "\n",
        "#join aggregated data to the grid\n",
        "all_data = pd.merge(grid,gb,how='left',on=index_cols).fillna(0)\n",
        "#sort the data\n",
        "all_data.sort_values(['date_block_num','shop_id','item_id'],inplace=True)"
      ]
    },
    {
      "cell_type": "markdown",
      "metadata": {
        "id": "1cjaBj1PEelx"
      },
      "source": [
        "### Mean encodings без регуляризации"
      ]
    },
    {
      "cell_type": "markdown",
      "metadata": {
        "id": "uXPnY2IMEelx"
      },
      "source": [
        "После проделанной технической работы, мы готовы посчитать счетчики для переменной `item_id`. \n",
        "\n",
        "Ниже приведены две реализации подсчета счетчиков без регуляризации. Можно использовать данный код в качестве стартовой точки для реализации различных техник регуляризации."
      ]
    },
    {
      "cell_type": "markdown",
      "metadata": {
        "id": "8Q4LWIvcEelx"
      },
      "source": [
        "#### Способ 1"
      ]
    },
    {
      "cell_type": "code",
      "execution_count": null,
      "metadata": {
        "id": "C4Mw44U7Eelx",
        "outputId": "ad731979-9e6f-4836-bad5-a6ffa119ca31"
      },
      "outputs": [
        {
          "name": "stdout",
          "output_type": "stream",
          "text": [
            "0.4830386988621699\n"
          ]
        }
      ],
      "source": [
        "# Calculate a mapping: {item_id: target_mean}\n",
        "item_id_target_mean = all_data.groupby('item_id').target.mean()\n",
        "\n",
        "# In our non-regularized case we just *map* the computed means to the `item_id`'s\n",
        "all_data['item_target_enc'] = all_data['item_id'].map(item_id_target_mean)\n",
        "\n",
        "# Fill NaNs\n",
        "all_data['item_target_enc'].fillna(0.3343, inplace=True) \n",
        "\n",
        "# Print correlation\n",
        "encoded_feature = all_data['item_target_enc'].values\n",
        "print(np.corrcoef(all_data['target'].values, encoded_feature)[0][1])"
      ]
    },
    {
      "cell_type": "markdown",
      "metadata": {
        "id": "jyCXfL59Eelx"
      },
      "source": [
        "#### Способ 2"
      ]
    },
    {
      "cell_type": "code",
      "execution_count": null,
      "metadata": {
        "id": "YZksA7jLEelx",
        "outputId": "a527b931-be43-45d0-edc8-2f9e68190cd2"
      },
      "outputs": [
        {
          "name": "stdout",
          "output_type": "stream",
          "text": [
            "0.4830386988621699\n"
          ]
        }
      ],
      "source": [
        "'''\n",
        "     Differently to `.target.mean()` function `transform` \n",
        "   will return a dataframe with an index like in `all_data`.\n",
        "   Basically this single line of code is equivalent to the first two lines from of Method 1.\n",
        "'''\n",
        "all_data['item_target_enc'] = all_data.groupby('item_id')['target'].transform('mean')\n",
        "\n",
        "# Fill NaNs\n",
        "all_data['item_target_enc'].fillna(0.3343, inplace=True) \n",
        "\n",
        "# Print correlation\n",
        "encoded_feature = all_data['item_target_enc'].values\n",
        "print(np.corrcoef(all_data['target'].values, encoded_feature)[0][1])"
      ]
    },
    {
      "cell_type": "markdown",
      "metadata": {
        "id": "qS4Zznh5Eely"
      },
      "source": [
        "###  KFold схема (**1.25 балла**)"
      ]
    },
    {
      "cell_type": "markdown",
      "metadata": {
        "id": "TowyTaAVEely"
      },
      "source": [
        "Необходимо реализовать Kfold схему с пятью фолдами. Используйте KFold(5) из sklearn.model_selection. \n",
        "\n",
        "1. Разбейте данные на 5 фолдов при помощи `sklearn.model_selection.KFold` с параметром `shuffle=False`.\n",
        "2. Проитерируйтесь по фолдам: используйте 4 обучающих фолда для подсчета средних значений таргета по `item_id` и заполните этими значениями валидационный фолд на каждой итерации.\n",
        "\n",
        "Обратите внимание на **Способ 1** из примера. В частности, изучите, как работают функции map и pd.Series.map. Они довольно полезны во многих ситуациях. "
      ]
    },
    {
      "cell_type": "code",
      "execution_count": null,
      "metadata": {
        "id": "ExaiSFkLEely"
      },
      "outputs": [],
      "source": [
        "# YOUR CODE GOES HERE\n",
        "\n",
        "# You will need to compute correlation like that\n",
        "corr = np.corrcoef(all_data['target'].values, encoded_feature)[0][1]\n",
        "print(corr)"
      ]
    },
    {
      "cell_type": "markdown",
      "metadata": {
        "id": "1HvhNB9-Eely"
      },
      "source": [
        "Ожидаемый ответ 0.4165"
      ]
    },
    {
      "cell_type": "markdown",
      "metadata": {
        "id": "86LRYRQpEely"
      },
      "source": [
        "### Leave-one-out схема (**1.25 балла**)"
      ]
    },
    {
      "cell_type": "markdown",
      "metadata": {
        "id": "5WfiZVsqEely"
      },
      "source": [
        "Необходимо реализовать leave-one-out схему . Учтите, если вы запустите код из первого задания, задав количество фолдов такое же как размер выборки, то вы, вероятно, получите правильный ответ, но ждать будете очень-очень долго.\n",
        "\n",
        "Для более быстрой реализации подсчета среднего таргета на всех объектах, кроме одного, вы можете:\n",
        "\n",
        "1. Вычислить суммарный таргет по всем объектам.\n",
        "2. Вычесть таргет конкретного объекта и разделить результат на `n_objects - 1`. \n",
        "\n",
        "Заметим, что пункт `1.` следует сделать для всех объектов. Также заметим, что пункт `2.` может быть реализован без циклов `for`.\n",
        "\n",
        "Здесь может оказаться полезной функция .transform из **Способа 2** из примера."
      ]
    },
    {
      "cell_type": "code",
      "execution_count": null,
      "metadata": {
        "id": "dwrbCOaKEely"
      },
      "outputs": [],
      "source": [
        "# YOUR CODE GOES HERE\n",
        "\n",
        "corr = np.corrcoef(all_data['target'].values, encoded_feature)[0][1]\n",
        "print(corr)"
      ]
    },
    {
      "cell_type": "markdown",
      "metadata": {
        "id": "-2PEW89jEely"
      },
      "source": [
        "Ожидаемый ответ 0.4803"
      ]
    },
    {
      "cell_type": "markdown",
      "metadata": {
        "id": "YsdYhLMIEely"
      },
      "source": [
        "### Smoothing (**1.25 балла**)"
      ]
    },
    {
      "cell_type": "markdown",
      "metadata": {
        "id": "GFgQvbXuEelz"
      },
      "source": [
        "Необходимо реализовать smoothing с $\\alpha = 100$. Используйте формулу:\n",
        "\n",
        "$\\frac{mean(target) \\cdot nrows + globalmean \\cdot \\alpha }{nrows + \\alpha}$,\n",
        "\n",
        "где $globalmean=0.3343$. Заметим, что `nrows` - это количество объектов, принадлежащих конктертной категории, а не количество строк в датасете."
      ]
    },
    {
      "cell_type": "code",
      "execution_count": null,
      "metadata": {
        "id": "U_96NwXREelz"
      },
      "outputs": [],
      "source": [
        "# YOUR CODE GOES HERE\n",
        "\n",
        "corr = np.corrcoef(all_data['target'].values, encoded_feature)[0][1]\n",
        "print(corr)"
      ]
    },
    {
      "cell_type": "markdown",
      "metadata": {
        "id": "Kl4v0GvjEelz"
      },
      "source": [
        "Ожидаемый ответ 0.4818"
      ]
    },
    {
      "cell_type": "markdown",
      "metadata": {
        "id": "9m4UDCZkEelz"
      },
      "source": [
        "### Expanding mean схема (**1.25 балла**)"
      ]
    },
    {
      "cell_type": "markdown",
      "metadata": {
        "id": "njLKPUYhEelz"
      },
      "source": [
        "Необходимо реализовать *expanding mean* схему. Ее суть заключается в том, чтобы пройти по отсортированному в определенном порядке датасету (датасет сортируется в самом начале задания) и для подсчета счетчика для строки $m$ использовать строки от $0$ до $m-1$. Вам будет необходимо воспользоваться pandas функциями [`cumsum`](https://pandas.pydata.org/pandas-docs/stable/generated/pandas.core.groupby.DataFrameGroupBy.cumsum.html) и [`cumcount`](https://pandas.pydata.org/pandas-docs/stable/generated/pandas.core.groupby.GroupBy.cumcount.html)."
      ]
    },
    {
      "cell_type": "code",
      "execution_count": null,
      "metadata": {
        "id": "7kekiuJ-Eelz"
      },
      "outputs": [],
      "source": [
        "# YOUR CODE GOES HERE\n",
        "\n",
        "corr = np.corrcoef(all_data['target'].values, encoded_feature)[0][1]\n",
        "print(corr)"
      ]
    },
    {
      "cell_type": "markdown",
      "metadata": {
        "id": "fi5fjGNpEelz"
      },
      "source": [
        "Ожидаемый ответ 0.5025"
      ]
    }
  ],
  "metadata": {
    "kernelspec": {
      "display_name": "base",
      "language": "python",
      "name": "python3"
    },
    "language_info": {
      "codemirror_mode": {
        "name": "ipython",
        "version": 3
      },
      "file_extension": ".py",
      "mimetype": "text/x-python",
      "name": "python",
      "nbconvert_exporter": "python",
      "pygments_lexer": "ipython3",
      "version": "3.10.8"
    },
    "vscode": {
      "interpreter": {
        "hash": "3f20f5863f24dac35637d7f882b531b7edd6cd78621bb359b5b6d94a3de44fe0"
      }
    },
    "colab": {
      "provenance": []
    }
  },
  "nbformat": 4,
  "nbformat_minor": 0
}