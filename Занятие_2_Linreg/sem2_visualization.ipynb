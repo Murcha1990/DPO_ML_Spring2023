{
  "cells": [
    {
      "cell_type": "markdown",
      "metadata": {
        "id": "view-in-github",
        "colab_type": "text"
      },
      "source": [
        "<a href=\"https://colab.research.google.com/github/Murcha1990/DPO_ML_Spring2023/blob/main/%D0%97%D0%B0%D0%BD%D1%8F%D1%82%D0%B8%D0%B5_2_Linreg/sem2_visualization.ipynb\" target=\"_parent\"><img src=\"https://colab.research.google.com/assets/colab-badge.svg\" alt=\"Open In Colab\"/></a>"
      ]
    },
    {
      "cell_type": "markdown",
      "metadata": {
        "id": "qGzx2E_Z-Ucu"
      },
      "source": [
        "# Визуализация данных\n",
        "\n",
        "На семинаре мы будем заниматься построением различных визуализаций. Наша цель - провести **разведочный анализ данных**, чтобы исследовать поведение данных и выявить в них закономерности.\n",
        "\n",
        "Мы продолжим работать с данными о пассажирах Титаника.\n",
        "\n",
        "Цели:\n",
        "* познакомиться с библиотекой seaborn\n",
        "* научиться делать различные визуализации\n",
        "* заполнять пропуски в данных\n",
        "* делать однофакторный анализ\n",
        "* конструировать новые признаки\n",
        "\n",
        "Бонус:\n",
        "* придумаем свою модель на основе проведенного анализа и сравним с результатом работы метода ближайших соседей"
      ]
    },
    {
      "cell_type": "code",
      "execution_count": null,
      "metadata": {
        "id": "TV3flyBi-Ucy"
      },
      "outputs": [],
      "source": [
        "import pandas as pd\n",
        "import numpy as np\n",
        "from matplotlib import pyplot as plt\n",
        "import seaborn as sns\n",
        "\n",
        "%pylab inline"
      ]
    },
    {
      "cell_type": "markdown",
      "metadata": {
        "id": "Vhl8g7Xd-Uc0"
      },
      "source": [
        "Загрузим данные."
      ]
    },
    {
      "cell_type": "code",
      "execution_count": null,
      "metadata": {
        "id": "ibTX8bEI-Uc1"
      },
      "outputs": [],
      "source": [
        "Data = pd.read_csv(\"https://raw.githubusercontent.com/iad34/seminars/master/materials/data_sem1.csv\",\n",
        "                   sep=\";\")"
      ]
    },
    {
      "cell_type": "markdown",
      "metadata": {
        "id": "giKIW2D8-Uc2"
      },
      "source": [
        "**Задание 1.** Выведите на экран размеры таблицы"
      ]
    },
    {
      "cell_type": "code",
      "execution_count": null,
      "metadata": {
        "id": "a8MBXPmu-Uc3"
      },
      "outputs": [],
      "source": [
        "#your code here"
      ]
    },
    {
      "cell_type": "code",
      "execution_count": null,
      "metadata": {
        "id": "_cTUFY0Y-Uc3"
      },
      "outputs": [],
      "source": [
        "Data.head()"
      ]
    },
    {
      "cell_type": "markdown",
      "metadata": {
        "id": "5fmptAc9-Uc4"
      },
      "source": [
        "# Обработка признаков и однофакторный анализ\n",
        "\n",
        "1) Найдем признаки, у которых есть пропущенные значения и обработаем эти пропущенные значения\n",
        "\n",
        "2) Переведём категориальные признаки в числовые"
      ]
    },
    {
      "cell_type": "markdown",
      "metadata": {
        "id": "ubzFQiSx-Uc4"
      },
      "source": [
        "**Задание 2.** Выведите основные числовые характеристики числовых столбцов."
      ]
    },
    {
      "cell_type": "code",
      "execution_count": null,
      "metadata": {
        "id": "h6bytFbp-Uc5"
      },
      "outputs": [],
      "source": [
        "#your code here"
      ]
    },
    {
      "cell_type": "code",
      "execution_count": null,
      "metadata": {
        "id": "WLzHM3Vy-Uc5"
      },
      "outputs": [],
      "source": [
        "Data.head()"
      ]
    },
    {
      "cell_type": "markdown",
      "metadata": {
        "id": "ajM04xpP-Uc6"
      },
      "source": [
        "Функция не позволяет увидеть наличие пропусков в нечисловых столбцах.\n",
        "\n",
        "**Обработаем признак 'Sex'**\n",
        "\n",
        "**Задание 3.** Проверьте, есть ли пропуски в столбце."
      ]
    },
    {
      "cell_type": "code",
      "execution_count": null,
      "metadata": {
        "id": "dpa_IZZq-Uc6"
      },
      "outputs": [],
      "source": [
        "#your code here"
      ]
    },
    {
      "cell_type": "markdown",
      "metadata": {
        "id": "iVl2Ui8J-Uc7"
      },
      "source": [
        "**Задание 4.** Удалите пассажиров неизвестного пола, так как их всего 5."
      ]
    },
    {
      "cell_type": "code",
      "execution_count": null,
      "metadata": {
        "id": "hDWTegpz-Uc7"
      },
      "outputs": [],
      "source": [
        "#your code here"
      ]
    },
    {
      "cell_type": "markdown",
      "metadata": {
        "id": "Z5FHAi0--Uc7"
      },
      "source": [
        "**Задание ***. Подумайте, можно ли как-то узнать пол пассажиров, которые отнесены к категории unknown?"
      ]
    },
    {
      "cell_type": "code",
      "execution_count": null,
      "metadata": {
        "id": "TDOxi-b--Uc8"
      },
      "outputs": [],
      "source": [
        "#your code here"
      ]
    },
    {
      "cell_type": "markdown",
      "metadata": {
        "id": "n1zaU5qF-Uc9"
      },
      "source": [
        "Признак 'Sex' является категориальным, то есть содержит нечисловые значения. Для работы большинства алгоритмов необходимо переводить категории в числа. Как это можно сделать? \n",
        "\n",
        "**Задание 5.** Придумайте кодировку и сделайте её."
      ]
    },
    {
      "cell_type": "code",
      "execution_count": null,
      "metadata": {
        "id": "J6uFZD4O-Uc-"
      },
      "outputs": [],
      "source": [
        "#your code here"
      ]
    },
    {
      "cell_type": "code",
      "execution_count": null,
      "metadata": {
        "id": "fuGOsoaZ-Uc-"
      },
      "outputs": [],
      "source": [
        "Data.head()"
      ]
    },
    {
      "cell_type": "markdown",
      "metadata": {
        "id": "Flr2jXC2-Uc-"
      },
      "source": [
        "Посмотрим, как влияет пол на выживаемость."
      ]
    },
    {
      "cell_type": "code",
      "execution_count": null,
      "metadata": {
        "id": "ScJsb_i9-Uc_"
      },
      "outputs": [],
      "source": [
        "sns.barplot(x='Sex', y='Survived', data=Data, palette='summer')\n",
        "plt.title('Sex - Survived')\n",
        "plt.show()"
      ]
    },
    {
      "cell_type": "markdown",
      "metadata": {
        "id": "KlYqc_dY-Uc_"
      },
      "source": [
        "Посмотрим, как влияет пол человека и класс билета (Pclass) на выживаемость"
      ]
    },
    {
      "cell_type": "code",
      "execution_count": null,
      "metadata": {
        "id": "getoqhkq-Uc_"
      },
      "outputs": [],
      "source": [
        "sns.barplot(x='Sex', y='Survived', hue='Pclass', data=Data, palette='autumn')\n",
        "plt.title('Sex - Survived')\n",
        "plt.show()"
      ]
    },
    {
      "cell_type": "markdown",
      "metadata": {
        "id": "EwNWJdLu-UdA"
      },
      "source": [
        "Ещё один полезный вид визуализации - ящик с усами. Посмотрим на ящик с усами, отражающий распределение пассажиров по полу и возрасту."
      ]
    },
    {
      "cell_type": "code",
      "execution_count": null,
      "metadata": {
        "id": "PgpMUubz-UdA"
      },
      "outputs": [],
      "source": [
        "sns.factorplot(x=\"Sex\", y=\"Age\", data=Data, kind=\"box\") # box plot (box-and-whiskers-plot)\n",
        "plt.show()"
      ]
    },
    {
      "cell_type": "markdown",
      "metadata": {
        "id": "vexnMO99-UdA"
      },
      "source": [
        "Можно детализировать картинку, добавив разделение по Pclass."
      ]
    },
    {
      "cell_type": "code",
      "execution_count": null,
      "metadata": {
        "id": "nhw5NKh_-UdB"
      },
      "outputs": [],
      "source": [
        "sns.factorplot(x=\"Sex\", y=\"Age\",hue =\"Pclass\", data=Data, kind=\"box\")\n",
        "plt.show()"
      ]
    },
    {
      "cell_type": "markdown",
      "metadata": {
        "id": "_wlaFdY--UdB"
      },
      "source": [
        "**Обработаем признак 'Embarked'**"
      ]
    },
    {
      "cell_type": "code",
      "execution_count": null,
      "metadata": {
        "id": "1C5W2HWX-UdB"
      },
      "outputs": [],
      "source": [
        "print(Data['Embarked'].value_counts(dropna=False))\n",
        "Data.shape"
      ]
    },
    {
      "cell_type": "markdown",
      "metadata": {
        "id": "d_VjAv8Z-UdB"
      },
      "source": [
        "**Задание 6.** Удалим из таблицы пассажиров, для которых неизвестен порт посадки (Embarked)."
      ]
    },
    {
      "cell_type": "code",
      "execution_count": null,
      "metadata": {
        "id": "aGmavLi3-UdB"
      },
      "outputs": [],
      "source": [
        "Data.dropna(subset=['Embarked'], inplace=True)\n",
        "Data.shape"
      ]
    },
    {
      "cell_type": "markdown",
      "metadata": {
        "id": "RrNi6lWT-UdC"
      },
      "source": [
        "**Задание 7.** Закодируем столбец Embarked с помощью OneHot-кодирования (pd.get_dummies). "
      ]
    },
    {
      "cell_type": "code",
      "execution_count": null,
      "metadata": {
        "id": "wAVfH5uS-UdC"
      },
      "outputs": [],
      "source": [
        "Data = pd.get_dummies(Data, columns=['Embarked'], drop_first=True)\n",
        "Data.head()"
      ]
    },
    {
      "cell_type": "markdown",
      "metadata": {
        "id": "T5eGrLvs-UdC"
      },
      "source": [
        "**Обработаем признак 'Age'**\n",
        "\n",
        "Проверьте, если ли в Age пропущенные значения."
      ]
    },
    {
      "cell_type": "code",
      "execution_count": null,
      "metadata": {
        "scrolled": true,
        "id": "3c7NdWAM-UdC"
      },
      "outputs": [],
      "source": [
        "#your code here"
      ]
    },
    {
      "cell_type": "markdown",
      "metadata": {
        "id": "3AICvzm4-UdC"
      },
      "source": [
        "Заполним пропуски медианным значением Age."
      ]
    },
    {
      "cell_type": "code",
      "execution_count": null,
      "metadata": {
        "id": "poWpbUcC-UdC"
      },
      "outputs": [],
      "source": [
        "median_age = Data['Age'].median()\n",
        "\n",
        "Data['Age'].fillna(median_age, inplace=True)"
      ]
    },
    {
      "cell_type": "markdown",
      "metadata": {
        "id": "KVcF-vPr-UdC"
      },
      "source": [
        "Нарисуем распределение возраста пассажиров."
      ]
    },
    {
      "cell_type": "code",
      "execution_count": null,
      "metadata": {
        "id": "Z8yNjrFH-UdD"
      },
      "outputs": [],
      "source": [
        "sns.distplot(Data['Age'], kde=True)\n",
        "plt.show()"
      ]
    },
    {
      "cell_type": "markdown",
      "metadata": {
        "id": "BBFQMqfw-UdD"
      },
      "source": [
        "Посмотрим на распределение Pclass по возрастам."
      ]
    },
    {
      "cell_type": "code",
      "execution_count": null,
      "metadata": {
        "id": "xdg4bB2s-UdD"
      },
      "outputs": [],
      "source": [
        "import seaborn as sns\n",
        "\n",
        "facet = sns.FacetGrid(data = Data, hue = \"Pclass\", legend_out=True, size = 5)\n",
        "facet = facet.map(sns.kdeplot, \"Age\")\n",
        "facet.add_legend();"
      ]
    },
    {
      "cell_type": "markdown",
      "metadata": {
        "id": "98z3bjhs-UdD"
      },
      "source": [
        "**Обработаем признак 'Fare'**\n",
        "\n",
        "1) Проверьте, если ли в Fare пропущенные значения\n",
        "\n",
        "2) Если пропущенные значения есть, заполните их медианным значением Fare"
      ]
    },
    {
      "cell_type": "code",
      "execution_count": null,
      "metadata": {
        "scrolled": true,
        "id": "U5ZhiHwt-UdD"
      },
      "outputs": [],
      "source": [
        "#your code here"
      ]
    },
    {
      "cell_type": "markdown",
      "metadata": {
        "id": "00Z3T-hy-UdD"
      },
      "source": [
        "**Обработаем признак 'Pclass'**\n",
        "\n",
        "Есть ли в Pclass пропущенные значения?"
      ]
    },
    {
      "cell_type": "code",
      "execution_count": null,
      "metadata": {
        "id": "IUu7HBai-UdD"
      },
      "outputs": [],
      "source": [
        "Data['Pclass'].value_counts()"
      ]
    },
    {
      "cell_type": "markdown",
      "metadata": {
        "id": "Mi3bmyd7-UdE"
      },
      "source": [
        "**Задание 8.** Нарисуйте гистограмму выживаемости в зависимости от Pclass."
      ]
    },
    {
      "cell_type": "code",
      "execution_count": null,
      "metadata": {
        "id": "Ugc-jAcn-UdE"
      },
      "outputs": [],
      "source": [
        "#your code here"
      ]
    },
    {
      "cell_type": "markdown",
      "metadata": {
        "id": "E6TcrOfR-UdE"
      },
      "source": [
        "**Обработаем признак 'SibSp' (число братьев или сестер, мужей, жен)**\n",
        "\n",
        "Есть ли в SibSp пропущенные значения?"
      ]
    },
    {
      "cell_type": "code",
      "execution_count": null,
      "metadata": {
        "id": "mLB25NY8-UdE"
      },
      "outputs": [],
      "source": [
        "Data['SibSp'].value_counts()"
      ]
    },
    {
      "cell_type": "markdown",
      "metadata": {
        "id": "U2IbL9VB-UdE"
      },
      "source": [
        "**Обработаем признак 'Parch' (число родителей/детей)**\n",
        "\n",
        "Есть ли в Parch пропущенные значения?"
      ]
    },
    {
      "cell_type": "code",
      "execution_count": null,
      "metadata": {
        "id": "pt-csmhE-UdE"
      },
      "outputs": [],
      "source": [
        "Data['Parch'].value_counts()"
      ]
    },
    {
      "cell_type": "markdown",
      "metadata": {
        "id": "75F_Z80Q-UdE"
      },
      "source": [
        "**Задание 9.** Столбец PassengerId является категориальным и не несёт важной информации, удалите его."
      ]
    },
    {
      "cell_type": "code",
      "execution_count": null,
      "metadata": {
        "id": "Cay3y7ls-UdE"
      },
      "outputs": [],
      "source": [
        "#your code here"
      ]
    },
    {
      "cell_type": "code",
      "execution_count": null,
      "metadata": {
        "id": "YM0dH1ff-UdE"
      },
      "outputs": [],
      "source": [
        "Data.head()"
      ]
    },
    {
      "cell_type": "markdown",
      "metadata": {
        "id": "RFfqMl8S-UdF"
      },
      "source": [
        "# Исследование признаков и feature engineering"
      ]
    },
    {
      "cell_type": "markdown",
      "metadata": {
        "id": "3PVQbPiS-UdF"
      },
      "source": [
        "Нарисуем матрицу корреляций числовых признаков между собой и с целевой переменной. \n",
        "\n",
        "**Задание 10.** Создайте таблицу NumericData, которая содержит только числовые столбцы из таблицы Data."
      ]
    },
    {
      "cell_type": "code",
      "execution_count": null,
      "metadata": {
        "id": "PZVUQDX2-UdF"
      },
      "outputs": [],
      "source": [
        "#your code here\n",
        "NumericData = ..."
      ]
    },
    {
      "cell_type": "code",
      "execution_count": null,
      "metadata": {
        "id": "MJ-kZGVs-UdF"
      },
      "outputs": [],
      "source": [
        "NumericData.corr()"
      ]
    },
    {
      "cell_type": "code",
      "execution_count": null,
      "metadata": {
        "id": "3b-dsvVG-UdF"
      },
      "outputs": [],
      "source": [
        "colormap = plt.cm.RdBu\n",
        "plt.figure(figsize=(14,12))\n",
        "\n",
        "plt.title('Pearson Correlation of Features', y=1.05, size=18)\n",
        "sns.heatmap(NumericData.corr(),\n",
        "            linewidths=0.1, vmax=1.0, \n",
        "            square=True, cmap=colormap, linecolor='white', annot=True)"
      ]
    },
    {
      "cell_type": "markdown",
      "metadata": {
        "id": "wq5CQDB6-UdF"
      },
      "source": [
        "Посмотрим на попарные зависимости некоторых признаков."
      ]
    },
    {
      "cell_type": "code",
      "execution_count": null,
      "metadata": {
        "id": "ya9bUzHg-UdF"
      },
      "outputs": [],
      "source": [
        "g = sns.pairplot(Data[[u'Survived', u'Pclass', u'Sex', u'Age', u'Parch', u'Fare']], \\\n",
        "                 hue='Survived', palette = 'seismic', size=4, diag_kind = 'kde', \\\n",
        "                 diag_kws=dict(shade=True), plot_kws=dict(s=50) )\n",
        "g.set(xticklabels=[])"
      ]
    },
    {
      "cell_type": "markdown",
      "metadata": {
        "id": "8JuF7t9a-UdF"
      },
      "source": [
        "Зачастую признак может быть зашумлен или может содержать лишнюю (слишком детализированную, ведущую к переобучению) информацию. Возможным решением этой проблемы служит бинаризация признака.\n",
        "\n",
        "Бинаризуем признаки Age и Fare\n",
        "\n",
        "* pd.cut - разбиение целочисленных данных на несколько интервалов по квантилям\n",
        "* pd.qcut - разбиение числовых (не обязательно целочисленных) данных на несколько интервалов по квантилям"
      ]
    },
    {
      "cell_type": "code",
      "execution_count": null,
      "metadata": {
        "scrolled": true,
        "id": "MSJ5hGGR-UdG"
      },
      "outputs": [],
      "source": [
        "Data['AgeBin'] = pd.cut(Data['Age'].astype(int), 5)\n",
        "\n",
        "Data['AgeBin'].head()"
      ]
    },
    {
      "cell_type": "markdown",
      "metadata": {
        "id": "Z1UWOvc3-UdG"
      },
      "source": [
        "Теперь переведём полученные интервалы в числа, используя LabelEncoder."
      ]
    },
    {
      "cell_type": "code",
      "execution_count": null,
      "metadata": {
        "id": "PcVna5nZ-UdG"
      },
      "outputs": [],
      "source": [
        "from sklearn.preprocessing import LabelEncoder\n",
        "label = LabelEncoder()\n",
        "\n",
        "Data['AgeBin_Code'] = label.fit_transform(Data['AgeBin'])\n",
        "\n",
        "Data[['Age','AgeBin','AgeBin_Code']].head()"
      ]
    },
    {
      "cell_type": "code",
      "execution_count": null,
      "metadata": {
        "id": "ndlBwrjg-UdG"
      },
      "outputs": [],
      "source": [
        "np.corrcoef(Data['Age'], Data['Survived'])[0][1]"
      ]
    },
    {
      "cell_type": "code",
      "execution_count": null,
      "metadata": {
        "id": "HDi71tAf-UdG"
      },
      "outputs": [],
      "source": [
        "np.corrcoef(Data['AgeBin_Code'], Data['Survived'])[0][1]"
      ]
    },
    {
      "cell_type": "markdown",
      "metadata": {
        "id": "TKGsUG-j-UdG"
      },
      "source": [
        "**Задание 11.** Бинаризуйте Fare, используя разбиение на 4 интервала."
      ]
    },
    {
      "cell_type": "code",
      "execution_count": null,
      "metadata": {
        "id": "m5YR7BVL-UdG"
      },
      "outputs": [],
      "source": [
        "#your code here"
      ]
    },
    {
      "cell_type": "markdown",
      "metadata": {
        "id": "6vE4zxMX-UdH"
      },
      "source": [
        "Мы не используем всю информацию о данных, в частности, не используем текстовые данные. Также из матрицы корреляций мы видим, что признаки Parch и SibSp слабо коррелируют с выживаемостью (Survived). Сконструируем новые признаки, чтобы решить эти вопросы.\n",
        "\n",
        "**Задание 12.**\n",
        "\n",
        "1) Создайте признак 'NameLen' и запишите в него длину имени (Name).\n",
        "\n",
        "2) Создайте признак 'FamilySize', равный Parch + SibSp + 1. Зачем добавлять 1?\n",
        "\n",
        "3) Создайте признак 'IsAlone', который показывает, путешествовал человек один или с семьей."
      ]
    },
    {
      "cell_type": "code",
      "execution_count": null,
      "metadata": {
        "id": "h5_E218s-UdH"
      },
      "outputs": [],
      "source": [
        "#your code here"
      ]
    },
    {
      "cell_type": "markdown",
      "metadata": {
        "id": "eW8k1UAk-UdH"
      },
      "source": [
        "**Задание 13.** Посмотрите, как коррелируют новые признаки (не забудьте про бинаризованные признаки) со столбцом 'Survived'."
      ]
    },
    {
      "cell_type": "code",
      "execution_count": null,
      "metadata": {
        "id": "Te7iTrbr-UdH"
      },
      "outputs": [],
      "source": [
        "#your code here"
      ]
    },
    {
      "cell_type": "markdown",
      "metadata": {
        "id": "AWTrg-5z-UdH"
      },
      "source": [
        "Можно извлечь и другую полезную информацию из данных путём конструирования новых признаков. \n",
        "\n",
        "**Задание 14*.** Придумайте ещё новые осмысленные признаки. Проверьте, как они коррелируют с выживаемостью."
      ]
    },
    {
      "cell_type": "code",
      "execution_count": null,
      "metadata": {
        "id": "y4EzgTMT-UdH"
      },
      "outputs": [],
      "source": [
        "#your code here"
      ]
    },
    {
      "cell_type": "markdown",
      "metadata": {
        "id": "c8WkCDTG-UdH"
      },
      "source": [
        "**Задание 15.** Верно ли, что если признак имеет маленькую по модулю корреляцию с выживаемостью, то это означает, что он не влияет на выживаемость и бесполезен для нашей задачи?"
      ]
    },
    {
      "cell_type": "markdown",
      "metadata": {
        "id": "RmC6jSum-UdI"
      },
      "source": [
        "# Бонус.\n",
        "\n",
        "**Задание 16*.** Мы провели довольно подробный однофакторный анализ данных и увидели, какие признаки сильно влияют на выживаемость, а какие нет. \n",
        "\n",
        "a) Попробуйте написать свою модель для предсказания выживаемости, используя обнаруженные закономерности. \n",
        "\n",
        "b) Оцените качество модели - вычислите долю правильных ответов алгоритма по всем данным."
      ]
    },
    {
      "cell_type": "code",
      "execution_count": null,
      "metadata": {
        "id": "GbbX-CC5-UdI"
      },
      "outputs": [],
      "source": [
        "def prediction(x): \n",
        "    # x - один объект\n",
        "    ..."
      ]
    },
    {
      "cell_type": "code",
      "execution_count": null,
      "metadata": {
        "id": "53uNBSLa-UdI"
      },
      "outputs": [],
      "source": [
        "from sklearn.metrics import accuracy_score\n",
        "\n",
        "pred = Data.apply(lambda x: prediction(x), axis=1)\n",
        "\n",
        "accuracy_score(Data['Survived'], pred)"
      ]
    },
    {
      "cell_type": "code",
      "execution_count": null,
      "metadata": {
        "id": "HRoPlwFb-UdI"
      },
      "outputs": [],
      "source": [
        "Data['Survived']"
      ]
    },
    {
      "cell_type": "markdown",
      "metadata": {
        "id": "0aBVDTxh-UdI"
      },
      "source": [
        "Разобъем данные на тренировочную и тестовую часть с помощью train_test_split.\n",
        "\n",
        "2) Обучим KNN на тренировочной части, сделаем предсказание на тесте и вычислим долю правильных ответов.\n",
        "\n",
        "3) С помощью написанной нами раннее модели сделаем предсказание на тесте и оценим его качество."
      ]
    },
    {
      "cell_type": "code",
      "execution_count": null,
      "metadata": {
        "id": "2QLJTFnY-UdI"
      },
      "outputs": [],
      "source": [
        "from sklearn.model_selection import train_test_split\n",
        "from sklearn.neighbors import KNeighborsClassifier\n",
        "\n",
        "y = Data['Survived']\n",
        "X = Data._get_numeric_data().drop('Survived', axis=1)\n",
        "\n",
        "X_train, X_test, y_train, y_test = train_test_split(X, y, test_size=0.25)"
      ]
    },
    {
      "cell_type": "code",
      "execution_count": null,
      "metadata": {
        "id": "el359594-UdI"
      },
      "outputs": [],
      "source": [
        "model = KNeighborsClassifier()\n",
        "\n",
        "model.fit(X_train, y_train) # обучаем модель"
      ]
    },
    {
      "cell_type": "code",
      "execution_count": null,
      "metadata": {
        "id": "PNbB8Sjs-UdJ"
      },
      "outputs": [],
      "source": [
        "pred_knn = model.predict(X_test) # делаем предсказание на тесте\n",
        "pred_knn"
      ]
    },
    {
      "cell_type": "code",
      "execution_count": null,
      "metadata": {
        "id": "4jwXg8Du-UdJ"
      },
      "outputs": [],
      "source": [
        "accuracy_score(y_test, pred_knn) #  доля прав.ответов knn"
      ]
    },
    {
      "cell_type": "code",
      "execution_count": null,
      "metadata": {
        "id": "3jSrqSDQ-UdJ"
      },
      "outputs": [],
      "source": [
        "pred_our = X_test.apply(lambda x: prediction(x), axis=1)\n",
        "\n",
        "accuracy_score(y_test, pred_our) # доля прав.ответов нашей модели"
      ]
    }
  ],
  "metadata": {
    "kernelspec": {
      "display_name": "Python 3",
      "language": "python",
      "name": "python3"
    },
    "language_info": {
      "codemirror_mode": {
        "name": "ipython",
        "version": 3
      },
      "file_extension": ".py",
      "mimetype": "text/x-python",
      "name": "python",
      "nbconvert_exporter": "python",
      "pygments_lexer": "ipython3",
      "version": "3.7.6"
    },
    "colab": {
      "provenance": [],
      "include_colab_link": true
    }
  },
  "nbformat": 4,
  "nbformat_minor": 0
}