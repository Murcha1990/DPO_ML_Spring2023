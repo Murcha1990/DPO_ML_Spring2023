{
 "cells": [
  {
   "cell_type": "markdown",
   "metadata": {
    "id": "wGUh9-kKDVk_"
   },
   "source": [
    "# Стохастический градиентный спуск для обучения логистической регрессии. Практика\n",
    "\n",
    "В этом практическом задании предлагаем вам обучить логистическую регрессию методом стохастического градиентного спуска, причём реализовать все шаги самостоятельно, без использования готовых моделей из библиотек Python."
   ]
  },
  {
   "cell_type": "markdown",
   "metadata": {
    "id": "RS-i_3wQqtxS"
   },
   "source": [
    "## Цели практической работы\n",
    "\n",
    "* Разобраться, как реализовывать log-loss в Python.\n",
    "* Научиться вычислять градиент log-loss.\n",
    "* Потренироваться обучать модель логистической регрессии с помощью метода стохастического градиентного спуска."
   ]
  },
  {
   "cell_type": "markdown",
   "metadata": {
    "id": "Tb-5iUrybT-m"
   },
   "source": [
    "В этом задании будем практиковаться на данных о давлении пациентов. Столбцы в используемой таблице:\n",
    "*  DBP,  SBP — нормализованные и приведённые к общей шкале показатели давления человека;\n",
    "*  target — целевая переменная, показывающая, болен человек или нет (болезнь такова, что определяется по показателям давления).\n",
    "\n",
    "У нас не будет новых данных. Наша цель — построить модель, хорошо объясняющую имеющиеся данные. Поэтому делить данные на части мы не будем, а будем обучать метод на всех данных и на всех данных его проверять."
   ]
  },
  {
   "cell_type": "code",
   "execution_count": null,
   "metadata": {
    "colab": {
     "base_uri": "https://localhost:8080/",
     "height": 206
    },
    "id": "Qy8kxouurkZm",
    "outputId": "dfcb2c81-91ab-4224-b06e-826635639615"
   },
   "outputs": [
    {
     "data": {
      "text/html": [
       "\n",
       "  <div id=\"df-9f97f8b6-ebc3-4c21-86b1-ebdf1460f2ec\">\n",
       "    <div class=\"colab-df-container\">\n",
       "      <div>\n",
       "<style scoped>\n",
       "    .dataframe tbody tr th:only-of-type {\n",
       "        vertical-align: middle;\n",
       "    }\n",
       "\n",
       "    .dataframe tbody tr th {\n",
       "        vertical-align: top;\n",
       "    }\n",
       "\n",
       "    .dataframe thead th {\n",
       "        text-align: right;\n",
       "    }\n",
       "</style>\n",
       "<table border=\"1\" class=\"dataframe\">\n",
       "  <thead>\n",
       "    <tr style=\"text-align: right;\">\n",
       "      <th></th>\n",
       "      <th>SBP</th>\n",
       "      <th>DBP</th>\n",
       "      <th>target</th>\n",
       "    </tr>\n",
       "  </thead>\n",
       "  <tbody>\n",
       "    <tr>\n",
       "      <th>0</th>\n",
       "      <td>0.943625</td>\n",
       "      <td>-0.679783</td>\n",
       "      <td>1</td>\n",
       "    </tr>\n",
       "    <tr>\n",
       "      <th>1</th>\n",
       "      <td>-0.868018</td>\n",
       "      <td>-0.253922</td>\n",
       "      <td>0</td>\n",
       "    </tr>\n",
       "    <tr>\n",
       "      <th>2</th>\n",
       "      <td>-1.767471</td>\n",
       "      <td>-0.999924</td>\n",
       "      <td>0</td>\n",
       "    </tr>\n",
       "    <tr>\n",
       "      <th>3</th>\n",
       "      <td>0.572276</td>\n",
       "      <td>0.394579</td>\n",
       "      <td>1</td>\n",
       "    </tr>\n",
       "    <tr>\n",
       "      <th>4</th>\n",
       "      <td>-1.436026</td>\n",
       "      <td>-1.307645</td>\n",
       "      <td>0</td>\n",
       "    </tr>\n",
       "  </tbody>\n",
       "</table>\n",
       "</div>\n",
       "      <button class=\"colab-df-convert\" onclick=\"convertToInteractive('df-9f97f8b6-ebc3-4c21-86b1-ebdf1460f2ec')\"\n",
       "              title=\"Convert this dataframe to an interactive table.\"\n",
       "              style=\"display:none;\">\n",
       "        \n",
       "  <svg xmlns=\"http://www.w3.org/2000/svg\" height=\"24px\"viewBox=\"0 0 24 24\"\n",
       "       width=\"24px\">\n",
       "    <path d=\"M0 0h24v24H0V0z\" fill=\"none\"/>\n",
       "    <path d=\"M18.56 5.44l.94 2.06.94-2.06 2.06-.94-2.06-.94-.94-2.06-.94 2.06-2.06.94zm-11 1L8.5 8.5l.94-2.06 2.06-.94-2.06-.94L8.5 2.5l-.94 2.06-2.06.94zm10 10l.94 2.06.94-2.06 2.06-.94-2.06-.94-.94-2.06-.94 2.06-2.06.94z\"/><path d=\"M17.41 7.96l-1.37-1.37c-.4-.4-.92-.59-1.43-.59-.52 0-1.04.2-1.43.59L10.3 9.45l-7.72 7.72c-.78.78-.78 2.05 0 2.83L4 21.41c.39.39.9.59 1.41.59.51 0 1.02-.2 1.41-.59l7.78-7.78 2.81-2.81c.8-.78.8-2.07 0-2.86zM5.41 20L4 18.59l7.72-7.72 1.47 1.35L5.41 20z\"/>\n",
       "  </svg>\n",
       "      </button>\n",
       "      \n",
       "  <style>\n",
       "    .colab-df-container {\n",
       "      display:flex;\n",
       "      flex-wrap:wrap;\n",
       "      gap: 12px;\n",
       "    }\n",
       "\n",
       "    .colab-df-convert {\n",
       "      background-color: #E8F0FE;\n",
       "      border: none;\n",
       "      border-radius: 50%;\n",
       "      cursor: pointer;\n",
       "      display: none;\n",
       "      fill: #1967D2;\n",
       "      height: 32px;\n",
       "      padding: 0 0 0 0;\n",
       "      width: 32px;\n",
       "    }\n",
       "\n",
       "    .colab-df-convert:hover {\n",
       "      background-color: #E2EBFA;\n",
       "      box-shadow: 0px 1px 2px rgba(60, 64, 67, 0.3), 0px 1px 3px 1px rgba(60, 64, 67, 0.15);\n",
       "      fill: #174EA6;\n",
       "    }\n",
       "\n",
       "    [theme=dark] .colab-df-convert {\n",
       "      background-color: #3B4455;\n",
       "      fill: #D2E3FC;\n",
       "    }\n",
       "\n",
       "    [theme=dark] .colab-df-convert:hover {\n",
       "      background-color: #434B5C;\n",
       "      box-shadow: 0px 1px 3px 1px rgba(0, 0, 0, 0.15);\n",
       "      filter: drop-shadow(0px 1px 2px rgba(0, 0, 0, 0.3));\n",
       "      fill: #FFFFFF;\n",
       "    }\n",
       "  </style>\n",
       "\n",
       "      <script>\n",
       "        const buttonEl =\n",
       "          document.querySelector('#df-9f97f8b6-ebc3-4c21-86b1-ebdf1460f2ec button.colab-df-convert');\n",
       "        buttonEl.style.display =\n",
       "          google.colab.kernel.accessAllowed ? 'block' : 'none';\n",
       "\n",
       "        async function convertToInteractive(key) {\n",
       "          const element = document.querySelector('#df-9f97f8b6-ebc3-4c21-86b1-ebdf1460f2ec');\n",
       "          const dataTable =\n",
       "            await google.colab.kernel.invokeFunction('convertToInteractive',\n",
       "                                                     [key], {});\n",
       "          if (!dataTable) return;\n",
       "\n",
       "          const docLinkHtml = 'Like what you see? Visit the ' +\n",
       "            '<a target=\"_blank\" href=https://colab.research.google.com/notebooks/data_table.ipynb>data table notebook</a>'\n",
       "            + ' to learn more about interactive tables.';\n",
       "          element.innerHTML = '';\n",
       "          dataTable['output_type'] = 'display_data';\n",
       "          await google.colab.output.renderOutput(dataTable, element);\n",
       "          const docLink = document.createElement('div');\n",
       "          docLink.innerHTML = docLinkHtml;\n",
       "          element.appendChild(docLink);\n",
       "        }\n",
       "      </script>\n",
       "    </div>\n",
       "  </div>\n",
       "  "
      ],
      "text/plain": [
       "        SBP       DBP  target\n",
       "0  0.943625 -0.679783       1\n",
       "1 -0.868018 -0.253922       0\n",
       "2 -1.767471 -0.999924       0\n",
       "3  0.572276  0.394579       1\n",
       "4 -1.436026 -1.307645       0"
      ]
     },
     "execution_count": 16,
     "metadata": {},
     "output_type": "execute_result"
    }
   ],
   "source": [
    "import random\n",
    "import pandas as pd\n",
    "import matplotlib.pyplot as plt\n",
    "import numpy as np\n",
    "import seaborn as sns\n",
    "%matplotlib inline\n",
    "\n",
    "df = pd.read_csv(\"BloodPressure.csv\")\n",
    "\n",
    "df.head()"
   ]
  },
  {
   "cell_type": "code",
   "execution_count": null,
   "metadata": {
    "id": "lOch7DDHGRXB"
   },
   "outputs": [],
   "source": [
    "X = df[['SBP','DBP']]\n",
    "y = df['target'].values"
   ]
  },
  {
   "cell_type": "markdown",
   "metadata": {
    "id": "RdLx9wJPrkZo"
   },
   "source": [
    "Напишите функцию для вычисления сигмоиды."
   ]
  },
  {
   "cell_type": "code",
   "execution_count": null,
   "metadata": {
    "id": "KMLxCG0HrkZp"
   },
   "outputs": [],
   "source": [
    "def sigmoid(x):\n",
    "    return 1 / (1 + np.exp(-x))"
   ]
  },
  {
   "cell_type": "markdown",
   "metadata": {
    "id": "-90X1M7ErkZp"
   },
   "source": [
    "Напишите функцию для вычисления функции потерь логистической регрессии (log-loss)."
   ]
  },
  {
   "cell_type": "code",
   "execution_count": null,
   "metadata": {
    "id": "N4ogUylkrkZp"
   },
   "outputs": [],
   "source": [
    "def compute_cost(X, y, theta):\n",
    "    m = len(y)\n",
    "    h = sigmoid(X @ theta)\n",
    "    epsilon = 1e-5\n",
    "    cost = (1/m)*(((-y).T @ np.log(h + epsilon))-((1-y).T @ np.log(1-h + epsilon)))\n",
    "    return cost"
   ]
  },
  {
   "cell_type": "markdown",
   "metadata": {
    "id": "Iz1ryCUirkZq"
   },
   "source": [
    "Реализуем стохастический градиентный спуск по формуле\n",
    "\n",
    "$$w_{new} = w_{prev} - \\nabla_w Q(w_{prev},x_i,y_i),$$\n",
    "\n",
    "где \n",
    "*   $\\nabla_w Q(w,x_i,y_i)$ — значение градиента функции потерь (в данном случае MSE) на объекте $x_i$;\n",
    "*   объект $x_i$ случайным образом выбирается на каждой итерации метода."
   ]
  },
  {
   "cell_type": "markdown",
   "metadata": {
    "id": "z5B8OTT1rkZq"
   },
   "source": [
    "Реализуйте метод стохастического градиентного спуска для обучения логистической регрессии по аналогии с тем, как мы делали его для обучения линейной регрессии.\n",
    "\n",
    "Единственное, что поменяется, — надо пересчитать градиент функции потерь (так как теперь функция потерь log-loss, а не MSE)."
   ]
  },
  {
   "cell_type": "code",
   "execution_count": null,
   "metadata": {
    "id": "4VWxAYQ0rkZq"
   },
   "outputs": [],
   "source": [
    "def stochastic_gradient_descent(X, y, params, learning_rate, iterations):\n",
    "\n",
    "    X = np.hstack((np.ones((X.shape[0], 1)), X))\n",
    "    params = np.random.rand(X.shape[1])\n",
    "\n",
    "    cost_track = np.zeros((iterations,1))\n",
    "\n",
    "    for i in range(iterations):\n",
    "        ind = random.sample(range(X.shape[0]),1)\n",
    "\n",
    "        params = params - learning_rate * (X[ind] * (sigmoid(X[ind] @ params) - y[ind])) \n",
    "        params = params.ravel() \n",
    "        cost_track[i] = compute_cost(X, y, params)\n",
    "\n",
    "    return cost_track, params"
   ]
  },
  {
   "cell_type": "markdown",
   "metadata": {
    "id": "kWiV143JrkZq"
   },
   "source": [
    "Создайте функцию для получения предсказания модели.\n",
    "\n",
    "По аналогии с функцией для предсказания линейной регрессии добавьте к матрице X единичный столбец."
   ]
  },
  {
   "cell_type": "code",
   "execution_count": null,
   "metadata": {
    "id": "LW5wDb4irkZr"
   },
   "outputs": [],
   "source": [
    "def predict(X, params):\n",
    "    X = np.hstack((np.ones((X.shape[0], 1)), X))\n",
    "\n",
    "    return np.round(sigmoid(X @ params))"
   ]
  },
  {
   "cell_type": "markdown",
   "metadata": {
    "id": "VIh1LfZerkZr"
   },
   "source": [
    "Создадим начальный вектор параметров (весов) модели и заполним его нулями.\n",
    "\n",
    "Зададим количество итераций стохастического градиентного спуска и градиентный шаг."
   ]
  },
  {
   "cell_type": "code",
   "execution_count": null,
   "metadata": {
    "id": "pTfpMx2hrkZr"
   },
   "outputs": [],
   "source": [
    "params = np.zeros((X.shape[1],1))\n",
    "\n",
    "iterations = 1500\n",
    "learning_rate = 0.03"
   ]
  },
  {
   "cell_type": "markdown",
   "metadata": {
    "id": "n0HXei8lrkZs"
   },
   "source": [
    "Обучите модель методом стохастического градиентного спуска (вызовите написанную функцию).\n",
    "\n",
    "Выведите на экран найденный вектор весов и нарисуйте график, отражающий, как убывает ошибка в зависимости от номера итерации (подпишите оси и добавьте название к графику)."
   ]
  },
  {
   "cell_type": "code",
   "execution_count": null,
   "metadata": {
    "colab": {
     "base_uri": "https://localhost:8080/",
     "height": 349
    },
    "id": "c-BGpYk9rkZs",
    "outputId": "248f406f-bdf3-4d02-f8dd-defb65203e7c"
   },
   "outputs": [
    {
     "name": "stdout",
     "output_type": "stream",
     "text": [
      "Optimal Parameters are: \n",
      " [-0.44932498  3.20730642 -0.0046442 ] \n",
      "\n"
     ]
    },
    {
     "data": {
      "image/png": "[encoded data removed]",
      "text/plain": [
       "<Figure size 432x288 with 1 Axes>"
      ]
     },
     "metadata": {},
     "output_type": "display_data"
    }
   ],
   "source": [
    "cost_history, params_optimal = stochastic_gradient_descent(X, y, params, learning_rate, iterations)\n",
    "\n",
    "print(\"Optimal Parameters are: \\n\", params_optimal, \"\\n\")\n",
    "\n",
    "plt.figure()\n",
    "sns.set_style('white')\n",
    "plt.plot(range(len(cost_history)), cost_history, 'r')\n",
    "plt.title(\"Convergence Graph of Cost Function\")\n",
    "plt.xlabel(\"Number of Iterations\")\n",
    "plt.ylabel(\"Cost\")\n",
    "plt.show()"
   ]
  },
  {
   "cell_type": "markdown",
   "metadata": {
    "id": "Ie_7IAXFrkZs"
   },
   "source": [
    "Сделайте предсказание обученной модели на всех данных X."
   ]
  },
  {
   "cell_type": "code",
   "execution_count": null,
   "metadata": {
    "id": "30i4rddSrkZt"
   },
   "outputs": [],
   "source": [
    "pred = predict(X, params_optimal)"
   ]
  },
  {
   "cell_type": "markdown",
   "metadata": {
    "id": "Zz2MOeyCrkZt"
   },
   "source": [
    "Вычислите долю правильных ответов модели на всех данных X (используйте метрику accuracy)."
   ]
  },
  {
   "cell_type": "code",
   "execution_count": null,
   "metadata": {
    "colab": {
     "base_uri": "https://localhost:8080/"
    },
    "id": "E6caUXpXrkZt",
    "outputId": "b176c6f6-894a-4656-fb3d-95fa1d7123c1"
   },
   "outputs": [
    {
     "data": {
      "text/plain": [
       "0.968"
      ]
     },
     "execution_count": 59,
     "metadata": {},
     "output_type": "execute_result"
    }
   ],
   "source": [
    "from sklearn.metrics import accuracy_score\n",
    "\n",
    "accuracy_score(pred, y)"
   ]
  },
  {
   "cell_type": "code",
   "execution_count": null,
   "metadata": {
    "colab": {
     "base_uri": "https://localhost:8080/"
    },
    "id": "2cZaBxPSIEKP",
    "outputId": "a5e391c2-2502-45d2-ecb0-1cdb880c0e0c"
   },
   "outputs": [
    {
     "data": {
      "text/plain": [
       "0.968"
      ]
     },
     "execution_count": 60,
     "metadata": {},
     "output_type": "execute_result"
    }
   ],
   "source": [
    "from sklearn.linear_model import LogisticRegression\n",
    "\n",
    "model = LogisticRegression()\n",
    "model.fit(X, y)\n",
    "\n",
    "prediction = model.predict(X)\n",
    "\n",
    "accuracy_score(prediction, y)"
   ]
  },
  {
   "cell_type": "code",
   "execution_count": null,
   "metadata": {
    "id": "rqJqUDuoILFQ"
   },
   "outputs": [],
   "source": []
  }
 ],
 "metadata": {
  "colab": {
   "collapsed_sections": [],
   "provenance": []
  },
  "kernelspec": {
   "display_name": "Python 3",
   "language": "python",
   "name": "python3"
  },
  "language_info": {
   "codemirror_mode": {
    "name": "ipython",
    "version": 3
   },
   "file_extension": ".py",
   "mimetype": "text/x-python",
   "name": "python",
   "nbconvert_exporter": "python",
   "pygments_lexer": "ipython3",
   "version": "3.7.6"
  }
 },
 "nbformat": 4,
 "nbformat_minor": 1
}
