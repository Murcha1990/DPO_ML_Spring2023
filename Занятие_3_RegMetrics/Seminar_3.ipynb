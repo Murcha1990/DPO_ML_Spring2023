{
  "cells": [
    {
      "cell_type": "markdown",
      "id": "acc5a9b0",
      "metadata": {
        "id": "acc5a9b0"
      },
      "source": [
        "# План семинара\n",
        "- Функционалы и метрики\n",
        "- Кросс-валидация\n",
        "- Переобучение и регуляризация\n",
        "- Гиперпараметры и их оптимизация"
      ]
    },
    {
      "cell_type": "markdown",
      "id": "f9e5ed40",
      "metadata": {
        "id": "f9e5ed40"
      },
      "source": [
        "# Функционалы и метрики\n",
        "\n",
        "Quick recap\n",
        "\n",
        "Функционал (или функция потерь == loss function)  - это функция, позволяющая обучить модель (то есть то, что мы стараемся оптимизировать, подбирая параметры модели - в случае линейной регрессии параметры - это веса)\n",
        "\n",
        "Метрика - это оценка качества модели, которую можно использовать к любым моделям (позволяет ответить на вопрос, насколько точно модель может предсказывать целевую переменную)\n",
        "\n",
        "Пример: Чтобы обучить линейную регрессию мы можем минизировать функционал MSE\n",
        "\n",
        "Если мы имеем n наблюдений и k признаков\n",
        "\n",
        "$\\Sigma_{i=0}^{n}(\\hat y_{i} - y_{i})^{2} \\rightarrow min_{w}$\n",
        "\n",
        "где $\\hat y_{i} = \\Sigma_{i=0}^{k}w_{k}X_{ik}$\n",
        "\n",
        "А как метрику можем использовать RMSE\n",
        "\n",
        "$RMSE = \\sqrt{\\Sigma_{i=0}^{n}(\\hat y_{i} - y_{i})^{2}}$\n",
        "\n",
        "Фундаментальное различие функционала и метрик в том, что метрика должна отражать нашу бизнес-задачу или научный вопрос, а функционал должен быть подобран так, чтобы он лучше лучше всего помогал достичь цель (позволял достичь наилучшных показателей метрики или метрик)\n",
        "\n",
        "Аналогия из обучения в вышке: Чтобы сдать матан, мы можем учить производные различных функций, то есть тогда наш функционал - это количество производных, которые мы знаем. А метрикой того, что мы сдали матан будет являться оценка, полученная в конце курса.\n",
        "\n",
        "Оценка в курсе - это понятная метрика, которую нам дал мир. А является ли зубрежка производных лучшим функционалом для достижения поставленной цели решать уже вам, как исследователям\n",
        "\n",
        "И еще, хотя функционал и метрики - это разные по смыслу и использованию инстурменты, они могут быть считаться одинаково (то есть к примеру обучать линейную регрессию можно обучать с помощью функционала MSE, и проверять качество тоже можно с помощью MSE)"
      ]
    },
    {
      "cell_type": "code",
      "execution_count": null,
      "id": "bf0cd6af",
      "metadata": {
        "ExecuteTime": {
          "end_time": "2021-09-20T20:03:51.857595Z",
          "start_time": "2021-09-20T20:03:51.853794Z"
        },
        "id": "bf0cd6af"
      },
      "outputs": [],
      "source": [
        "import pandas as pd\n",
        "import numpy as np\n",
        "import sklearn\n",
        "from sklearn.linear_model import SGDRegressor\n",
        "from sklearn.datasets import load_diabetes "
      ]
    },
    {
      "cell_type": "code",
      "execution_count": null,
      "id": "479241c9",
      "metadata": {
        "ExecuteTime": {
          "end_time": "2021-09-20T20:03:51.868197Z",
          "start_time": "2021-09-20T20:03:51.860440Z"
        },
        "id": "479241c9"
      },
      "outputs": [],
      "source": [
        "np.random.seed(42)"
      ]
    },
    {
      "cell_type": "code",
      "execution_count": null,
      "id": "d6afdc27",
      "metadata": {
        "ExecuteTime": {
          "end_time": "2021-09-20T20:03:51.891504Z",
          "start_time": "2021-09-20T20:03:51.889057Z"
        },
        "id": "d6afdc27"
      },
      "outputs": [],
      "source": [
        "import warnings\n",
        "warnings.filterwarnings('ignore')"
      ]
    },
    {
      "cell_type": "code",
      "execution_count": null,
      "id": "818d9dff",
      "metadata": {
        "ExecuteTime": {
          "end_time": "2021-09-20T20:03:51.921761Z",
          "start_time": "2021-09-20T20:03:51.893244Z"
        },
        "id": "818d9dff"
      },
      "outputs": [],
      "source": [
        "X, y = load_diabetes(return_X_y=True,as_frame=True)\n"
      ]
    },
    {
      "cell_type": "code",
      "execution_count": null,
      "id": "705ca49c",
      "metadata": {
        "ExecuteTime": {
          "end_time": "2021-09-20T20:03:51.942848Z",
          "start_time": "2021-09-20T20:03:51.923438Z"
        },
        "id": "705ca49c",
        "outputId": "c7472d8f-d761-4934-e090-b887dd2b1e58"
      },
      "outputs": [
        {
          "data": {
            "text/html": [
              "<div>\n",
              "<style scoped>\n",
              "    .dataframe tbody tr th:only-of-type {\n",
              "        vertical-align: middle;\n",
              "    }\n",
              "\n",
              "    .dataframe tbody tr th {\n",
              "        vertical-align: top;\n",
              "    }\n",
              "\n",
              "    .dataframe thead th {\n",
              "        text-align: right;\n",
              "    }\n",
              "</style>\n",
              "<table border=\"1\" class=\"dataframe\">\n",
              "  <thead>\n",
              "    <tr style=\"text-align: right;\">\n",
              "      <th></th>\n",
              "      <th>age</th>\n",
              "      <th>sex</th>\n",
              "      <th>bmi</th>\n",
              "      <th>bp</th>\n",
              "      <th>s1</th>\n",
              "      <th>s2</th>\n",
              "      <th>s3</th>\n",
              "      <th>s4</th>\n",
              "      <th>s5</th>\n",
              "      <th>s6</th>\n",
              "    </tr>\n",
              "  </thead>\n",
              "  <tbody>\n",
              "    <tr>\n",
              "      <th>0</th>\n",
              "      <td>0.038076</td>\n",
              "      <td>0.050680</td>\n",
              "      <td>0.061696</td>\n",
              "      <td>0.021872</td>\n",
              "      <td>-0.044223</td>\n",
              "      <td>-0.034821</td>\n",
              "      <td>-0.043401</td>\n",
              "      <td>-0.002592</td>\n",
              "      <td>0.019908</td>\n",
              "      <td>-0.017646</td>\n",
              "    </tr>\n",
              "    <tr>\n",
              "      <th>1</th>\n",
              "      <td>-0.001882</td>\n",
              "      <td>-0.044642</td>\n",
              "      <td>-0.051474</td>\n",
              "      <td>-0.026328</td>\n",
              "      <td>-0.008449</td>\n",
              "      <td>-0.019163</td>\n",
              "      <td>0.074412</td>\n",
              "      <td>-0.039493</td>\n",
              "      <td>-0.068330</td>\n",
              "      <td>-0.092204</td>\n",
              "    </tr>\n",
              "    <tr>\n",
              "      <th>2</th>\n",
              "      <td>0.085299</td>\n",
              "      <td>0.050680</td>\n",
              "      <td>0.044451</td>\n",
              "      <td>-0.005671</td>\n",
              "      <td>-0.045599</td>\n",
              "      <td>-0.034194</td>\n",
              "      <td>-0.032356</td>\n",
              "      <td>-0.002592</td>\n",
              "      <td>0.002864</td>\n",
              "      <td>-0.025930</td>\n",
              "    </tr>\n",
              "    <tr>\n",
              "      <th>3</th>\n",
              "      <td>-0.089063</td>\n",
              "      <td>-0.044642</td>\n",
              "      <td>-0.011595</td>\n",
              "      <td>-0.036656</td>\n",
              "      <td>0.012191</td>\n",
              "      <td>0.024991</td>\n",
              "      <td>-0.036038</td>\n",
              "      <td>0.034309</td>\n",
              "      <td>0.022692</td>\n",
              "      <td>-0.009362</td>\n",
              "    </tr>\n",
              "    <tr>\n",
              "      <th>4</th>\n",
              "      <td>0.005383</td>\n",
              "      <td>-0.044642</td>\n",
              "      <td>-0.036385</td>\n",
              "      <td>0.021872</td>\n",
              "      <td>0.003935</td>\n",
              "      <td>0.015596</td>\n",
              "      <td>0.008142</td>\n",
              "      <td>-0.002592</td>\n",
              "      <td>-0.031991</td>\n",
              "      <td>-0.046641</td>\n",
              "    </tr>\n",
              "    <tr>\n",
              "      <th>...</th>\n",
              "      <td>...</td>\n",
              "      <td>...</td>\n",
              "      <td>...</td>\n",
              "      <td>...</td>\n",
              "      <td>...</td>\n",
              "      <td>...</td>\n",
              "      <td>...</td>\n",
              "      <td>...</td>\n",
              "      <td>...</td>\n",
              "      <td>...</td>\n",
              "    </tr>\n",
              "    <tr>\n",
              "      <th>437</th>\n",
              "      <td>0.041708</td>\n",
              "      <td>0.050680</td>\n",
              "      <td>0.019662</td>\n",
              "      <td>0.059744</td>\n",
              "      <td>-0.005697</td>\n",
              "      <td>-0.002566</td>\n",
              "      <td>-0.028674</td>\n",
              "      <td>-0.002592</td>\n",
              "      <td>0.031193</td>\n",
              "      <td>0.007207</td>\n",
              "    </tr>\n",
              "    <tr>\n",
              "      <th>438</th>\n",
              "      <td>-0.005515</td>\n",
              "      <td>0.050680</td>\n",
              "      <td>-0.015906</td>\n",
              "      <td>-0.067642</td>\n",
              "      <td>0.049341</td>\n",
              "      <td>0.079165</td>\n",
              "      <td>-0.028674</td>\n",
              "      <td>0.034309</td>\n",
              "      <td>-0.018118</td>\n",
              "      <td>0.044485</td>\n",
              "    </tr>\n",
              "    <tr>\n",
              "      <th>439</th>\n",
              "      <td>0.041708</td>\n",
              "      <td>0.050680</td>\n",
              "      <td>-0.015906</td>\n",
              "      <td>0.017282</td>\n",
              "      <td>-0.037344</td>\n",
              "      <td>-0.013840</td>\n",
              "      <td>-0.024993</td>\n",
              "      <td>-0.011080</td>\n",
              "      <td>-0.046879</td>\n",
              "      <td>0.015491</td>\n",
              "    </tr>\n",
              "    <tr>\n",
              "      <th>440</th>\n",
              "      <td>-0.045472</td>\n",
              "      <td>-0.044642</td>\n",
              "      <td>0.039062</td>\n",
              "      <td>0.001215</td>\n",
              "      <td>0.016318</td>\n",
              "      <td>0.015283</td>\n",
              "      <td>-0.028674</td>\n",
              "      <td>0.026560</td>\n",
              "      <td>0.044528</td>\n",
              "      <td>-0.025930</td>\n",
              "    </tr>\n",
              "    <tr>\n",
              "      <th>441</th>\n",
              "      <td>-0.045472</td>\n",
              "      <td>-0.044642</td>\n",
              "      <td>-0.073030</td>\n",
              "      <td>-0.081414</td>\n",
              "      <td>0.083740</td>\n",
              "      <td>0.027809</td>\n",
              "      <td>0.173816</td>\n",
              "      <td>-0.039493</td>\n",
              "      <td>-0.004220</td>\n",
              "      <td>0.003064</td>\n",
              "    </tr>\n",
              "  </tbody>\n",
              "</table>\n",
              "<p>442 rows × 10 columns</p>\n",
              "</div>"
            ],
            "text/plain": [
              "          age       sex       bmi        bp        s1        s2        s3  \\\n",
              "0    0.038076  0.050680  0.061696  0.021872 -0.044223 -0.034821 -0.043401   \n",
              "1   -0.001882 -0.044642 -0.051474 -0.026328 -0.008449 -0.019163  0.074412   \n",
              "2    0.085299  0.050680  0.044451 -0.005671 -0.045599 -0.034194 -0.032356   \n",
              "3   -0.089063 -0.044642 -0.011595 -0.036656  0.012191  0.024991 -0.036038   \n",
              "4    0.005383 -0.044642 -0.036385  0.021872  0.003935  0.015596  0.008142   \n",
              "..        ...       ...       ...       ...       ...       ...       ...   \n",
              "437  0.041708  0.050680  0.019662  0.059744 -0.005697 -0.002566 -0.028674   \n",
              "438 -0.005515  0.050680 -0.015906 -0.067642  0.049341  0.079165 -0.028674   \n",
              "439  0.041708  0.050680 -0.015906  0.017282 -0.037344 -0.013840 -0.024993   \n",
              "440 -0.045472 -0.044642  0.039062  0.001215  0.016318  0.015283 -0.028674   \n",
              "441 -0.045472 -0.044642 -0.073030 -0.081414  0.083740  0.027809  0.173816   \n",
              "\n",
              "           s4        s5        s6  \n",
              "0   -0.002592  0.019908 -0.017646  \n",
              "1   -0.039493 -0.068330 -0.092204  \n",
              "2   -0.002592  0.002864 -0.025930  \n",
              "3    0.034309  0.022692 -0.009362  \n",
              "4   -0.002592 -0.031991 -0.046641  \n",
              "..        ...       ...       ...  \n",
              "437 -0.002592  0.031193  0.007207  \n",
              "438  0.034309 -0.018118  0.044485  \n",
              "439 -0.011080 -0.046879  0.015491  \n",
              "440  0.026560  0.044528 -0.025930  \n",
              "441 -0.039493 -0.004220  0.003064  \n",
              "\n",
              "[442 rows x 10 columns]"
            ]
          },
          "execution_count": 6,
          "metadata": {},
          "output_type": "execute_result"
        }
      ],
      "source": [
        "X"
      ]
    },
    {
      "cell_type": "code",
      "execution_count": null,
      "id": "9e6e3ca3",
      "metadata": {
        "ExecuteTime": {
          "end_time": "2021-09-20T20:03:51.955438Z",
          "start_time": "2021-09-20T20:03:51.947473Z"
        },
        "id": "9e6e3ca3",
        "outputId": "8925d113-07be-4f4a-bd71-b4ebe3ef926c"
      },
      "outputs": [
        {
          "data": {
            "text/plain": [
              "0      151.0\n",
              "1       75.0\n",
              "2      141.0\n",
              "3      206.0\n",
              "4      135.0\n",
              "       ...  \n",
              "437    178.0\n",
              "438    104.0\n",
              "439    132.0\n",
              "440    220.0\n",
              "441     57.0\n",
              "Name: target, Length: 442, dtype: float64"
            ]
          },
          "execution_count": 7,
          "metadata": {},
          "output_type": "execute_result"
        }
      ],
      "source": [
        "y"
      ]
    },
    {
      "cell_type": "code",
      "execution_count": null,
      "id": "093f5695",
      "metadata": {
        "ExecuteTime": {
          "end_time": "2021-09-20T20:03:51.962949Z",
          "start_time": "2021-09-20T20:03:51.957145Z"
        },
        "id": "093f5695"
      },
      "outputs": [],
      "source": [
        "# Разобьем данные на обучающую и тестовую выборки\n",
        "\n",
        "from sklearn.model_selection import train_test_split\n",
        "\n",
        "X_train, X_test, y_train, y_test = train_test_split(X, y)"
      ]
    },
    {
      "cell_type": "code",
      "execution_count": null,
      "metadata": {
        "id": "ef944OHib88V",
        "outputId": "9c6de041-97af-4bf7-c14f-b878ece1d891"
      },
      "outputs": [
        {
          "name": "stdout",
          "output_type": "stream",
          "text": [
            "Populating the interactive namespace from numpy and matplotlib\n"
          ]
        },
        {
          "data": {
            "text/plain": [
              "(array([38., 80., 68., 62., 50., 41., 38., 42., 17.,  6.]),\n",
              " array([ 25. ,  57.1,  89.2, 121.3, 153.4, 185.5, 217.6, 249.7, 281.8,\n",
              "        313.9, 346. ]),\n",
              " <a list of 10 Patch objects>)"
            ]
          },
          "execution_count": 13,
          "metadata": {},
          "output_type": "execute_result"
        },
        {
          "data": {
            "image/png": "[encoded data removed]",
            "text/plain": [
              "<Figure size 432x288 with 1 Axes>"
            ]
          },
          "metadata": {
            "needs_background": "light"
          },
          "output_type": "display_data"
        }
      ],
      "source": [
        "from matplotlib import pylab as plt\n",
        "%pylab inline\n",
        "\n",
        "plt.hist(y)"
      ],
      "id": "ef944OHib88V"
    },
    {
      "cell_type": "markdown",
      "id": "912f1b35",
      "metadata": {
        "id": "912f1b35"
      },
      "source": [
        "Как было рассказано на лекции, линейную регрессию можно обучать с помощью разного функционала (не только MSE, который мы разбирали на прошлом семинаре) и оценивать с помощью разных метрик - закодим это "
      ]
    },
    {
      "cell_type": "code",
      "execution_count": null,
      "metadata": {
        "id": "UuoWoq1rb88W",
        "outputId": "aaa9d7a7-f070-48c9-f2ee-9a2971ef3872"
      },
      "outputs": [
        {
          "data": {
            "text/plain": [
              "(array([33., 62., 53., 45., 31., 31., 27., 29., 15.,  5.]),\n",
              " array([ 25. ,  57.1,  89.2, 121.3, 153.4, 185.5, 217.6, 249.7, 281.8,\n",
              "        313.9, 346. ]),\n",
              " <a list of 10 Patch objects>)"
            ]
          },
          "execution_count": 14,
          "metadata": {},
          "output_type": "execute_result"
        },
        {
          "data": {
            "image/png": "[encoded data removed]",
            "text/plain": [
              "<Figure size 432x288 with 1 Axes>"
            ]
          },
          "metadata": {
            "needs_background": "light"
          },
          "output_type": "display_data"
        }
      ],
      "source": [
        "plt.hist(y_train)"
      ],
      "id": "UuoWoq1rb88W"
    },
    {
      "cell_type": "code",
      "execution_count": null,
      "metadata": {
        "id": "XmATyDfab88W",
        "outputId": "c9cd13ed-8f60-4992-c428-a2bd0ee7ff2e"
      },
      "outputs": [
        {
          "data": {
            "text/plain": [
              "(array([12., 16., 14., 16., 17., 10., 10., 13.,  2.,  1.]),\n",
              " array([ 37. ,  67.4,  97.8, 128.2, 158.6, 189. , 219.4, 249.8, 280.2,\n",
              "        310.6, 341. ]),\n",
              " <a list of 10 Patch objects>)"
            ]
          },
          "execution_count": 15,
          "metadata": {},
          "output_type": "execute_result"
        },
        {
          "data": {
            "image/png": "[encoded data removed]",
            "text/plain": [
              "<Figure size 432x288 with 1 Axes>"
            ]
          },
          "metadata": {
            "needs_background": "light"
          },
          "output_type": "display_data"
        }
      ],
      "source": [
        "plt.hist(y_test)"
      ],
      "id": "XmATyDfab88W"
    },
    {
      "cell_type": "code",
      "execution_count": null,
      "id": "b266dd96",
      "metadata": {
        "ExecuteTime": {
          "end_time": "2021-09-20T20:03:52.207120Z",
          "start_time": "2021-09-20T20:03:51.964240Z"
        },
        "id": "b266dd96",
        "outputId": "70d52319-5241-4d90-faea-45b008a6be8a"
      },
      "outputs": [
        {
          "name": "stdout",
          "output_type": "stream",
          "text": [
            "MSE loss: \n",
            "mae=41.80030893534715\n",
            "mse=2486.190309920277\n",
            "R2=0.5158769611953762\n",
            "\n",
            "MAE loss: \n",
            "mae=64.55889354447324\n",
            "mse=6254.362146684059\n",
            "R2=-0.21787974000043064\n",
            "\n"
          ]
        }
      ],
      "source": [
        "from sklearn.metrics import mean_squared_error, mean_absolute_error, r2_score\n",
        "\n",
        "lr_mse = SGDRegressor(loss='squared_loss', max_iter=50000) # MSE\n",
        "lr_mae = SGDRegressor(loss='epsilon_insensitive', epsilon=0, max_iter=50000) # MAE\n",
        "\n",
        "lr_mse.fit(X_train, y_train)\n",
        "lr_mae.fit(X_train, y_train)\n",
        "\n",
        "y_pred_mse = lr_mse.predict(X_test)\n",
        "y_pred_mae = lr_mae.predict(X_test)\n",
        "\n",
        "print(f'''MSE loss: \n",
        "mae={mean_absolute_error(y_test, y_pred_mse)}\n",
        "mse={mean_squared_error(y_test, y_pred_mse)}\n",
        "R2={r2_score(y_test, y_pred_mse)}\n",
        "''')\n",
        "\n",
        "print(f'''MAE loss: \n",
        "mae={mean_absolute_error(y_test, y_pred_mae)}\n",
        "mse={mean_squared_error(y_test, y_pred_mae)}\n",
        "R2={r2_score(y_test, y_pred_mae)}\n",
        "''')\n",
        "\n",
        "\n",
        "\n"
      ]
    },
    {
      "cell_type": "markdown",
      "id": "19825a90",
      "metadata": {
        "id": "19825a90"
      },
      "source": [
        "Как мы говорили раньше, метрика должна отражать реальную цель из мира, поэтому нередко возникает потребность в написании своих собственных метрик, которые лучше описывают вашу конретную реальность. В задачах, связанных с медициной (как у нас сейчас), довольно высокая цена ошибки (у человека есть диабет, а мы его не нашли). Поэтому для того, чтобы ответить на вопрос, можно ли модель использовать в жизни, имеет смысл использовать метрику максимальной ошибки модели\n",
        "\n",
        "$max error = max(|\\hat y_{i} - y_{i}|)$"
      ]
    },
    {
      "cell_type": "code",
      "execution_count": null,
      "id": "0af21500",
      "metadata": {
        "ExecuteTime": {
          "end_time": "2021-09-20T20:03:52.213290Z",
          "start_time": "2021-09-20T20:03:52.208515Z"
        },
        "id": "0af21500",
        "outputId": "3796e0bf-e203-46ab-d4de-18aa0527a2d1"
      },
      "outputs": [
        {
          "name": "stdout",
          "output_type": "stream",
          "text": [
            "MSE Loss: 110.51741467028845\n",
            "MAE Loss: 215.65472732449228\n"
          ]
        }
      ],
      "source": [
        "def max_error(y_true, y_pred):\n",
        "    max_erorr = np.abs(y_true - y_pred).max()\n",
        "    return max_erorr\n",
        "\n",
        "def quantile_error(y_true, y_pred, q=0.95):\n",
        "    q_error = np.quantile(np.abs(y_true -  y_pred), q)\n",
        "    return q_error\n",
        "\n",
        "# Оценим максимальную ошибку в обоих случаях\n",
        "\n",
        "print(f'MSE Loss: {max_error(y_test, y_pred_mse)}')\n",
        "print(f'MAE Loss: {max_error(y_test, y_pred_mae)}')"
      ]
    },
    {
      "cell_type": "markdown",
      "id": "afbc9291",
      "metadata": {
        "id": "afbc9291"
      },
      "source": [
        "BTW, в sklearn есть большое количество уже реализованных метрик - можете посмотреть их список и варианты применения здесь\n",
        "\n",
        "https://scikit-learn.org/stable/modules/model_evaluation.html#regression-metrics"
      ]
    },
    {
      "cell_type": "markdown",
      "id": "eecb1ad2",
      "metadata": {
        "id": "eecb1ad2"
      },
      "source": [
        "#  Кросс-валидация"
      ]
    },
    {
      "cell_type": "markdown",
      "id": "9107f201",
      "metadata": {
        "id": "9107f201"
      },
      "source": [
        "Когда выбран функционал и метрика, можно задаться вопросом: а насколько я могу доверять полученным результатам (значениям метрики), не являются ли они случайности или совпадением ? Кросс-валидация - это инструмент для ответа на этот вопрос."
      ]
    },
    {
      "cell_type": "code",
      "execution_count": null,
      "id": "316b94f3",
      "metadata": {
        "ExecuteTime": {
          "end_time": "2021-09-20T20:03:52.216719Z",
          "start_time": "2021-09-20T20:03:52.214661Z"
        },
        "id": "316b94f3"
      },
      "outputs": [],
      "source": [
        "from sklearn.model_selection import cross_validate, cross_val_score"
      ]
    },
    {
      "cell_type": "markdown",
      "id": "244c3991",
      "metadata": {
        "id": "244c3991"
      },
      "source": [
        "здесь можно посмотреть какие параметры требуются для этой функции\n",
        "https://scikit-learn.org/stable/modules/generated/sklearn.model_selection.cross_validate.html"
      ]
    },
    {
      "cell_type": "code",
      "execution_count": null,
      "id": "05b21625",
      "metadata": {
        "ExecuteTime": {
          "end_time": "2021-09-20T20:03:53.112215Z",
          "start_time": "2021-09-20T20:03:52.218043Z"
        },
        "id": "05b21625",
        "outputId": "4db21f92-4153-4dcc-aa6f-ea5b6480e7a9"
      },
      "outputs": [
        {
          "name": "stdout",
          "output_type": "stream",
          "text": [
            "test mse errors are [-2956.23745213 -3034.8706691  -3164.69449866 -2902.89782557\n",
            " -3034.71267133]\n",
            "mean test mse = -3018.6826233552993\n"
          ]
        }
      ],
      "source": [
        "# проверим на кросс-валидации значения ошибок MSE, MAE, R2 \n",
        "# для линейной регрессии, обученной с помощью функционала MSE\n",
        "\n",
        "num_splits=5\n",
        "\n",
        "cv_res = cross_validate(lr_mse,\n",
        "                     X,\n",
        "                     y,\n",
        "                     scoring='neg_mean_squared_error', # метрика, которую нужно оценить\n",
        "                     cv=num_splits # количество разбиений или класс-сплиттер\n",
        "                    )\n",
        "\n",
        "print(f\"test mse errors are {cv_res['test_score']}\")\n",
        "print(f\"mean test mse = {cv_res['test_score'].mean()}\")"
      ]
    },
    {
      "cell_type": "code",
      "execution_count": null,
      "metadata": {
        "id": "cfLqRRrPb88Z"
      },
      "outputs": [],
      "source": [
        "# sorted(sklearn.metrics.SCORERS.keys())"
      ],
      "id": "cfLqRRrPb88Z"
    },
    {
      "cell_type": "code",
      "execution_count": null,
      "id": "ab5906ac",
      "metadata": {
        "ExecuteTime": {
          "end_time": "2021-09-20T20:03:54.005611Z",
          "start_time": "2021-09-20T20:03:53.114755Z"
        },
        "id": "ab5906ac",
        "outputId": "3db202e5-66e6-42bb-ca43-2dc66dc0cea0"
      },
      "outputs": [
        {
          "name": "stdout",
          "output_type": "stream",
          "text": [
            "test mse errors are [-2981.14839205 -3058.98187675 -3160.60287851 -2899.08189237\n",
            " -3071.09535637] \n",
            "and  mean mse = -3034.182079211073\n",
            "\n",
            "test mae errors are [-44.98148939 -45.07946739 -48.01823569 -42.71843458 -44.54410135] \n",
            "and  mean mae = -45.06834567991787\n",
            "\n",
            "test R2 are [0.38826454 0.51784789 0.49499718 0.44740111 0.52538512] \n",
            "and  mean R2 = 0.47477916862164793\n",
            "\n"
          ]
        }
      ],
      "source": [
        "# Проведем кросс-валидацию сразу для нескольких метрик\n",
        "\n",
        "cv_res2 = cross_validate(lr_mse,\n",
        "                     X,\n",
        "                     y,\n",
        "                     scoring=['neg_mean_squared_error', 'neg_mean_absolute_error', 'r2'],\n",
        "                     cv=num_splits\n",
        "                    )\n",
        "print(f\"\"\"test mse errors are {cv_res2['test_neg_mean_squared_error']} \n",
        "and  mean mse = {cv_res2['test_neg_mean_squared_error'].mean()}\n",
        "\"\"\")\n",
        "\n",
        "print(f\"\"\"test mae errors are {cv_res2['test_neg_mean_absolute_error']} \n",
        "and  mean mae = {cv_res2['test_neg_mean_absolute_error'].mean()}\n",
        "\"\"\")\n",
        "\n",
        "\n",
        "print(f\"\"\"test R2 are {cv_res2['test_r2']} \n",
        "and  mean R2 = {cv_res2['test_r2'].mean()}\n",
        "\"\"\")\n"
      ]
    },
    {
      "cell_type": "code",
      "execution_count": null,
      "id": "8cb5c351",
      "metadata": {
        "ExecuteTime": {
          "end_time": "2021-09-20T20:03:54.925817Z",
          "start_time": "2021-09-20T20:03:54.007607Z"
        },
        "id": "8cb5c351",
        "outputId": "a95df431-f9f8-4356-8242-d0c11ade7a08"
      },
      "outputs": [
        {
          "data": {
            "text/plain": [
              "array([-137.30460221, -160.94153745, -120.72109177, -130.69395345,\n",
              "       -135.39903531])"
            ]
          },
          "execution_count": 174,
          "metadata": {},
          "output_type": "execute_result"
        }
      ],
      "source": [
        "# для тех, кто хочет хочет дополнительно подумать\n",
        "\n",
        "# кросс-валидацию можно проводить на основе своей кастомной метрики, но для этого\n",
        "# из нее нужно сделать объект scorer\n",
        "\n",
        "from sklearn.metrics import make_scorer\n",
        "\n",
        "max_error_scorer = make_scorer(max_error, greater_is_better=False)\n",
        "\n",
        "cv_res3 = cross_validate(lr_mse,\n",
        "                     X,\n",
        "                     y,\n",
        "                     scoring=max_error_scorer,\n",
        "                     cv=num_splits\n",
        "                    )\n",
        "cv_res3['test_score']"
      ]
    },
    {
      "cell_type": "markdown",
      "id": "a85e17c6",
      "metadata": {
        "id": "a85e17c6"
      },
      "source": [
        "# Немного feature engineering"
      ]
    },
    {
      "cell_type": "markdown",
      "id": "192c235d",
      "metadata": {
        "id": "192c235d"
      },
      "source": [
        "Один из самых главных источников улучшения качества прогноза модели - это информативный набор признаков. Поэтому в попытке улучшить качество нашей модели обогатим наше признаковое пространство попарныи произведениями признаков"
      ]
    },
    {
      "cell_type": "code",
      "execution_count": null,
      "id": "3f268b47",
      "metadata": {
        "ExecuteTime": {
          "end_time": "2021-09-20T20:03:54.996285Z",
          "start_time": "2021-09-20T20:03:54.927938Z"
        },
        "id": "3f268b47",
        "outputId": "730e1db5-c7ee-4009-ab2d-3926a3c639a4"
      },
      "outputs": [
        {
          "name": "stdout",
          "output_type": "stream",
          "text": [
            "Index(['age', 'sex', 'bmi', 'bp', 's1', 's2', 's3', 's4', 's5', 's6'], dtype='object')\n"
          ]
        },
        {
          "data": {
            "text/html": [
              "<div>\n",
              "<style scoped>\n",
              "    .dataframe tbody tr th:only-of-type {\n",
              "        vertical-align: middle;\n",
              "    }\n",
              "\n",
              "    .dataframe tbody tr th {\n",
              "        vertical-align: top;\n",
              "    }\n",
              "\n",
              "    .dataframe thead th {\n",
              "        text-align: right;\n",
              "    }\n",
              "</style>\n",
              "<table border=\"1\" class=\"dataframe\">\n",
              "  <thead>\n",
              "    <tr style=\"text-align: right;\">\n",
              "      <th></th>\n",
              "      <th>age</th>\n",
              "      <th>sex</th>\n",
              "      <th>bmi</th>\n",
              "      <th>bp</th>\n",
              "      <th>s1</th>\n",
              "      <th>s2</th>\n",
              "      <th>s3</th>\n",
              "      <th>s4</th>\n",
              "      <th>s5</th>\n",
              "      <th>s6</th>\n",
              "      <th>...</th>\n",
              "      <th>s6_x_age</th>\n",
              "      <th>s6_x_sex</th>\n",
              "      <th>s6_x_bmi</th>\n",
              "      <th>s6_x_bp</th>\n",
              "      <th>s6_x_s1</th>\n",
              "      <th>s6_x_s2</th>\n",
              "      <th>s6_x_s3</th>\n",
              "      <th>s6_x_s4</th>\n",
              "      <th>s6_x_s5</th>\n",
              "      <th>s6_x_s6</th>\n",
              "    </tr>\n",
              "  </thead>\n",
              "  <tbody>\n",
              "    <tr>\n",
              "      <th>0</th>\n",
              "      <td>0.038076</td>\n",
              "      <td>0.050680</td>\n",
              "      <td>0.061696</td>\n",
              "      <td>0.021872</td>\n",
              "      <td>-0.044223</td>\n",
              "      <td>-0.034821</td>\n",
              "      <td>-0.043401</td>\n",
              "      <td>-0.002592</td>\n",
              "      <td>0.019908</td>\n",
              "      <td>-0.017646</td>\n",
              "      <td>...</td>\n",
              "      <td>-0.000672</td>\n",
              "      <td>-0.000894</td>\n",
              "      <td>-0.001089</td>\n",
              "      <td>-0.000386</td>\n",
              "      <td>0.000780</td>\n",
              "      <td>0.000614</td>\n",
              "      <td>0.000766</td>\n",
              "      <td>0.000046</td>\n",
              "      <td>-0.000351</td>\n",
              "      <td>0.000311</td>\n",
              "    </tr>\n",
              "    <tr>\n",
              "      <th>1</th>\n",
              "      <td>-0.001882</td>\n",
              "      <td>-0.044642</td>\n",
              "      <td>-0.051474</td>\n",
              "      <td>-0.026328</td>\n",
              "      <td>-0.008449</td>\n",
              "      <td>-0.019163</td>\n",
              "      <td>0.074412</td>\n",
              "      <td>-0.039493</td>\n",
              "      <td>-0.068330</td>\n",
              "      <td>-0.092204</td>\n",
              "      <td>...</td>\n",
              "      <td>0.000174</td>\n",
              "      <td>0.004116</td>\n",
              "      <td>0.004746</td>\n",
              "      <td>0.002428</td>\n",
              "      <td>0.000779</td>\n",
              "      <td>0.001767</td>\n",
              "      <td>-0.006861</td>\n",
              "      <td>0.003641</td>\n",
              "      <td>0.006300</td>\n",
              "      <td>0.008502</td>\n",
              "    </tr>\n",
              "    <tr>\n",
              "      <th>2</th>\n",
              "      <td>0.085299</td>\n",
              "      <td>0.050680</td>\n",
              "      <td>0.044451</td>\n",
              "      <td>-0.005671</td>\n",
              "      <td>-0.045599</td>\n",
              "      <td>-0.034194</td>\n",
              "      <td>-0.032356</td>\n",
              "      <td>-0.002592</td>\n",
              "      <td>0.002864</td>\n",
              "      <td>-0.025930</td>\n",
              "      <td>...</td>\n",
              "      <td>-0.002212</td>\n",
              "      <td>-0.001314</td>\n",
              "      <td>-0.001153</td>\n",
              "      <td>0.000147</td>\n",
              "      <td>0.001182</td>\n",
              "      <td>0.000887</td>\n",
              "      <td>0.000839</td>\n",
              "      <td>0.000067</td>\n",
              "      <td>-0.000074</td>\n",
              "      <td>0.000672</td>\n",
              "    </tr>\n",
              "    <tr>\n",
              "      <th>3</th>\n",
              "      <td>-0.089063</td>\n",
              "      <td>-0.044642</td>\n",
              "      <td>-0.011595</td>\n",
              "      <td>-0.036656</td>\n",
              "      <td>0.012191</td>\n",
              "      <td>0.024991</td>\n",
              "      <td>-0.036038</td>\n",
              "      <td>0.034309</td>\n",
              "      <td>0.022692</td>\n",
              "      <td>-0.009362</td>\n",
              "      <td>...</td>\n",
              "      <td>0.000834</td>\n",
              "      <td>0.000418</td>\n",
              "      <td>0.000109</td>\n",
              "      <td>0.000343</td>\n",
              "      <td>-0.000114</td>\n",
              "      <td>-0.000234</td>\n",
              "      <td>0.000337</td>\n",
              "      <td>-0.000321</td>\n",
              "      <td>-0.000212</td>\n",
              "      <td>0.000088</td>\n",
              "    </tr>\n",
              "    <tr>\n",
              "      <th>4</th>\n",
              "      <td>0.005383</td>\n",
              "      <td>-0.044642</td>\n",
              "      <td>-0.036385</td>\n",
              "      <td>0.021872</td>\n",
              "      <td>0.003935</td>\n",
              "      <td>0.015596</td>\n",
              "      <td>0.008142</td>\n",
              "      <td>-0.002592</td>\n",
              "      <td>-0.031991</td>\n",
              "      <td>-0.046641</td>\n",
              "      <td>...</td>\n",
              "      <td>-0.000251</td>\n",
              "      <td>0.002082</td>\n",
              "      <td>0.001697</td>\n",
              "      <td>-0.001020</td>\n",
              "      <td>-0.000184</td>\n",
              "      <td>-0.000727</td>\n",
              "      <td>-0.000380</td>\n",
              "      <td>0.000121</td>\n",
              "      <td>0.001492</td>\n",
              "      <td>0.002175</td>\n",
              "    </tr>\n",
              "    <tr>\n",
              "      <th>...</th>\n",
              "      <td>...</td>\n",
              "      <td>...</td>\n",
              "      <td>...</td>\n",
              "      <td>...</td>\n",
              "      <td>...</td>\n",
              "      <td>...</td>\n",
              "      <td>...</td>\n",
              "      <td>...</td>\n",
              "      <td>...</td>\n",
              "      <td>...</td>\n",
              "      <td>...</td>\n",
              "      <td>...</td>\n",
              "      <td>...</td>\n",
              "      <td>...</td>\n",
              "      <td>...</td>\n",
              "      <td>...</td>\n",
              "      <td>...</td>\n",
              "      <td>...</td>\n",
              "      <td>...</td>\n",
              "      <td>...</td>\n",
              "      <td>...</td>\n",
              "    </tr>\n",
              "    <tr>\n",
              "      <th>437</th>\n",
              "      <td>0.041708</td>\n",
              "      <td>0.050680</td>\n",
              "      <td>0.019662</td>\n",
              "      <td>0.059744</td>\n",
              "      <td>-0.005697</td>\n",
              "      <td>-0.002566</td>\n",
              "      <td>-0.028674</td>\n",
              "      <td>-0.002592</td>\n",
              "      <td>0.031193</td>\n",
              "      <td>0.007207</td>\n",
              "      <td>...</td>\n",
              "      <td>0.000301</td>\n",
              "      <td>0.000365</td>\n",
              "      <td>0.000142</td>\n",
              "      <td>0.000431</td>\n",
              "      <td>-0.000041</td>\n",
              "      <td>-0.000018</td>\n",
              "      <td>-0.000207</td>\n",
              "      <td>-0.000019</td>\n",
              "      <td>0.000225</td>\n",
              "      <td>0.000052</td>\n",
              "    </tr>\n",
              "    <tr>\n",
              "      <th>438</th>\n",
              "      <td>-0.005515</td>\n",
              "      <td>0.050680</td>\n",
              "      <td>-0.015906</td>\n",
              "      <td>-0.067642</td>\n",
              "      <td>0.049341</td>\n",
              "      <td>0.079165</td>\n",
              "      <td>-0.028674</td>\n",
              "      <td>0.034309</td>\n",
              "      <td>-0.018118</td>\n",
              "      <td>0.044485</td>\n",
              "      <td>...</td>\n",
              "      <td>-0.000245</td>\n",
              "      <td>0.002255</td>\n",
              "      <td>-0.000708</td>\n",
              "      <td>-0.003009</td>\n",
              "      <td>0.002195</td>\n",
              "      <td>0.003522</td>\n",
              "      <td>-0.001276</td>\n",
              "      <td>0.001526</td>\n",
              "      <td>-0.000806</td>\n",
              "      <td>0.001979</td>\n",
              "    </tr>\n",
              "    <tr>\n",
              "      <th>439</th>\n",
              "      <td>0.041708</td>\n",
              "      <td>0.050680</td>\n",
              "      <td>-0.015906</td>\n",
              "      <td>0.017282</td>\n",
              "      <td>-0.037344</td>\n",
              "      <td>-0.013840</td>\n",
              "      <td>-0.024993</td>\n",
              "      <td>-0.011080</td>\n",
              "      <td>-0.046879</td>\n",
              "      <td>0.015491</td>\n",
              "      <td>...</td>\n",
              "      <td>0.000646</td>\n",
              "      <td>0.000785</td>\n",
              "      <td>-0.000246</td>\n",
              "      <td>0.000268</td>\n",
              "      <td>-0.000578</td>\n",
              "      <td>-0.000214</td>\n",
              "      <td>-0.000387</td>\n",
              "      <td>-0.000172</td>\n",
              "      <td>-0.000726</td>\n",
              "      <td>0.000240</td>\n",
              "    </tr>\n",
              "    <tr>\n",
              "      <th>440</th>\n",
              "      <td>-0.045472</td>\n",
              "      <td>-0.044642</td>\n",
              "      <td>0.039062</td>\n",
              "      <td>0.001215</td>\n",
              "      <td>0.016318</td>\n",
              "      <td>0.015283</td>\n",
              "      <td>-0.028674</td>\n",
              "      <td>0.026560</td>\n",
              "      <td>0.044528</td>\n",
              "      <td>-0.025930</td>\n",
              "      <td>...</td>\n",
              "      <td>0.001179</td>\n",
              "      <td>0.001158</td>\n",
              "      <td>-0.001013</td>\n",
              "      <td>-0.000032</td>\n",
              "      <td>-0.000423</td>\n",
              "      <td>-0.000396</td>\n",
              "      <td>0.000744</td>\n",
              "      <td>-0.000689</td>\n",
              "      <td>-0.001155</td>\n",
              "      <td>0.000672</td>\n",
              "    </tr>\n",
              "    <tr>\n",
              "      <th>441</th>\n",
              "      <td>-0.045472</td>\n",
              "      <td>-0.044642</td>\n",
              "      <td>-0.073030</td>\n",
              "      <td>-0.081414</td>\n",
              "      <td>0.083740</td>\n",
              "      <td>0.027809</td>\n",
              "      <td>0.173816</td>\n",
              "      <td>-0.039493</td>\n",
              "      <td>-0.004220</td>\n",
              "      <td>0.003064</td>\n",
              "      <td>...</td>\n",
              "      <td>-0.000139</td>\n",
              "      <td>-0.000137</td>\n",
              "      <td>-0.000224</td>\n",
              "      <td>-0.000249</td>\n",
              "      <td>0.000257</td>\n",
              "      <td>0.000085</td>\n",
              "      <td>0.000533</td>\n",
              "      <td>-0.000121</td>\n",
              "      <td>-0.000013</td>\n",
              "      <td>0.000009</td>\n",
              "    </tr>\n",
              "  </tbody>\n",
              "</table>\n",
              "<p>442 rows × 110 columns</p>\n",
              "</div>"
            ],
            "text/plain": [
              "          age       sex       bmi        bp        s1        s2        s3  \\\n",
              "0    0.038076  0.050680  0.061696  0.021872 -0.044223 -0.034821 -0.043401   \n",
              "1   -0.001882 -0.044642 -0.051474 -0.026328 -0.008449 -0.019163  0.074412   \n",
              "2    0.085299  0.050680  0.044451 -0.005671 -0.045599 -0.034194 -0.032356   \n",
              "3   -0.089063 -0.044642 -0.011595 -0.036656  0.012191  0.024991 -0.036038   \n",
              "4    0.005383 -0.044642 -0.036385  0.021872  0.003935  0.015596  0.008142   \n",
              "..        ...       ...       ...       ...       ...       ...       ...   \n",
              "437  0.041708  0.050680  0.019662  0.059744 -0.005697 -0.002566 -0.028674   \n",
              "438 -0.005515  0.050680 -0.015906 -0.067642  0.049341  0.079165 -0.028674   \n",
              "439  0.041708  0.050680 -0.015906  0.017282 -0.037344 -0.013840 -0.024993   \n",
              "440 -0.045472 -0.044642  0.039062  0.001215  0.016318  0.015283 -0.028674   \n",
              "441 -0.045472 -0.044642 -0.073030 -0.081414  0.083740  0.027809  0.173816   \n",
              "\n",
              "           s4        s5        s6  ...  s6_x_age  s6_x_sex  s6_x_bmi  \\\n",
              "0   -0.002592  0.019908 -0.017646  ... -0.000672 -0.000894 -0.001089   \n",
              "1   -0.039493 -0.068330 -0.092204  ...  0.000174  0.004116  0.004746   \n",
              "2   -0.002592  0.002864 -0.025930  ... -0.002212 -0.001314 -0.001153   \n",
              "3    0.034309  0.022692 -0.009362  ...  0.000834  0.000418  0.000109   \n",
              "4   -0.002592 -0.031991 -0.046641  ... -0.000251  0.002082  0.001697   \n",
              "..        ...       ...       ...  ...       ...       ...       ...   \n",
              "437 -0.002592  0.031193  0.007207  ...  0.000301  0.000365  0.000142   \n",
              "438  0.034309 -0.018118  0.044485  ... -0.000245  0.002255 -0.000708   \n",
              "439 -0.011080 -0.046879  0.015491  ...  0.000646  0.000785 -0.000246   \n",
              "440  0.026560  0.044528 -0.025930  ...  0.001179  0.001158 -0.001013   \n",
              "441 -0.039493 -0.004220  0.003064  ... -0.000139 -0.000137 -0.000224   \n",
              "\n",
              "      s6_x_bp   s6_x_s1   s6_x_s2   s6_x_s3   s6_x_s4   s6_x_s5   s6_x_s6  \n",
              "0   -0.000386  0.000780  0.000614  0.000766  0.000046 -0.000351  0.000311  \n",
              "1    0.002428  0.000779  0.001767 -0.006861  0.003641  0.006300  0.008502  \n",
              "2    0.000147  0.001182  0.000887  0.000839  0.000067 -0.000074  0.000672  \n",
              "3    0.000343 -0.000114 -0.000234  0.000337 -0.000321 -0.000212  0.000088  \n",
              "4   -0.001020 -0.000184 -0.000727 -0.000380  0.000121  0.001492  0.002175  \n",
              "..        ...       ...       ...       ...       ...       ...       ...  \n",
              "437  0.000431 -0.000041 -0.000018 -0.000207 -0.000019  0.000225  0.000052  \n",
              "438 -0.003009  0.002195  0.003522 -0.001276  0.001526 -0.000806  0.001979  \n",
              "439  0.000268 -0.000578 -0.000214 -0.000387 -0.000172 -0.000726  0.000240  \n",
              "440 -0.000032 -0.000423 -0.000396  0.000744 -0.000689 -0.001155  0.000672  \n",
              "441 -0.000249  0.000257  0.000085  0.000533 -0.000121 -0.000013  0.000009  \n",
              "\n",
              "[442 rows x 110 columns]"
            ]
          },
          "execution_count": 29,
          "metadata": {},
          "output_type": "execute_result"
        }
      ],
      "source": [
        "import copy\n",
        "\n",
        "cols = copy.deepcopy(X.columns)\n",
        "print(cols)\n",
        "\n",
        "for col1 in cols:\n",
        "    for col2 in cols:\n",
        "        col_name = col1 + '_x_' + col2\n",
        "        if col_name not in X.columns:\n",
        "            X[col_name] = X[col1]*X[col2]\n",
        "X"
      ]
    },
    {
      "cell_type": "markdown",
      "id": "9e5b9d73",
      "metadata": {
        "id": "9e5b9d73"
      },
      "source": [
        "# Переобучение и регуляризация"
      ]
    },
    {
      "cell_type": "markdown",
      "id": "31079bbe",
      "metadata": {
        "id": "31079bbe"
      },
      "source": [
        "Переобучение - ситуация, когда модель хорошо выучила обучающую выборку, но при этом показывает гораздо более низкое качество точности на тестовых данных. Это можно интерпретровать как модель стала слишком специфичной и потеряла обобщающую способность\n",
        "\n",
        "В случае линеной регрессии, одним из симптомов переобучения являются высокие значения весов. С этим борются регуляризацией.\n",
        "\n",
        "Регуляризация Lasso или L1-регуляризация:\n",
        "\n",
        "$Q_{lasso}(w) = Q(w) + \\alpha \\Sigma_{j=0}^{k}|w_{k}|$\n",
        "\n",
        "Регуляризация Ridge или L2-регуляризация:\n",
        "\n",
        "$Q_{ridge}(w) = Q(w) + \\alpha \\Sigma_{j=0}^{k}w_{k}^{2}$\n",
        "\n",
        "\n",
        "Как было рассказано в лекции, несмотря на то, что оба вида регуляризации ведут к занижению значений весов, отличие регуляризации Lasso заключается в том, что она может привести часть весов к 0 (что эквивалетно безинформативности  соответствующего признака), в случае Ridge регрессии веса могут быть сколько угодно близки к 0, но никогда не равны.\n",
        "\n",
        "Объяснение в лекции :)\n"
      ]
    },
    {
      "cell_type": "code",
      "execution_count": null,
      "id": "ba3352a3",
      "metadata": {
        "ExecuteTime": {
          "end_time": "2021-09-20T20:03:55.004798Z",
          "start_time": "2021-09-20T20:03:54.997613Z"
        },
        "id": "ba3352a3"
      },
      "outputs": [],
      "source": [
        "X_train, X_test, y_train, y_test = train_test_split(X, y)"
      ]
    },
    {
      "cell_type": "code",
      "execution_count": null,
      "metadata": {
        "id": "L-K2ex-jb88b",
        "outputId": "a388e7f3-f899-45aa-cd92-4f0f2bb4dfa1"
      },
      "outputs": [
        {
          "data": {
            "text/plain": [
              "3130.6572326667115"
            ]
          },
          "execution_count": 31,
          "metadata": {},
          "output_type": "execute_result"
        }
      ],
      "source": [
        "lr_mse.fit(X_train, y_train)\n",
        "\n",
        "pred = lr_mse.predict(X_test)\n",
        "\n",
        "mean_squared_error(y_test, pred)"
      ],
      "id": "L-K2ex-jb88b"
    },
    {
      "cell_type": "code",
      "execution_count": null,
      "id": "e6636439",
      "metadata": {
        "ExecuteTime": {
          "end_time": "2021-09-20T20:03:55.074878Z",
          "start_time": "2021-09-20T20:03:55.006328Z"
        },
        "scrolled": false,
        "id": "e6636439",
        "outputId": "3c21f883-f73d-41bb-cf39-72e43480f202"
      },
      "outputs": [
        {
          "name": "stdout",
          "output_type": "stream",
          "text": [
            "alpha=1e-08\n",
            "Train MSE: 2271.725388860244\n",
            "Test MSE: 3659.767956070298\n",
            "[ 6.30606294e+00  8.89019676e+01  4.57317239e+02  3.58799966e+02\n",
            " -2.45147510e+02  5.87757647e+01 -3.57390873e+02 -1.19682646e+01\n",
            "  6.55842850e+02  4.99962004e+01  1.38407644e+03  1.55783835e+03\n",
            "  1.33187294e+03  1.93154917e+03 -4.51904406e+03 -7.72921364e+02\n",
            "  4.73329841e+03  4.49943420e+03  8.44509567e+02  1.43457393e+02\n",
            " -1.46242861e+02 -5.63997486e+04  2.05411721e+03  1.36237021e+03\n",
            "  8.86792699e+03 -9.01259472e+03 -1.04387563e+03 -8.46274666e+02\n",
            " -2.14111519e+03  1.18950847e+03 -4.72775384e+02  1.35266470e+02\n",
            "  4.29860631e+02  2.52071260e+03 -1.44683628e+04  8.33654929e+03\n",
            "  6.80340621e+03 -6.66824019e+00  5.19812306e+03 -4.98962117e+01\n",
            "  3.11612688e+02 -5.02600794e+02  7.46999524e+02 -4.49806576e+02\n",
            "  1.10027739e+04 -1.10443501e+04 -3.77348178e+03 -9.38337813e+02\n",
            " -6.70245001e+03 -2.02106363e+03 -2.58175389e+03  1.15842267e+04\n",
            " -1.21947531e+04  1.57891013e+04  7.20648249e+03 -8.60171791e+03\n",
            " -4.98424812e+03 -1.76140494e+03 -7.50425213e+03 -2.81273827e+03\n",
            " -1.49840998e+02 -7.45425953e+03  1.16159604e+04 -1.00699507e+04\n",
            "  2.57079467e+03  4.84120134e+03 -2.52834440e+02 -8.60314715e+03\n",
            "  1.36476462e+04  6.11367225e+02  1.04129687e+03 -3.86774458e+03\n",
            "  3.49572764e+03 -6.01626785e+03 -5.64304793e+03  8.91159580e+02\n",
            "  5.80358459e+03  1.13807331e+04  3.03869733e+03  1.00104601e+03\n",
            "  1.47200127e+03  9.54373967e+02 -7.24042824e+02 -1.90629080e+01\n",
            "  1.94135467e+02 -3.87585556e+03 -3.32860643e+03  8.18583921e+03\n",
            " -9.95278188e+03  2.49535435e+03  9.95458236e+02 -5.15605322e+03\n",
            "  4.59547304e+03 -3.79364652e+03 -7.94943670e+03  7.32871906e+03\n",
            " -1.02209169e+03  4.23123340e+01  4.37564397e+03  1.40188064e+02\n",
            "  3.27640905e+02 -3.08238684e+02  3.96251866e+02 -1.24143289e+03\n",
            " -6.80239225e+03  4.10653644e+03  4.56381679e+03  3.30253085e+03\n",
            "  2.37507995e+03  2.34746444e+03] \n",
            "\n",
            "alpha=0.25\n",
            "Train MSE: 2993.898404345247\n",
            "Test MSE: 3229.6885389252157\n",
            "[  -0.          -24.5099673   512.50665889  203.73041936   -0.\n",
            "   -0.         -177.51956042    0.          413.26938018    0.\n",
            "    0.            0.            0.            0.           -0.\n",
            "   -0.           -0.            0.            0.            0.\n",
            "    0.           -0.            0.            0.            0.\n",
            "    0.            0.            0.            0.            0.\n",
            "    0.            0.            0.            0.            0.\n",
            "    0.           -0.            0.            0.            0.\n",
            "    0.            0.            0.            0.            0.\n",
            "    0.           -0.            0.            0.            0.\n",
            "   -0.            0.            0.            0.           -0.\n",
            "   -0.            0.           -0.            0.            0.\n",
            "   -0.            0.            0.            0.           -0.\n",
            "   -0.            0.           -0.            0.            0.\n",
            "   -0.            0.           -0.           -0.            0.\n",
            "    0.           -0.           -0.            0.           -0.\n",
            "    0.            0.            0.            0.           -0.\n",
            "   -0.           -0.            0.            0.            0.\n",
            "    0.            0.            0.            0.            0.\n",
            "    0.            0.            0.           -0.            0.\n",
            "    0.            0.            0.            0.            0.\n",
            "    0.           -0.            0.            0.            0.        ] \n",
            "\n",
            "alpha=0.5\n",
            "Train MSE: 3171.509164440217\n",
            "Test MSE: 3400.7804296208824\n",
            "[   0.           -0.          470.94944436  136.46616086   -0.\n",
            "   -0.         -104.43762479    0.          372.56663989    0.\n",
            "    0.            0.            0.            0.           -0.\n",
            "   -0.           -0.            0.            0.            0.\n",
            "    0.           -0.            0.            0.            0.\n",
            "    0.            0.            0.            0.            0.\n",
            "    0.            0.            0.            0.            0.\n",
            "   -0.           -0.            0.            0.            0.\n",
            "    0.            0.            0.            0.            0.\n",
            "    0.           -0.            0.            0.            0.\n",
            "   -0.            0.            0.            0.           -0.\n",
            "   -0.           -0.           -0.            0.            0.\n",
            "   -0.            0.           -0.            0.           -0.\n",
            "   -0.            0.           -0.            0.            0.\n",
            "   -0.            0.           -0.           -0.           -0.\n",
            "    0.           -0.            0.            0.           -0.\n",
            "    0.            0.            0.            0.           -0.\n",
            "   -0.            0.            0.            0.            0.\n",
            "    0.            0.            0.            0.            0.\n",
            "    0.            0.            0.           -0.            0.\n",
            "    0.            0.            0.            0.            0.\n",
            "    0.           -0.            0.            0.            0.        ] \n",
            "\n",
            "alpha=0.75\n",
            "Train MSE: 3436.33173725668\n",
            "Test MSE: 3651.3243257565614\n",
            "[  0.          -0.         426.90468899  74.58907687   0.\n",
            "   0.         -41.98224117   0.         329.08472114   0.\n",
            "   0.           0.           0.           0.          -0.\n",
            "  -0.          -0.           0.           0.           0.\n",
            "   0.          -0.           0.           0.           0.\n",
            "   0.           0.           0.           0.           0.\n",
            "   0.           0.           0.           0.          -0.\n",
            "  -0.          -0.           0.           0.           0.\n",
            "   0.           0.           0.           0.           0.\n",
            "   0.           0.           0.           0.           0.\n",
            "  -0.           0.          -0.           0.          -0.\n",
            "  -0.          -0.          -0.           0.           0.\n",
            "  -0.           0.          -0.           0.          -0.\n",
            "  -0.           0.          -0.           0.           0.\n",
            "  -0.           0.          -0.           0.          -0.\n",
            "   0.          -0.           0.           0.          -0.\n",
            "   0.           0.           0.           0.          -0.\n",
            "  -0.           0.           0.           0.           0.\n",
            "   0.           0.           0.           0.           0.\n",
            "   0.           0.           0.          -0.           0.\n",
            "   0.           0.           0.           0.           0.\n",
            "   0.          -0.           0.           0.           0.        ] \n",
            "\n",
            "alpha=1.0\n",
            "Train MSE: 3789.1169094541433\n",
            "Test MSE: 4001.826637720359\n",
            "[  0.           0.         377.63788815  13.45071615   0.\n",
            "   0.          -0.           0.         278.97979039   0.\n",
            "   0.           0.           0.           0.          -0.\n",
            "  -0.          -0.           0.           0.           0.\n",
            "   0.           0.           0.           0.           0.\n",
            "  -0.           0.           0.           0.           0.\n",
            "   0.           0.           0.           0.          -0.\n",
            "  -0.           0.           0.           0.           0.\n",
            "   0.           0.           0.           0.           0.\n",
            "   0.           0.           0.           0.           0.\n",
            "  -0.           0.          -0.           0.          -0.\n",
            "  -0.          -0.          -0.           0.           0.\n",
            "  -0.          -0.          -0.           0.          -0.\n",
            "  -0.           0.          -0.          -0.           0.\n",
            "  -0.           0.           0.           0.          -0.\n",
            "   0.          -0.           0.           0.          -0.\n",
            "   0.           0.           0.           0.          -0.\n",
            "  -0.           0.           0.           0.           0.\n",
            "   0.           0.           0.           0.           0.\n",
            "  -0.           0.           0.          -0.           0.\n",
            "   0.           0.           0.           0.           0.\n",
            "   0.          -0.           0.           0.           0.        ] \n",
            "\n"
          ]
        }
      ],
      "source": [
        "# альфа - это гиперпараметр, посмотрим как зависят значения весов от него\n",
        "\n",
        "from sklearn.linear_model import Lasso\n",
        "\n",
        "for a in np.arange(0, 1.1, 0.25):\n",
        "    if a == 0:\n",
        "        a += 0.00000001\n",
        "    lasso = Lasso(alpha=a)\n",
        "    lasso.fit(X_train, y_train)\n",
        "\n",
        "    y_pred_tr = lasso.predict(X_train)\n",
        "    y_pred2 = lasso.predict(X_test)\n",
        "\n",
        "    print('alpha={}'.format(a))\n",
        "    print('Train MSE:', mean_squared_error(y_train, y_pred_tr))\n",
        "    print('Test MSE:', mean_squared_error(y_test, y_pred2))\n",
        "    print(lasso.coef_,'\\n')"
      ]
    },
    {
      "cell_type": "code",
      "execution_count": null,
      "id": "c171dd89",
      "metadata": {
        "ExecuteTime": {
          "end_time": "2021-09-20T20:03:55.133640Z",
          "start_time": "2021-09-20T20:03:55.076921Z"
        },
        "scrolled": false,
        "id": "c171dd89",
        "outputId": "cefe6126-5a55-4c24-8d1c-0275e80e813f"
      },
      "outputs": [
        {
          "name": "stdout",
          "output_type": "stream",
          "text": [
            "alpha=1e-08\n",
            "Train MSE: 2246.746674588863\n",
            "Test MSE: 3673.3415006875694\n",
            "[ 2.18556701e+01 -2.65942929e+02  4.72285362e+02  3.55555885e+02\n",
            " -1.85524475e+04  1.61966483e+04  6.45399044e+03 -7.51780354e+01\n",
            "  6.71265814e+03  3.61372970e+01  1.41216741e+03  3.45588530e+02\n",
            "  2.44348282e+02  1.12011841e+03 -1.72700300e+03 -1.89540613e+03\n",
            "  1.85628475e+03  2.81873093e+03  6.74060288e+02  2.11323385e+02\n",
            "  3.45588530e+02 -1.60589167e+00  1.01799406e+03  3.89138759e+02\n",
            "  1.01943035e+04 -8.06642028e+03 -2.54090603e+03 -3.07718029e+02\n",
            " -3.12411417e+03  4.24288302e+02  2.44348282e+02  1.01799406e+03\n",
            "  3.08076829e+02  1.63420645e+03 -9.15242765e+03  6.28752958e+03\n",
            "  3.77998277e+03 -2.90156747e+02  3.86455988e+03  1.11004297e+02\n",
            "  1.12011841e+03  3.89138759e+02  1.63420645e+03 -6.32027029e+02\n",
            "  1.26171512e+04 -9.81613093e+03 -4.62792991e+03 -6.08622812e+02\n",
            " -4.80829536e+03 -1.45911069e+03 -1.72700299e+03  1.01943035e+04\n",
            " -9.15242765e+03  1.26171512e+04  1.08010154e+05 -7.46314899e+04\n",
            " -5.30149744e+04 -1.95612597e+04 -1.72188154e+04 -6.99174245e+03\n",
            " -1.89540612e+03 -8.06642028e+03  6.28752958e+03 -9.81613093e+03\n",
            " -7.46314899e+04  5.30575917e+04  3.59522464e+04  1.01219095e+04\n",
            "  1.24383162e+04  4.27500553e+03  1.85628475e+03 -2.54090603e+03\n",
            "  3.77998277e+03 -4.62792991e+03 -5.30149744e+04  3.59522464e+04\n",
            "  2.73049818e+04  1.09546580e+04  8.28771431e+03  3.56980931e+03\n",
            "  2.81873093e+03 -3.07718030e+02 -2.90156748e+02 -6.08622813e+02\n",
            " -1.95612597e+04  1.01219095e+04  1.09546580e+04  8.34962034e+03\n",
            "  2.43212760e+03  2.95005282e+03  6.74060289e+02 -3.12411417e+03\n",
            "  3.86455988e+03 -4.80829536e+03 -1.72188154e+04  1.24383162e+04\n",
            "  8.28771430e+03  2.43212760e+03  2.99153616e+04  2.05775253e+03\n",
            "  2.11323384e+02  4.24288302e+02  1.11004298e+02 -1.45911069e+03\n",
            " -6.99174245e+03  4.27500553e+03  3.56980931e+03  2.95005281e+03\n",
            "  2.05775253e+03  2.16758865e+03] \n",
            "\n",
            "alpha=0.25\n",
            "Train MSE: 2895.5357662158826\n",
            "Test MSE: 3167.3138305864813\n",
            "[-5.30389168e+00 -1.45297792e+02  4.24188653e+02  2.57946615e+02\n",
            " -5.53603939e+01 -5.47536053e+01 -2.07401347e+02  1.19242579e+02\n",
            "  3.49866622e+02  1.08975578e+02  1.49400438e+01  1.87889334e+01\n",
            "  9.61316868e+00  1.93404389e+01 -5.52899018e+00 -8.22543339e+00\n",
            " -7.01155445e+00  6.12177966e+00  9.28891146e+00  1.76448429e+01\n",
            "  1.87889334e+01 -8.77378135e-01  1.76534560e+01  1.40331489e+01\n",
            "  1.06276463e+01  3.91789492e+00  3.85662320e+00  3.05014810e+00\n",
            "  1.13449618e+01  1.71159762e+01  9.61316868e+00  1.76534560e+01\n",
            "  2.96470379e+01  2.37782383e+01  1.68035717e-01  1.05908179e+00\n",
            " -7.16451124e+00  7.97224865e+00  9.20323480e+00  2.32152386e+01\n",
            "  1.93404389e+01  1.40331489e+01  2.37782383e+01  1.19799386e+01\n",
            "  7.19968915e+00  5.67559133e+00 -3.48421647e-01  4.70825380e+00\n",
            "  6.33170493e+00  1.19416406e+01 -5.52899018e+00  1.06276463e+01\n",
            "  1.68035717e-01  7.19968915e+00  1.18755386e+00 -7.70900156e-01\n",
            "  4.28692996e+00 -7.77570871e+00  2.86526410e-01  6.14751920e+00\n",
            " -8.22543339e+00  3.91789492e+00  1.05908179e+00  5.67559133e+00\n",
            " -7.70900156e-01 -8.71147289e+00  3.25323229e+00 -7.20668202e+00\n",
            "  9.77382649e+00  1.07420327e+01 -7.01155445e+00  3.85662320e+00\n",
            " -7.16451124e+00 -3.48421647e-01  4.28692996e+00  3.25323229e+00\n",
            " -3.57568622e+00  1.21176776e+00  4.40335808e+00 -1.45095900e+01\n",
            "  6.12177966e+00  3.05014810e+00  7.97224865e+00  4.70825380e+00\n",
            " -7.77570871e+00 -7.20668202e+00  1.21176776e+00 -2.11064927e+00\n",
            " -2.94165194e+00  2.04058633e+01  9.28891146e+00  1.13449618e+01\n",
            "  9.20323480e+00  6.33170493e+00  2.86526410e-01  9.77382649e+00\n",
            "  4.40335808e+00 -2.94165194e+00 -1.85753386e+01  7.89858564e+00\n",
            "  1.76448429e+01  1.71159762e+01  2.32152386e+01  1.19416406e+01\n",
            "  6.14751920e+00  1.07420327e+01 -1.45095900e+01  2.04058633e+01\n",
            "  7.89858564e+00  3.51421377e+01] \n",
            "\n",
            "alpha=0.5\n",
            "Train MSE: 3048.0447119570117\n",
            "Test MSE: 3321.6478077274064\n",
            "[ 8.78233535e+00 -1.03161775e+02  3.54227054e+02  2.22466979e+02\n",
            " -2.45944477e+01 -3.86251905e+01 -1.86381712e+02  1.20329441e+02\n",
            "  2.90226070e+02  1.15061441e+02  6.98882496e+00  9.10282088e+00\n",
            "  4.36253923e+00  1.02684182e+01 -3.54574303e+00 -5.48307374e+00\n",
            " -3.81410131e+00  2.98927271e+00  5.43313940e+00  9.70903648e+00\n",
            "  9.10282088e+00 -6.22940546e-01  8.75830041e+00  6.71749976e+00\n",
            "  5.16053014e+00  1.44371240e+00  2.71590439e+00  1.25742155e+00\n",
            "  5.88942775e+00  8.62322891e+00  4.36253923e+00  8.75830041e+00\n",
            "  1.95290907e+01  1.32579454e+01 -4.22684248e-01 -5.08964171e-01\n",
            " -3.66117259e+00  4.20529465e+00  5.46353654e+00  1.31226486e+01\n",
            "  1.02684182e+01  6.71749976e+00  1.32579454e+01  8.04071532e+00\n",
            "  3.68747247e+00  2.09822477e+00  5.28553872e-02  2.36316901e+00\n",
            "  4.30604360e+00  7.21246698e+00 -3.54574303e+00  5.16053014e+00\n",
            " -4.22684248e-01  3.68747247e+00 -5.41690096e-01 -1.94172962e+00\n",
            "  1.87764715e+00 -4.09120772e+00 -3.20865958e-02  3.31230087e+00\n",
            " -5.48307374e+00  1.44371240e+00 -5.08964171e-01  2.09822477e+00\n",
            " -1.94172962e+00 -6.09051575e+00  3.22983371e+00 -5.13218950e+00\n",
            "  3.09279430e+00  5.04824153e+00 -3.81410131e+00  2.71590439e+00\n",
            " -3.66117259e+00  5.28553872e-02  1.87764715e+00  3.22983371e+00\n",
            " -5.12889722e+00  1.67997154e+00  1.93386090e+00 -7.94086368e+00\n",
            "  2.98927271e+00  1.25742155e+00  4.20529465e+00  2.36316901e+00\n",
            " -4.09120772e+00 -5.13218950e+00  1.67997154e+00 -8.50696982e-01\n",
            " -7.88090670e-01  1.12199578e+01  5.43313940e+00  5.88942775e+00\n",
            "  5.46353654e+00  4.30604360e+00 -3.20865958e-02  3.09279430e+00\n",
            "  1.93386090e+00 -7.88090670e-01 -7.87047501e+00  5.15605160e+00\n",
            "  9.70903648e+00  8.62322891e+00  1.31226486e+01  7.21246698e+00\n",
            "  3.31230087e+00  5.04824153e+00 -7.94086368e+00  1.12199578e+01\n",
            "  5.15605160e+00  1.91167863e+01] \n",
            "\n",
            "alpha=0.75\n",
            "Train MSE: 3193.310495516316\n",
            "Test MSE: 3473.326311957455\n",
            "[ 1.67968276e+01 -7.66385072e+01  3.06373530e+02  1.97043906e+02\n",
            " -9.07639498e+00 -2.39375504e+01 -1.68923249e+02  1.17111163e+02\n",
            "  2.52339471e+02  1.13326515e+02  4.30618277e+00  5.85466210e+00\n",
            "  2.57643668e+00  7.03954686e+00 -2.86330990e+00 -4.41773802e+00\n",
            " -2.70595064e+00  1.89205651e+00  3.91218224e+00  6.77299796e+00\n",
            "  5.85466210e+00 -4.62780264e-01  5.72817180e+00  4.27325162e+00\n",
            "  3.30834350e+00  6.67888103e-01  2.21148472e+00  6.75194807e-01\n",
            "  3.96189971e+00  5.67432458e+00  2.57643668e+00  5.72817180e+00\n",
            "  1.51166240e+01  9.36928205e+00 -5.87974077e-01 -9.18153026e-01\n",
            " -2.41249041e+00  2.85626623e+00  4.00197013e+00  9.38392789e+00\n",
            "  7.03954686e+00  4.27325162e+00  9.36928205e+00  6.30414149e+00\n",
            "  2.42087402e+00  9.55934617e-01  1.64987411e-01  1.53061778e+00\n",
            "  3.37934833e+00  5.30252114e+00 -2.86330990e+00  3.30834350e+00\n",
            " -5.87974077e-01  2.42087402e+00 -8.60008378e-01 -1.98954200e+00\n",
            "  1.09558650e+00 -2.75954075e+00 -8.84255845e-02  2.25962451e+00\n",
            " -4.41773802e+00  6.67888103e-01 -9.18153026e-01  9.55934617e-01\n",
            " -1.98954200e+00 -4.81113385e+00  2.92675146e+00 -4.08214675e+00\n",
            "  1.16794361e+00  3.13087807e+00 -2.70595064e+00  2.21148472e+00\n",
            " -2.41249041e+00  1.64987411e-01  1.09558650e+00  2.92675146e+00\n",
            " -5.09452821e+00  1.57369078e+00  1.15325967e+00 -5.60273095e+00\n",
            "  1.89205651e+00  6.75194807e-01  2.85626623e+00  1.53061778e+00\n",
            " -2.75954075e+00 -4.08214675e+00  1.57369078e+00 -2.84221778e-01\n",
            " -1.51568306e-01  7.94544496e+00  3.91218224e+00  3.96189971e+00\n",
            "  4.00197013e+00  3.37934833e+00 -8.84255845e-02  1.16794361e+00\n",
            "  1.15325967e+00 -1.51568306e-01 -4.49128568e+00  3.99846765e+00\n",
            "  6.77299796e+00  5.67432458e+00  9.38392789e+00  5.30252114e+00\n",
            "  2.25962451e+00  3.13087807e+00 -5.60273095e+00  7.94544496e+00\n",
            "  3.99846765e+00  1.34332718e+01] \n",
            "\n",
            "alpha=1.0\n",
            "Train MSE: 3326.0794678451675\n",
            "Test MSE: 3613.332843783042\n",
            "[ 2.14494756e+01 -5.88386338e+01  2.71154600e+02  1.77604400e+02\n",
            "  4.82522874e-01 -1.32080418e+01 -1.54660801e+02  1.12808055e+02\n",
            "  2.24969833e+02  1.09211830e+02  2.97895593e+00  4.24644756e+00\n",
            "  1.69597175e+00  5.35942350e+00 -2.48504543e+00 -3.79177325e+00\n",
            " -2.13402167e+00  1.33671570e+00  3.06468293e+00  5.20701713e+00\n",
            "  4.24644756e+00 -3.55296045e-01  4.21539996e+00  3.07404455e+00\n",
            "  2.39518940e+00  3.25198489e-01  1.89266871e+00  4.11197422e-01\n",
            "  2.97677189e+00  4.18233766e+00  1.69597175e+00  4.21539996e+00\n",
            "  1.24816372e+01  7.28834658e+00 -6.36755855e-01 -1.04865648e+00\n",
            " -1.76843504e+00  2.15885662e+00  3.19037465e+00  7.38198511e+00\n",
            "  5.35942350e+00  3.07404455e+00  7.28834658e+00  5.26046644e+00\n",
            "  1.76621600e+00  4.32382763e-01  2.00753359e-01  1.11125073e+00\n",
            "  2.81540762e+00  4.23009251e+00 -2.48504543e+00  2.39518940e+00\n",
            " -6.36755855e-01  1.76621600e+00 -8.90924352e-01 -1.84657774e+00\n",
            "  7.18244670e-01 -2.04776343e+00 -9.22146314e-02  1.70800091e+00\n",
            " -3.79177325e+00  3.25198489e-01 -1.04865648e+00  4.32382763e-01\n",
            " -1.84657774e+00 -3.98164705e+00  2.63870659e+00 -3.39421868e+00\n",
            "  3.57123677e-01  2.19218420e+00 -2.13402167e+00  1.89266871e+00\n",
            " -1.76843504e+00  2.00753359e-01  7.18244670e-01  2.63870659e+00\n",
            " -4.81816340e+00  1.41175300e+00  7.89401704e-01 -4.38102831e+00\n",
            "  1.33671570e+00  4.11197422e-01  2.15885662e+00  1.11125073e+00\n",
            " -2.04776343e+00 -3.39421868e+00  1.41175300e+00  4.24674225e-02\n",
            "  1.20488224e-01  6.23279539e+00  3.06468293e+00  2.97677189e+00\n",
            "  3.19037465e+00  2.81540762e+00 -9.22146314e-02  3.57123677e-01\n",
            "  7.89401704e-01  1.20488224e-01 -2.91482796e+00  3.32151191e+00\n",
            "  5.20701713e+00  4.18233766e+00  7.38198511e+00  4.23009251e+00\n",
            "  1.70800091e+00  2.19218420e+00 -4.38102831e+00  6.23279539e+00\n",
            "  3.32151191e+00  1.04702302e+01] \n",
            "\n"
          ]
        }
      ],
      "source": [
        "# альфа - это гиперпараметр, посмотрим как зависят значения весов от него\n",
        "\n",
        "from sklearn.linear_model import Ridge\n",
        "\n",
        "for a in np.arange(0, 1.1, 0.25):\n",
        "    if a == 0:\n",
        "        a += 0.00000001\n",
        "    ridge = Ridge(alpha=a)\n",
        "    ridge.fit(X_train, y_train)\n",
        "\n",
        "    y_pred_tr = ridge.predict(X_train)\n",
        "    y_pred2 = ridge.predict(X_test)\n",
        "\n",
        "    print('alpha={}'.format(a))\n",
        "    print('Train MSE:', mean_squared_error(y_train, y_pred_tr))\n",
        "    print('Test MSE:', mean_squared_error(y_test, y_pred2))\n",
        "    print(ridge.coef_,'\\n')"
      ]
    },
    {
      "cell_type": "markdown",
      "id": "02fb320a",
      "metadata": {
        "id": "02fb320a"
      },
      "source": [
        "А какой коэффициент альфа лучший ? И нужна ли здесь регуляризация ?\n",
        "\n",
        "Чтобы ответить на этот вопрос мы можем с помощью кросс-валидации перебрать различные значения альфы и выбрать лучшее значение. Этот процесс называется оптимизацией гиперпараметров. Альфа является гиперпараметром, потому что задача оптимизации функционала не позволяет найти ее оптимальное значение (в отличие от весов регрессии)."
      ]
    },
    {
      "cell_type": "code",
      "execution_count": null,
      "id": "a04ffd86",
      "metadata": {
        "ExecuteTime": {
          "end_time": "2021-09-20T20:03:55.295117Z",
          "start_time": "2021-09-20T20:03:55.135370Z"
        },
        "id": "a04ffd86",
        "outputId": "19aba09d-9ed6-4d2d-be20-7532e8dc0363"
      },
      "outputs": [
        {
          "name": "stdout",
          "output_type": "stream",
          "text": [
            "Optimal alpha value is 0.025125628240201005\n"
          ]
        }
      ],
      "source": [
        "from sklearn.linear_model import LassoCV\n",
        "\n",
        "n_alphas = 200\n",
        "alphas = np.linspace(1e-10, 5, n_alphas)\n",
        "\n",
        "lasso_cv = LassoCV(alphas=alphas, cv=5, random_state=42)\n",
        "lasso_cv.fit(X, y)\n",
        "\n",
        "print(f'Optimal alpha value is {lasso_cv.alpha_}')\n"
      ]
    },
    {
      "cell_type": "code",
      "execution_count": null,
      "id": "20de9b2c",
      "metadata": {
        "ExecuteTime": {
          "end_time": "2021-09-20T20:04:01.101956Z",
          "start_time": "2021-09-20T20:03:55.296894Z"
        },
        "scrolled": true,
        "id": "20de9b2c",
        "outputId": "475d854b-c16e-4946-e90d-04e66485778c"
      },
      "outputs": [
        {
          "name": "stdout",
          "output_type": "stream",
          "text": [
            "{'alpha': 0.025125628240201005}\n"
          ]
        }
      ],
      "source": [
        "# Более общий способ использования кросс-валидации для поиска лучшего набора гиперпараметров\n",
        "\n",
        "\n",
        "from sklearn.model_selection import GridSearchCV\n",
        "\n",
        "params = {'alpha':alphas}\n",
        "\n",
        "#print(params)\n",
        "cv = GridSearchCV(lasso,\n",
        "                  params,\n",
        "                  scoring='r2',\n",
        "                  cv=num_splits\n",
        "                 )\n",
        "cv.fit(X, y)\n",
        "\n",
        "print(cv.best_params_)"
      ]
    },
    {
      "cell_type": "markdown",
      "id": "3b10f2a2",
      "metadata": {
        "id": "3b10f2a2"
      },
      "source": [
        "Больше про то, как задавать поле поиска и какие еще есть методы оптимизации гиперпараметров можете прочитать здесь\n",
        "\n",
        "https://scikit-learn.org/stable/modules/grid_search.html"
      ]
    }
  ],
  "metadata": {
    "kernelspec": {
      "display_name": "Python 3",
      "language": "python",
      "name": "python3"
    },
    "language_info": {
      "codemirror_mode": {
        "name": "ipython",
        "version": 3
      },
      "file_extension": ".py",
      "mimetype": "text/x-python",
      "name": "python",
      "nbconvert_exporter": "python",
      "pygments_lexer": "ipython3",
      "version": "3.7.6"
    },
    "toc": {
      "base_numbering": 1,
      "nav_menu": {},
      "number_sections": true,
      "sideBar": true,
      "skip_h1_title": false,
      "title_cell": "Table of Contents",
      "title_sidebar": "Contents",
      "toc_cell": false,
      "toc_position": {},
      "toc_section_display": true,
      "toc_window_display": true
    },
    "colab": {
      "provenance": []
    }
  },
  "nbformat": 4,
  "nbformat_minor": 5
}