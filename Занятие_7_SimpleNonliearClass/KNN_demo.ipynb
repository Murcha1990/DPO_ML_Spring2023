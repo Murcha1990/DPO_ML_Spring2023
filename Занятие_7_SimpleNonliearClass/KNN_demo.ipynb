{
  "nbformat": 4,
  "nbformat_minor": 0,
  "metadata": {
    "colab": {
      "provenance": []
    },
    "kernelspec": {
      "name": "python3",
      "display_name": "Python 3"
    },
    "language_info": {
      "name": "python"
    }
  },
  "cells": [
    {
      "cell_type": "markdown",
      "source": [
        "# Метод ближайших соседей"
      ],
      "metadata": {
        "id": "rTWW8JZh8sK7"
      }
    },
    {
      "cell_type": "markdown",
      "source": [
        "## Импорт библиотек, установка константных значений"
      ],
      "metadata": {
        "id": "0T_uVSM482Ov"
      }
    },
    {
      "cell_type": "code",
      "execution_count": null,
      "metadata": {
        "id": "MRkA3-N0sgxC"
      },
      "outputs": [],
      "source": [
        "import numpy as np\n",
        "import pandas as pd\n",
        "import sklearn\n",
        "\n",
        "from sklearn.datasets import load_digits\n",
        "from sklearn.neighbors import KNeighborsClassifier\n",
        "from sklearn.utils import shuffle\n",
        "\n",
        "from matplotlib import pyplot as plt "
      ]
    },
    {
      "cell_type": "code",
      "source": [
        "RANDOM_STATE = 42\n",
        "TRAIN_SIZE = 0.7"
      ],
      "metadata": {
        "id": "oh3B9eIn84L6"
      },
      "execution_count": null,
      "outputs": []
    },
    {
      "cell_type": "markdown",
      "source": [
        "## Практика"
      ],
      "metadata": {
        "id": "_jTaax_l89hm"
      }
    },
    {
      "cell_type": "markdown",
      "source": [
        "Применим KNN к датасету с изображениями цифр. Это данные для 10-классовой классификации."
      ],
      "metadata": {
        "id": "tDe427A-9Ami"
      }
    },
    {
      "cell_type": "markdown",
      "source": [
        "Загрузим данные и посмотрим на них."
      ],
      "metadata": {
        "id": "b7CNa_Dbu6Db"
      }
    },
    {
      "cell_type": "code",
      "source": [
        "data = load_digits()\n",
        "X = data.images\n",
        "y = data.target\n",
        "\n",
        "X.shape"
      ],
      "metadata": {
        "colab": {
          "base_uri": "https://localhost:8080/"
        },
        "id": "-51OR1RGs20X",
        "outputId": "83bfb6a6-3b83-4e76-96ba-99c54269f266"
      },
      "execution_count": null,
      "outputs": [
        {
          "output_type": "execute_result",
          "data": {
            "text/plain": [
              "(1797, 8, 8)"
            ]
          },
          "metadata": {},
          "execution_count": 2
        }
      ]
    },
    {
      "cell_type": "code",
      "source": [
        "for i in range(3):\n",
        "  plt.figure(figsize=(2,2))\n",
        "  plt.imshow(X[i], cmap='gray')\n",
        "  plt.show()"
      ],
      "metadata": {
        "colab": {
          "base_uri": "https://localhost:8080/",
          "height": 458
        },
        "id": "teTWTi3muVMS",
        "outputId": "7d147378-0089-499f-e3cc-54c0afc96c76"
      },
      "execution_count": null,
      "outputs": [
        {
          "output_type": "display_data",
          "data": {
            "text/plain": [
              "<Figure size 144x144 with 1 Axes>"
            ],
            "image/png": "[encoded data removed]"
          },
          "metadata": {
            "needs_background": "light"
          }
        },
        {
          "output_type": "display_data",
          "data": {
            "text/plain": [
              "<Figure size 144x144 with 1 Axes>"
            ],
            "image/png": "[encoded data removed]"
          },
          "metadata": {
            "needs_background": "light"
          }
        },
        {
          "output_type": "display_data",
          "data": {
            "text/plain": [
              "<Figure size 144x144 with 1 Axes>"
            ],
            "image/png": "[encoded data removed]"
          },
          "metadata": {
            "needs_background": "light"
          }
        }
      ]
    },
    {
      "cell_type": "markdown",
      "source": [
        "Каждая картинка - это матрица чисел (яркостей пикселей). Но в стандартной постановке задач каждый объект (картинка) - это строчка своих признаков в матрице объект-признак. Поэтому вытянем каждую картинку в вектор."
      ],
      "metadata": {
        "id": "4ZxQiTE-u87L"
      }
    },
    {
      "cell_type": "code",
      "source": [
        "X = X.reshape(X.shape[0], -1)"
      ],
      "metadata": {
        "id": "RQK84Uc3s5PP"
      },
      "execution_count": null,
      "outputs": []
    },
    {
      "cell_type": "markdown",
      "source": [
        "Перемешаем данные, так как в исходном датасете числа идут друг за другом, а нам для обучения и тестирования модели нужен случайный порядок."
      ],
      "metadata": {
        "id": "tKiiefI0vJoy"
      }
    },
    {
      "cell_type": "code",
      "source": [
        "X, y = shuffle(X, y)\n",
        "\n",
        "print(f\"Features shape: {X.shape},\\nTarget shape: {y.shape}\")\n",
        "print(f\"Target samples: {y[:10]}\")"
      ],
      "metadata": {
        "colab": {
          "base_uri": "https://localhost:8080/"
        },
        "id": "BFsP_AS4vI--",
        "outputId": "83581e9e-193c-44a7-a432-4c0a7f12e685"
      },
      "execution_count": null,
      "outputs": [
        {
          "output_type": "stream",
          "name": "stdout",
          "text": [
            "Features shape: (1797, 64),\n",
            "Target shape: (1797,)\n",
            "Target samples: [6 6 6 7 7 3 4 2 1 3]\n"
          ]
        }
      ]
    },
    {
      "cell_type": "markdown",
      "source": [
        "Разобъем данные на трейн и тест."
      ],
      "metadata": {
        "id": "VGyrXZ0qvRza"
      }
    },
    {
      "cell_type": "code",
      "source": [
        "from sklearn.model_selection import train_test_split\n",
        "\n",
        "Xtrain, Xtest, ytrain, ytest = train_test_split(X, y,\n",
        "                                                train_size=TRAIN_SIZE,\n",
        "                                                random_state=RANDOM_STATE)"
      ],
      "metadata": {
        "id": "tJXBt5gns8DW"
      },
      "execution_count": null,
      "outputs": []
    },
    {
      "cell_type": "markdown",
      "source": [
        "Обучим KNN с взятым из головы числом соседей (10)."
      ],
      "metadata": {
        "id": "FWYnWj2ZvUDq"
      }
    },
    {
      "cell_type": "code",
      "source": [
        "clf = KNeighborsClassifier(n_neighbors=10)\n",
        "\n",
        "clf.fit(Xtrain, ytrain)\n",
        "prediction = clf.predict(Xtest)"
      ],
      "metadata": {
        "id": "VDxm9XqMtMe8"
      },
      "execution_count": null,
      "outputs": []
    },
    {
      "cell_type": "code",
      "source": [
        "from sklearn.metrics import accuracy_score\n",
        "\n",
        "accuracy_score(ytest, prediction)"
      ],
      "metadata": {
        "colab": {
          "base_uri": "https://localhost:8080/"
        },
        "id": "15qyAK2VtQhH",
        "outputId": "f7b06888-f0a4-4be2-b6b8-34202a4c329d"
      },
      "execution_count": null,
      "outputs": [
        {
          "output_type": "execute_result",
          "data": {
            "text/plain": [
              "0.9796296296296296"
            ]
          },
          "metadata": {},
          "execution_count": 8
        }
      ]
    },
    {
      "cell_type": "markdown",
      "source": [
        "Посмотрим, как число соседей влияет на качество модели."
      ],
      "metadata": {
        "id": "dBjkGel4vZK3"
      }
    },
    {
      "cell_type": "code",
      "source": [
        "for k in np.arange(3, 20, 3):\n",
        "    clf = KNeighborsClassifier(n_neighbors=k)\n",
        "\n",
        "    clf.fit(Xtrain, ytrain)\n",
        "    prediction = clf.predict(Xtest)\n",
        "\n",
        "    print('k:', k)\n",
        "    print('accuracy:', accuracy_score(ytest, prediction))"
      ],
      "metadata": {
        "colab": {
          "base_uri": "https://localhost:8080/"
        },
        "id": "n7i1EuP3tZoI",
        "outputId": "65dae271-2a2d-4937-8501-6db58469e3c3"
      },
      "execution_count": null,
      "outputs": [
        {
          "output_type": "stream",
          "name": "stdout",
          "text": [
            "k: 3\n",
            "accuracy: 0.9851851851851852\n",
            "k: 6\n",
            "accuracy: 0.9796296296296296\n",
            "k: 9\n",
            "accuracy: 0.9814814814814815\n",
            "k: 12\n",
            "accuracy: 0.9777777777777777\n",
            "k: 15\n",
            "accuracy: 0.975925925925926\n",
            "k: 18\n",
            "accuracy: 0.9722222222222222\n"
          ]
        }
      ]
    },
    {
      "cell_type": "markdown",
      "source": [
        "Посмотрим, как влияет на качество алгоритма способ учесть веса у ближайших соседей."
      ],
      "metadata": {
        "id": "XtVCAdrcvdWr"
      }
    },
    {
      "cell_type": "code",
      "source": [
        "for weights in ['uniform', 'distance']:\n",
        "    clf = KNeighborsClassifier(n_neighbors=3, weights=weights)\n",
        "\n",
        "    clf.fit(Xtrain, ytrain)\n",
        "    prediction = clf.predict(Xtest)\n",
        "\n",
        "    print('weights:', weights)\n",
        "    print('accuracy:', accuracy_score(ytest, prediction))"
      ],
      "metadata": {
        "colab": {
          "base_uri": "https://localhost:8080/"
        },
        "id": "-yJyiIWWt-5l",
        "outputId": "8ede6f95-906d-4ae5-de11-443b79b43f0e"
      },
      "execution_count": null,
      "outputs": [
        {
          "output_type": "stream",
          "name": "stdout",
          "text": [
            "weights: uniform\n",
            "accuracy: 0.9851851851851852\n",
            "weights: distance\n",
            "accuracy: 0.987037037037037\n"
          ]
        }
      ]
    },
    {
      "cell_type": "markdown",
      "source": [
        "Визуально оценим качество предсказаний"
      ],
      "metadata": {
        "id": "RJZb570CvqPJ"
      }
    },
    {
      "cell_type": "code",
      "source": [
        "for i in range(5):\n",
        "  print('predicted label:', prediction[i])\n",
        "  plt.figure(figsize=(2,2))\n",
        "  plt.imshow(Xtest[i].reshape((8,8)), cmap='gray')\n",
        "  plt.show()"
      ],
      "metadata": {
        "colab": {
          "base_uri": "https://localhost:8080/",
          "height": 824
        },
        "id": "fvTG9TY1vqa5",
        "outputId": "3a11b022-cea8-4190-fc48-380659536a52"
      },
      "execution_count": null,
      "outputs": [
        {
          "output_type": "stream",
          "name": "stdout",
          "text": [
            "predicted label: 6\n"
          ]
        },
        {
          "output_type": "display_data",
          "data": {
            "text/plain": [
              "<Figure size 144x144 with 1 Axes>"
            ],
            "image/png": "[encoded data removed]"
          },
          "metadata": {
            "needs_background": "light"
          }
        },
        {
          "output_type": "stream",
          "name": "stdout",
          "text": [
            "predicted label: 8\n"
          ]
        },
        {
          "output_type": "display_data",
          "data": {
            "text/plain": [
              "<Figure size 144x144 with 1 Axes>"
            ],
            "image/png": "[encoded data removed]"
          },
          "metadata": {
            "needs_background": "light"
          }
        },
        {
          "output_type": "stream",
          "name": "stdout",
          "text": [
            "predicted label: 2\n"
          ]
        },
        {
          "output_type": "display_data",
          "data": {
            "text/plain": [
              "<Figure size 144x144 with 1 Axes>"
            ],
            "image/png": "[encoded data removed]"
          },
          "metadata": {
            "needs_background": "light"
          }
        },
        {
          "output_type": "stream",
          "name": "stdout",
          "text": [
            "predicted label: 9\n"
          ]
        },
        {
          "output_type": "display_data",
          "data": {
            "text/plain": [
              "<Figure size 144x144 with 1 Axes>"
            ],
            "image/png": "[encoded data removed]"
          },
          "metadata": {
            "needs_background": "light"
          }
        },
        {
          "output_type": "stream",
          "name": "stdout",
          "text": [
            "predicted label: 1\n"
          ]
        },
        {
          "output_type": "display_data",
          "data": {
            "text/plain": [
              "<Figure size 144x144 with 1 Axes>"
            ],
            "image/png": "[encoded data removed]"
          },
          "metadata": {
            "needs_background": "light"
          }
        }
      ]
    },
    {
      "cell_type": "markdown",
      "source": [
        "Мы видим, что KNN довольно хорошо справился с задачей!  \n",
        "Подбор гиперпараметров (число соседей, способ подсчета весов соседей и другие) также влияет на качество предсказания модели."
      ],
      "metadata": {
        "id": "TLVG9HDUwSQa"
      }
    }
  ]
}