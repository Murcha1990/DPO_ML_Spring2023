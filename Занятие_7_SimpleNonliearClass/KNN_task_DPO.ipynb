{
  "nbformat": 4,
  "nbformat_minor": 0,
  "metadata": {
    "colab": {
      "provenance": []
    },
    "kernelspec": {
      "name": "python3",
      "display_name": "Python 3"
    },
    "language_info": {
      "name": "python"
    }
  },
  "cells": [
    {
      "cell_type": "markdown",
      "source": [
        "# Метрические алгоритмы. Практика"
      ],
      "metadata": {
        "id": "AkS7Lxm8nTLB"
      }
    },
    {
      "cell_type": "markdown",
      "source": [
        "В этом домашнем задании вы будете решать задачу классификации бутылок вина по различным характеристикам."
      ],
      "metadata": {
        "id": "3jgxaKLXynLQ"
      }
    },
    {
      "cell_type": "markdown",
      "source": [
        "## Импорт библиотек, установка константных значений"
      ],
      "metadata": {
        "id": "ow7CdXlWyrfI"
      }
    },
    {
      "cell_type": "code",
      "source": [
        "import pandas as pd\n",
        "import numpy as np"
      ],
      "metadata": {
        "id": "shgV5ZT-oLG2"
      },
      "execution_count": null,
      "outputs": []
    },
    {
      "cell_type": "code",
      "source": [
        "RANDOM_STATE = 42\n",
        "TRAIN_SIZE = 0.75"
      ],
      "metadata": {
        "id": "85Rgp6ivyvZq"
      },
      "execution_count": null,
      "outputs": []
    },
    {
      "cell_type": "code",
      "source": [
        "rng = np.random.default_rng(RANDOM_STATE)"
      ],
      "metadata": {
        "id": "QGpwI1GxyySs"
      },
      "execution_count": null,
      "outputs": []
    },
    {
      "cell_type": "markdown",
      "source": [
        "## Загрузка данных"
      ],
      "metadata": {
        "id": "uOk2Swygyxho"
      }
    },
    {
      "cell_type": "code",
      "execution_count": null,
      "metadata": {
        "id": "_8RhxtHwwzTG"
      },
      "outputs": [],
      "source": [
        "from sklearn.datasets import load_wine\n",
        "\n",
        "data = load_wine(as_frame=True)\n",
        "\n",
        "X = data.data\n",
        "y = data.target"
      ]
    },
    {
      "cell_type": "markdown",
      "source": [
        "## Задание 1"
      ],
      "metadata": {
        "id": "KvNTy4_yzOwY"
      }
    },
    {
      "cell_type": "markdown",
      "source": [
        "Посмотрите на количество классов и количество объектов каждого класса в датасете."
      ],
      "metadata": {
        "id": "PNKeCjtEncob"
      }
    },
    {
      "cell_type": "markdown",
      "source": [
        "**Вопрос**:  \n",
        "Сколько классов в задаче?"
      ],
      "metadata": {
        "id": "1O1xV6KWzW8e"
      }
    },
    {
      "cell_type": "code",
      "source": [
        "# ваш код здесь"
      ],
      "metadata": {
        "id": "vnIXJMT9nh78"
      },
      "execution_count": null,
      "outputs": []
    },
    {
      "cell_type": "markdown",
      "source": [
        "## Задание 2"
      ],
      "metadata": {
        "id": "jk9RqS69z6af"
      }
    },
    {
      "cell_type": "markdown",
      "source": [
        "Мы имеем дело с многоклассовой классификацией. Кроме того, классы не очень хорошо сбалансированы, поэтому для оценки качества модели метрика *accuracy* не подойдет."
      ],
      "metadata": {
        "id": "S8dnUB81nkG0"
      }
    },
    {
      "cell_type": "markdown",
      "source": [
        "Разбейте данные на тренировочную и тестовую части:  \n",
        "тестовая часть - 25% от всех данных, зафиксируйте `random_state = RANDOM_STATE`."
      ],
      "metadata": {
        "id": "qM6ZTfphyL8W"
      }
    },
    {
      "cell_type": "code",
      "source": [
        "from sklearn.model_selection import train_test_split\n",
        "\n",
        "X_train, X_test, y_train, y_test = # ваш код здесь"
      ],
      "metadata": {
        "id": "f16RkGUaxUh4"
      },
      "execution_count": null,
      "outputs": []
    },
    {
      "cell_type": "markdown",
      "source": [
        "**Вопрос:**\n",
        "\n",
        "Все ли признаки в данных одного масштаба?  \n",
        "Проверьте это, выведя основные числовые характеристики матрицы `X_train` методом `describe` из библиотеки `pandas`.\n",
        "\n",
        "По полученной таблице числовых характеристик определите, какой признак измеряется в сотнях?  \n",
        "(если вариантов несколько, выберите признак с наибольшим средним значением)."
      ],
      "metadata": {
        "id": "bX6Vv4dryREe"
      }
    },
    {
      "cell_type": "code",
      "source": [
        "# ваш код здесь"
      ],
      "metadata": {
        "id": "VTOG8ggByUSZ"
      },
      "execution_count": null,
      "outputs": []
    },
    {
      "cell_type": "markdown",
      "source": [
        "## Задание 3"
      ],
      "metadata": {
        "id": "6VANARbT0Vu5"
      }
    },
    {
      "cell_type": "markdown",
      "source": [
        "KNN требует того, чтобы все признаки были одного масштаба, поэтому масштабируйте данные при помощи `StandardScaler`.\n",
        "\n",
        "Напоминаем, что обучать метод нужно только по тренировочным данным, а применять и к трейну, и к тесту.\n",
        "\n",
        "После применения `StandardScaler` преобразуйте `X_train` и `X_test` к типу `pd.DataFrame`, названия новых объектов оставьте `X_train` и `X_test`."
      ],
      "metadata": {
        "id": "e1dfCiISo_GH"
      }
    },
    {
      "cell_type": "code",
      "source": [
        "from sklearn.preprocessing import StandardScaler\n",
        "\n",
        "# ваш код здесь"
      ],
      "metadata": {
        "id": "IMWxZOLMpLg_"
      },
      "execution_count": null,
      "outputs": []
    },
    {
      "cell_type": "markdown",
      "source": [
        "Обучите KNN с параметрами по умолчанию на тренировочных данных и сделайте предсказание на тесте."
      ],
      "metadata": {
        "id": "wfjxuX1hyOpd"
      }
    },
    {
      "cell_type": "code",
      "source": [
        "from sklearn.neighbors import KNeighborsClassifier\n",
        "\n",
        "# ваш код здесь"
      ],
      "metadata": {
        "id": "VeyYEAO2yQhL"
      },
      "execution_count": null,
      "outputs": []
    },
    {
      "cell_type": "markdown",
      "source": [
        "Будем измерять качество модели по метрике weighted $f1$-score.\n",
        "\n",
        "Чтобы выбрать тип усреднения (micro, macro, weighted) в функции `f1_score` необходимо задать этот тип в гиперпараметре `average`.\n",
        "\n",
        "Вычислите $f1$-score на тестовых данных."
      ],
      "metadata": {
        "id": "E18N3QNMrQLw"
      }
    },
    {
      "cell_type": "markdown",
      "source": [
        "**Вопрос:**\n",
        "\n",
        "Чему равен $f1$-score на тестовых данных?"
      ],
      "metadata": {
        "id": "aLaSCeCf0uPd"
      }
    },
    {
      "cell_type": "code",
      "source": [
        "from sklearn.metrics import f1_score\n",
        "\n",
        "# ваш код здесь"
      ],
      "metadata": {
        "id": "TdhIWbULrnPv"
      },
      "execution_count": null,
      "outputs": []
    },
    {
      "cell_type": "markdown",
      "source": [
        "## Задание 4"
      ],
      "metadata": {
        "id": "kco77ab200s9"
      }
    },
    {
      "cell_type": "markdown",
      "source": [
        "Попробуем улучшить модель.\n",
        "\n",
        "Подберите оптимальное количество соседей (`n_neigbors`) из диапазона *от 3 до 30 с шагом 2* и веса соседей (`weights`):  \n",
        "`uniform`, `distance` по кросс-валидации с тремя фолдами на тренировочных данных.\n",
        "\n",
        "Используйте `GridSearchCV` и метрику `f1_weighted`."
      ],
      "metadata": {
        "id": "BONbGWi1yVIQ"
      }
    },
    {
      "cell_type": "code",
      "source": [
        "from sklearn.model_selection import GridSearchCV\n",
        "\n",
        "# ваш код здесь"
      ],
      "metadata": {
        "id": "6nM_wc6iydB-"
      },
      "execution_count": null,
      "outputs": []
    },
    {
      "cell_type": "markdown",
      "source": [
        "Заново обучите KNN с наилучшими по `GridSearch` гиперпараметрами на тренировочных данных,  \n",
        "сделайте предсказание на тесте и вычислите метрику `f1_weighted`."
      ],
      "metadata": {
        "id": "b6mM-XXps5Af"
      }
    },
    {
      "cell_type": "code",
      "source": [
        "# ваш код здесь"
      ],
      "metadata": {
        "id": "6Sn00daNtGWd"
      },
      "execution_count": null,
      "outputs": []
    },
    {
      "cell_type": "markdown",
      "source": [
        "**Вопрос:**\n",
        "\n",
        "Удалось ли при помощи подбора гиперпараметров улучшить качество модели на тестовых данных?"
      ],
      "metadata": {
        "id": "HzAQzK3JtT7h"
      }
    },
    {
      "cell_type": "markdown",
      "source": [
        "## Задание 5"
      ],
      "metadata": {
        "id": "iLzHwlkj1cjs"
      }
    },
    {
      "cell_type": "markdown",
      "source": [
        "Выведите на экран матрицу ошибок.\n",
        "\n",
        "Используйте модель с подобранными при помощи `GridSearch` гиперпараметрами.\n"
      ],
      "metadata": {
        "id": "tdm2A5SSylYQ"
      }
    },
    {
      "cell_type": "markdown",
      "source": [
        "**Вопрос:**  \n",
        "По этой матрице определите, какие классы между собой путает модель?"
      ],
      "metadata": {
        "id": "FHgD2EQG1i1V"
      }
    },
    {
      "cell_type": "code",
      "source": [
        "from sklearn.metrics import confusion_matrix\n",
        "\n",
        "# ваш код здесь"
      ],
      "metadata": {
        "id": "I5u0A5a0yqge"
      },
      "execution_count": null,
      "outputs": []
    }
  ]
}