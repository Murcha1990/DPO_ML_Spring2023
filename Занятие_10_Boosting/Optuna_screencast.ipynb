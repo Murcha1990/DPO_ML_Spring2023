{
  "nbformat": 4,
  "nbformat_minor": 0,
  "metadata": {
    "colab": {
      "provenance": []
    },
    "kernelspec": {
      "name": "python3",
      "display_name": "Python 3"
    },
    "language_info": {
      "name": "python"
    }
  },
  "cells": [
    {
      "cell_type": "markdown",
      "source": [
        "## Общий алгоритм работы с Optuna"
      ],
      "metadata": {
        "id": "ul3rzuwwsxr8"
      }
    },
    {
      "cell_type": "code",
      "source": [
        "!pip install optuna -q"
      ],
      "metadata": {
        "id": "_LL7Hsx7tDJZ",
        "colab": {
          "base_uri": "https://localhost:8080/"
        },
        "outputId": "b1d60d5c-f60e-4698-a8c1-4d637ec27264"
      },
      "execution_count": null,
      "outputs": [
        {
          "output_type": "stream",
          "name": "stdout",
          "text": [
            "\u001b[2K     \u001b[90m━━━━━━━━━━━━━━━━━━━━━━━━━━━━━━━━━━━━━━━\u001b[0m \u001b[32m365.3/365.3 KB\u001b[0m \u001b[31m9.5 MB/s\u001b[0m eta \u001b[36m0:00:00\u001b[0m\n",
            "\u001b[2K     \u001b[90m━━━━━━━━━━━━━━━━━━━━━━━━━━━━━━━━━━━━━━\u001b[0m \u001b[32m210.5/210.5 KB\u001b[0m \u001b[31m19.4 MB/s\u001b[0m eta \u001b[36m0:00:00\u001b[0m\n",
            "\u001b[2K     \u001b[90m━━━━━━━━━━━━━━━━━━━━━━━━━━━━━━━━━━━━━━━━\u001b[0m \u001b[32m78.7/78.7 KB\u001b[0m \u001b[31m5.5 MB/s\u001b[0m eta \u001b[36m0:00:00\u001b[0m\n",
            "\u001b[?25h"
          ]
        }
      ]
    },
    {
      "cell_type": "markdown",
      "source": [
        "1. Определяем целевую функцию objective, через аргументы она будет получать специальный объект trial. С его помощью можно назначать различные гипермараметры, Например, как в примере ниже, мы задаем x в интервале [-10,10].\n",
        "\n",
        "2. Далее создаем объект обучения с помощью метода optuna.create_study.\n",
        "\n",
        "3. Запускаем оптимизацию целевой функции objective на 10 итераций n_trials=10. Происходит 10 вызовов нашей функции с различными параметрами от -10 до 10. Какие именно параметры выбирает optuna будет описано ниже."
      ],
      "metadata": {
        "id": "FSX_n4jEs4bV"
      }
    },
    {
      "cell_type": "code",
      "source": [
        "import optuna\n",
        "\n",
        "def objective(trial):\n",
        "    x = trial.suggest_float('x', -10, 10)\n",
        "    return (x - 2) ** 2\n",
        "\n",
        "study = optuna.create_study()\n",
        "study.optimize(objective, n_trials=20)\n",
        "\n",
        "study.best_params "
      ],
      "metadata": {
        "colab": {
          "base_uri": "https://localhost:8080/"
        },
        "id": "38XypFszs1Ym",
        "outputId": "ac57f2e5-e0e5-4a10-e1ca-405a7ca8e22e"
      },
      "execution_count": null,
      "outputs": [
        {
          "output_type": "stream",
          "name": "stderr",
          "text": [
            "\u001b[32m[I 2023-03-05 14:36:49,304]\u001b[0m A new study created in memory with name: no-name-c4ac6997-45e1-4792-98a3-66bcc5a4f76c\u001b[0m\n",
            "\u001b[32m[I 2023-03-05 14:36:49,314]\u001b[0m Trial 0 finished with value: 47.09766018867022 and parameters: {'x': -4.862773505563929}. Best is trial 0 with value: 47.09766018867022.\u001b[0m\n",
            "\u001b[32m[I 2023-03-05 14:36:49,320]\u001b[0m Trial 1 finished with value: 14.01070423681723 and parameters: {'x': 5.743087527271735}. Best is trial 1 with value: 14.01070423681723.\u001b[0m\n",
            "\u001b[32m[I 2023-03-05 14:36:49,322]\u001b[0m Trial 2 finished with value: 5.10330391026164 and parameters: {'x': -0.25904933772187455}. Best is trial 2 with value: 5.10330391026164.\u001b[0m\n",
            "\u001b[32m[I 2023-03-05 14:36:49,332]\u001b[0m Trial 3 finished with value: 21.666504578094543 and parameters: {'x': 6.654729270118139}. Best is trial 2 with value: 5.10330391026164.\u001b[0m\n",
            "\u001b[32m[I 2023-03-05 14:36:49,337]\u001b[0m Trial 4 finished with value: 0.019053192885253242 and parameters: {'x': 1.8619666964633055}. Best is trial 4 with value: 0.019053192885253242.\u001b[0m\n",
            "\u001b[32m[I 2023-03-05 14:36:49,341]\u001b[0m Trial 5 finished with value: 47.53362319247019 and parameters: {'x': -4.894463227291171}. Best is trial 4 with value: 0.019053192885253242.\u001b[0m\n",
            "\u001b[32m[I 2023-03-05 14:36:49,344]\u001b[0m Trial 6 finished with value: 27.847581609302072 and parameters: {'x': 7.277080784799686}. Best is trial 4 with value: 0.019053192885253242.\u001b[0m\n",
            "\u001b[32m[I 2023-03-05 14:36:49,351]\u001b[0m Trial 7 finished with value: 41.98641404586499 and parameters: {'x': -4.479692434511455}. Best is trial 4 with value: 0.019053192885253242.\u001b[0m\n",
            "\u001b[32m[I 2023-03-05 14:36:49,355]\u001b[0m Trial 8 finished with value: 60.64733483637274 and parameters: {'x': -5.78763987587849}. Best is trial 4 with value: 0.019053192885253242.\u001b[0m\n",
            "\u001b[32m[I 2023-03-05 14:36:49,358]\u001b[0m Trial 9 finished with value: 15.88738105788341 and parameters: {'x': -1.9858977731351075}. Best is trial 4 with value: 0.019053192885253242.\u001b[0m\n",
            "\u001b[32m[I 2023-03-05 14:36:49,375]\u001b[0m Trial 10 finished with value: 1.092276886609809 and parameters: {'x': 3.045120512960017}. Best is trial 4 with value: 0.019053192885253242.\u001b[0m\n",
            "\u001b[32m[I 2023-03-05 14:36:49,383]\u001b[0m Trial 11 finished with value: 1.205871893386794 and parameters: {'x': 3.0981219847479577}. Best is trial 4 with value: 0.019053192885253242.\u001b[0m\n",
            "\u001b[32m[I 2023-03-05 14:36:49,393]\u001b[0m Trial 12 finished with value: 0.7422109090917534 and parameters: {'x': 2.861516633090594}. Best is trial 4 with value: 0.019053192885253242.\u001b[0m\n",
            "\u001b[32m[I 2023-03-05 14:36:49,405]\u001b[0m Trial 13 finished with value: 133.20945184601766 and parameters: {'x': -9.541639911469153}. Best is trial 4 with value: 0.019053192885253242.\u001b[0m\n",
            "\u001b[32m[I 2023-03-05 14:36:49,415]\u001b[0m Trial 14 finished with value: 61.42945521840383 and parameters: {'x': 9.837694509127275}. Best is trial 4 with value: 0.019053192885253242.\u001b[0m\n",
            "\u001b[32m[I 2023-03-05 14:36:49,425]\u001b[0m Trial 15 finished with value: 0.20709408677876645 and parameters: {'x': 2.4550759132043427}. Best is trial 4 with value: 0.019053192885253242.\u001b[0m\n",
            "\u001b[32m[I 2023-03-05 14:36:49,434]\u001b[0m Trial 16 finished with value: 1.1622795490362763 and parameters: {'x': 0.9219093038912374}. Best is trial 4 with value: 0.019053192885253242.\u001b[0m\n",
            "\u001b[32m[I 2023-03-05 14:36:49,443]\u001b[0m Trial 17 finished with value: 4.2723488523185305 and parameters: {'x': -0.066966098492796}. Best is trial 4 with value: 0.019053192885253242.\u001b[0m\n",
            "\u001b[32m[I 2023-03-05 14:36:49,454]\u001b[0m Trial 18 finished with value: 6.934564589351999 and parameters: {'x': 4.633356145558743}. Best is trial 4 with value: 0.019053192885253242.\u001b[0m\n",
            "\u001b[32m[I 2023-03-05 14:36:49,464]\u001b[0m Trial 19 finished with value: 0.19416816615192836 and parameters: {'x': 1.559354829650967}. Best is trial 4 with value: 0.019053192885253242.\u001b[0m\n"
          ]
        },
        {
          "output_type": "execute_result",
          "data": {
            "text/plain": [
              "{'x': 1.8619666964633055}"
            ]
          },
          "metadata": {},
          "execution_count": 2
        }
      ]
    },
    {
      "cell_type": "markdown",
      "source": [
        "## Загрузка данных и импорт библиотек"
      ],
      "metadata": {
        "id": "nOQp8no8gSN-"
      }
    },
    {
      "cell_type": "code",
      "source": [
        "from sklearn.model_selection import cross_val_score, train_test_split\n",
        "from sklearn.metrics import r2_score\n",
        "\n",
        "from sklearn.datasets import fetch_california_housing"
      ],
      "metadata": {
        "id": "oZyZjRRMew4L"
      },
      "execution_count": null,
      "outputs": []
    },
    {
      "cell_type": "code",
      "source": [
        "RANDOM_STATE = 42"
      ],
      "metadata": {
        "id": "H1qNhioLgPbo"
      },
      "execution_count": null,
      "outputs": []
    },
    {
      "cell_type": "code",
      "source": [
        "!pip install lightgbm -q"
      ],
      "metadata": {
        "id": "5wBR-CrirYoA"
      },
      "execution_count": null,
      "outputs": []
    },
    {
      "cell_type": "code",
      "source": [
        "from lightgbm import LGBMRegressor"
      ],
      "metadata": {
        "id": "gkk84uFzr663"
      },
      "execution_count": null,
      "outputs": []
    },
    {
      "cell_type": "code",
      "source": [
        "data = fetch_california_housing(as_frame=True)\n",
        "\n",
        "X = data.data \n",
        "y = data.target"
      ],
      "metadata": {
        "id": "ovU_nNxQroO3"
      },
      "execution_count": null,
      "outputs": []
    },
    {
      "cell_type": "code",
      "source": [
        "Xtrain, Xtest, ytrain, ytest = train_test_split(X, y, test_size=0.25, random_state=RANDOM_STATE)"
      ],
      "metadata": {
        "id": "W7wTqHnWgJCl"
      },
      "execution_count": null,
      "outputs": []
    },
    {
      "cell_type": "markdown",
      "source": [
        "## Подбор гиперпараметров с Optuna"
      ],
      "metadata": {
        "id": "q7lbcbZ-fiz_"
      }
    },
    {
      "cell_type": "markdown",
      "source": [
        "Разобъем данные на тренировочную и тестовую часть. На тренировочной части по кросс-валидации подберем гиперпараметры моделей, а затем проверим качество на тестовой части."
      ],
      "metadata": {
        "id": "o56djzYIhrKB"
      }
    },
    {
      "cell_type": "code",
      "source": [
        "def objective_lgbm(trial):    \n",
        "    max_depth = trial.suggest_int(\"max_depth\", 2, 20)\n",
        "    learning_rate = trial.suggest_float(\"learning_rate\", 1e-5, 1, log=True)\n",
        "    n_estimators = trial.suggest_int(\"n_estimators\", 10, 1000)\n",
        "\n",
        "    score = cross_val_score(LGBMRegressor(max_depth=max_depth, learning_rate=learning_rate, n_estimators=n_estimators),\n",
        "                            Xtrain, ytrain, cv=3, scoring='r2', n_jobs=-1).mean()\n",
        "    return score\n",
        "\n",
        "\n",
        "study = optuna.create_study(direction=\"maximize\")\n",
        "study.optimize(objective_lgbm, n_trials=30)"
      ],
      "metadata": {
        "colab": {
          "base_uri": "https://localhost:8080/"
        },
        "id": "ZVuWYnXzqlzx",
        "outputId": "2fb655e3-7c69-4645-ebd7-79890b677c87"
      },
      "execution_count": null,
      "outputs": [
        {
          "output_type": "stream",
          "name": "stderr",
          "text": [
            "\u001b[32m[I 2023-03-05 14:38:48,549]\u001b[0m A new study created in memory with name: no-name-74cc1834-2ec8-47d3-a9d8-108acc25d179\u001b[0m\n",
            "\u001b[32m[I 2023-03-05 14:38:51,759]\u001b[0m Trial 0 finished with value: 0.3677673885978045 and parameters: {'max_depth': 6, 'learning_rate': 0.013501587495049401, 'n_estimators': 30}. Best is trial 0 with value: 0.3677673885978045.\u001b[0m\n",
            "\u001b[32m[I 2023-03-05 14:39:02,387]\u001b[0m Trial 1 finished with value: 0.42605147785600367 and parameters: {'max_depth': 10, 'learning_rate': 0.0006579522897687368, 'n_estimators': 759}. Best is trial 1 with value: 0.42605147785600367.\u001b[0m\n",
            "\u001b[32m[I 2023-03-05 14:39:07,830]\u001b[0m Trial 2 finished with value: 0.805802126506022 and parameters: {'max_depth': 13, 'learning_rate': 0.4309027882979761, 'n_estimators': 558}. Best is trial 2 with value: 0.805802126506022.\u001b[0m\n",
            "\u001b[32m[I 2023-03-05 14:39:15,789]\u001b[0m Trial 3 finished with value: 0.13940211792410437 and parameters: {'max_depth': 14, 'learning_rate': 0.00012103562004268691, 'n_estimators': 998}. Best is trial 2 with value: 0.805802126506022.\u001b[0m\n",
            "\u001b[32m[I 2023-03-05 14:39:17,647]\u001b[0m Trial 4 finished with value: 0.7475883211063655 and parameters: {'max_depth': 12, 'learning_rate': 0.8244516649202973, 'n_estimators': 205}. Best is trial 2 with value: 0.805802126506022.\u001b[0m\n",
            "\u001b[32m[I 2023-03-05 14:39:25,984]\u001b[0m Trial 5 finished with value: 0.7498805246667238 and parameters: {'max_depth': 18, 'learning_rate': 0.0026864752749384494, 'n_estimators': 787}. Best is trial 2 with value: 0.805802126506022.\u001b[0m\n",
            "\u001b[32m[I 2023-03-05 14:39:33,277]\u001b[0m Trial 6 finished with value: 0.8388064326250119 and parameters: {'max_depth': 20, 'learning_rate': 0.019658777128390807, 'n_estimators': 928}. Best is trial 6 with value: 0.8388064326250119.\u001b[0m\n",
            "\u001b[32m[I 2023-03-05 14:39:33,490]\u001b[0m Trial 7 finished with value: 0.009065849040956789 and parameters: {'max_depth': 10, 'learning_rate': 0.00039933453998960267, 'n_estimators': 18}. Best is trial 6 with value: 0.8388064326250119.\u001b[0m\n",
            "\u001b[32m[I 2023-03-05 14:39:40,877]\u001b[0m Trial 8 finished with value: 0.8381012609083665 and parameters: {'max_depth': 16, 'learning_rate': 0.01779221832892731, 'n_estimators': 951}. Best is trial 6 with value: 0.8388064326250119.\u001b[0m\n",
            "\u001b[32m[I 2023-03-05 14:39:43,983]\u001b[0m Trial 9 finished with value: 0.017368498029920465 and parameters: {'max_depth': 11, 'learning_rate': 3.888585455676356e-05, 'n_estimators': 354}. Best is trial 6 with value: 0.8388064326250119.\u001b[0m\n",
            "\u001b[32m[I 2023-03-05 14:39:49,967]\u001b[0m Trial 10 finished with value: 0.011104705186674427 and parameters: {'max_depth': 19, 'learning_rate': 1.5378541167423395e-05, 'n_estimators': 572}. Best is trial 6 with value: 0.8388064326250119.\u001b[0m\n",
            "\u001b[32m[I 2023-03-05 14:39:58,440]\u001b[0m Trial 11 finished with value: 0.841073694259069 and parameters: {'max_depth': 20, 'learning_rate': 0.02725172115375004, 'n_estimators': 984}. Best is trial 11 with value: 0.841073694259069.\u001b[0m\n",
            "\u001b[32m[I 2023-03-05 14:40:04,407]\u001b[0m Trial 12 finished with value: 0.8424698591499444 and parameters: {'max_depth': 20, 'learning_rate': 0.05899916444958588, 'n_estimators': 802}. Best is trial 12 with value: 0.8424698591499444.\u001b[0m\n",
            "\u001b[32m[I 2023-03-05 14:40:08,721]\u001b[0m Trial 13 finished with value: 0.8385057747211989 and parameters: {'max_depth': 16, 'learning_rate': 0.13076367543151665, 'n_estimators': 776}. Best is trial 12 with value: 0.8424698591499444.\u001b[0m\n",
            "\u001b[32m[I 2023-03-05 14:40:13,065]\u001b[0m Trial 14 finished with value: 0.8388791995845114 and parameters: {'max_depth': 5, 'learning_rate': 0.09576114452133903, 'n_estimators': 722}. Best is trial 12 with value: 0.8424698591499444.\u001b[0m\n",
            "\u001b[32m[I 2023-03-05 14:40:18,810]\u001b[0m Trial 15 finished with value: 0.8417000772203909 and parameters: {'max_depth': 16, 'learning_rate': 0.07320705352318971, 'n_estimators': 861}. Best is trial 12 with value: 0.8424698591499444.\u001b[0m\n",
            "\u001b[32m[I 2023-03-05 14:40:22,277]\u001b[0m Trial 16 finished with value: 0.8338457696848799 and parameters: {'max_depth': 16, 'learning_rate': 0.16017255768375144, 'n_estimators': 643}. Best is trial 12 with value: 0.8424698591499444.\u001b[0m\n",
            "\u001b[32m[I 2023-03-05 14:40:23,025]\u001b[0m Trial 17 finished with value: 0.5363650020369982 and parameters: {'max_depth': 2, 'learning_rate': 0.004125003582602658, 'n_estimators': 443}. Best is trial 12 with value: 0.8424698591499444.\u001b[0m\n",
            "\u001b[32m[I 2023-03-05 14:40:29,594]\u001b[0m Trial 18 finished with value: 0.8411568725323822 and parameters: {'max_depth': 17, 'learning_rate': 0.06235244018496763, 'n_estimators': 846}. Best is trial 12 with value: 0.8424698591499444.\u001b[0m\n",
            "\u001b[32m[I 2023-03-05 14:40:33,086]\u001b[0m Trial 19 finished with value: 0.8248279011360209 and parameters: {'max_depth': 15, 'learning_rate': 0.28361257169141285, 'n_estimators': 659}. Best is trial 12 with value: 0.8424698591499444.\u001b[0m\n",
            "\u001b[32m[I 2023-03-05 14:40:37,946]\u001b[0m Trial 20 finished with value: 0.7714907698783312 and parameters: {'max_depth': 18, 'learning_rate': 0.6965342336561852, 'n_estimators': 865}. Best is trial 12 with value: 0.8424698591499444.\u001b[0m\n",
            "\u001b[32m[I 2023-03-05 14:40:44,226]\u001b[0m Trial 21 finished with value: 0.84156775847003 and parameters: {'max_depth': 18, 'learning_rate': 0.06093425905057775, 'n_estimators': 865}. Best is trial 12 with value: 0.8424698591499444.\u001b[0m\n",
            "\u001b[32m[I 2023-03-05 14:40:49,514]\u001b[0m Trial 22 finished with value: 0.8423033710071351 and parameters: {'max_depth': 20, 'learning_rate': 0.06721989900076367, 'n_estimators': 897}. Best is trial 12 with value: 0.8424698591499444.\u001b[0m\n",
            "\u001b[32m[I 2023-03-05 14:40:54,543]\u001b[0m Trial 23 finished with value: 0.8294366822192951 and parameters: {'max_depth': 20, 'learning_rate': 0.22694472607761693, 'n_estimators': 682}. Best is trial 12 with value: 0.8424698591499444.\u001b[0m\n",
            "\u001b[32m[I 2023-03-05 14:40:59,745]\u001b[0m Trial 24 finished with value: 0.8428558213228574 and parameters: {'max_depth': 18, 'learning_rate': 0.06301704090957079, 'n_estimators': 898}. Best is trial 24 with value: 0.8428558213228574.\u001b[0m\n",
            "\u001b[32m[I 2023-03-05 14:41:04,574]\u001b[0m Trial 25 finished with value: 0.8113300544507975 and parameters: {'max_depth': 19, 'learning_rate': 0.4018766337554668, 'n_estimators': 903}. Best is trial 24 with value: 0.8428558213228574.\u001b[0m\n",
            "\u001b[32m[I 2023-03-05 14:41:08,894]\u001b[0m Trial 26 finished with value: 0.8366742328973839 and parameters: {'max_depth': 8, 'learning_rate': 0.038336113675892444, 'n_estimators': 448}. Best is trial 24 with value: 0.8428558213228574.\u001b[0m\n",
            "\u001b[32m[I 2023-03-05 14:41:14,843]\u001b[0m Trial 27 finished with value: 0.8243582961799761 and parameters: {'max_depth': 14, 'learning_rate': 0.008229973869405077, 'n_estimators': 805}. Best is trial 24 with value: 0.8428558213228574.\u001b[0m\n",
            "\u001b[32m[I 2023-03-05 14:41:18,794]\u001b[0m Trial 28 finished with value: 0.8411528046785864 and parameters: {'max_depth': 18, 'learning_rate': 0.04713250312652176, 'n_estimators': 586}. Best is trial 24 with value: 0.8428558213228574.\u001b[0m\n",
            "\u001b[32m[I 2023-03-05 14:41:22,028]\u001b[0m Trial 29 finished with value: 0.7778667436544464 and parameters: {'max_depth': 20, 'learning_rate': 0.00934578165915294, 'n_estimators': 285}. Best is trial 24 with value: 0.8428558213228574.\u001b[0m\n"
          ]
        }
      ]
    },
    {
      "cell_type": "code",
      "source": [
        "study.best_params"
      ],
      "metadata": {
        "colab": {
          "base_uri": "https://localhost:8080/"
        },
        "id": "beUZXBdUtLsT",
        "outputId": "24ed860e-05a7-43c1-9083-26b4a1848e87"
      },
      "execution_count": null,
      "outputs": [
        {
          "output_type": "execute_result",
          "data": {
            "text/plain": [
              "{'max_depth': 18, 'learning_rate': 0.06301704090957079, 'n_estimators': 898}"
            ]
          },
          "metadata": {},
          "execution_count": 10
        }
      ]
    },
    {
      "cell_type": "code",
      "source": [
        "model = LGBMRegressor(**study.best_params)\n",
        "model.fit(Xtrain, ytrain)\n",
        "\n",
        "pred = model.predict(Xtest)\n",
        "\n",
        "r2_score(ytest, pred)"
      ],
      "metadata": {
        "colab": {
          "base_uri": "https://localhost:8080/"
        },
        "id": "ecgWbLiRgruR",
        "outputId": "c63d48c1-bb42-4351-c76c-824673b56809"
      },
      "execution_count": null,
      "outputs": [
        {
          "output_type": "execute_result",
          "data": {
            "text/plain": [
              "0.8542513730157428"
            ]
          },
          "metadata": {},
          "execution_count": 11
        }
      ]
    }
  ]
}